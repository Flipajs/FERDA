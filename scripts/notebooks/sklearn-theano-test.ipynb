{
 "cells": [
  {
   "cell_type": "code",
   "execution_count": 6,
   "metadata": {
    "collapsed": true
   },
   "outputs": [],
   "source": [
    "import numpy as np\n",
    "import matplotlib.pyplot as plt\n",
    "from sklearn_theano.datasets import load_sample_image\n",
    "from sklearn_theano.feature_extraction import OverfeatLocalizer, OverfeatTransformer\n",
    "from sklearn.mixture import GMM\n",
    "import cv2\n",
    "import time"
   ]
  },
  {
   "cell_type": "code",
   "execution_count": 11,
   "metadata": {},
   "outputs": [
    {
     "name": "stdout",
     "output_type": "stream",
     "text": [
      "1.09502291679\n6.48498535156e-05\n(1, 1000)\n"
     ]
    }
   ],
   "source": [
    "oft = OverfeatTransformer()\n",
    "X2 = cv2.imread('/Users/flipajs/Desktop/Screen Shot 2016-10-10 at 11.06.20.png')\n",
    "X3 = cv2.imread('/Users/flipajs/Desktop/Screen Shot 2016-10-10 at 11.06.25.png')\n",
    "\n",
    "oft = OverfeatTransformer()\n",
    "\n",
    "# f = oft.transform(X)\n",
    "t = time.time()\n",
    "f2 = oft.transform(X2)\n",
    "print time.time() - t\n",
    "t = time.time()\n",
    "# f3 = oft.transform(X3)\n",
    "print time.time() - t\n",
    "print f2.shape\n",
    "# print f3.shape"
   ]
  },
  {
   "cell_type": "code",
   "execution_count": 19,
   "metadata": {},
   "outputs": [],
   "source": [
    ""
   ]
  },
  {
   "cell_type": "code",
   "execution_count": null,
   "metadata": {},
   "outputs": [],
   "source": [
    ""
   ]
  }
 ],
 "metadata": {
  "kernelspec": {
   "display_name": "Python 2",
   "language": "python",
   "name": "python2"
  },
  "language_info": {
   "codemirror_mode": {
    "name": "ipython",
    "version": 2.0
   },
   "file_extension": ".py",
   "mimetype": "text/x-python",
   "name": "python",
   "nbconvert_exporter": "python",
   "pygments_lexer": "ipython2",
   "version": "2.7.6"
  }
 },
 "nbformat": 4,
 "nbformat_minor": 0
}