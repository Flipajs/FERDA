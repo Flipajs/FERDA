{
 "cells": [
  {
   "cell_type": "code",
   "execution_count": 17,
   "metadata": {
    "collapsed": true
   },
   "outputs": [],
   "source": [
    "import numpy as np\n",
    "import matplotlib.pyplot as plt\n",
    "from sklearn_theano.datasets import load_sample_image\n",
    "from sklearn_theano.feature_extraction import OverfeatLocalizer, OverfeatTransformer\n",
    "from sklearn.mixture import GMM"
   ]
  },
  {
   "cell_type": "code",
   "execution_count": 18,
   "metadata": {},
   "outputs": [],
   "source": [
    "X = load_sample_image(\"cat_and_dog.jpg\")\n",
    "dog_label = 'dog.n.01'\n",
    "cat_label = 'cat.n.01'\n",
    "\n",
    "oft = OverfeatTransformer()\n",
    "\n",
    "#clf = OverfeatLocalizer(top_n=1,\n",
    "#                        match_strings=[dog_label, cat_label])\n",
    "#points = clf.predict(X)\n",
    "#dog_points = points[0]\n",
    "#cat_points = points[1]"
   ]
  },
  {
   "cell_type": "code",
   "execution_count": 19,
   "metadata": {},
   "outputs": [],
   "source": [
    ""
   ]
  },
  {
   "cell_type": "code",
   "execution_count": null,
   "metadata": {},
   "outputs": [],
   "source": [
    ""
   ]
  }
 ],
 "metadata": {
  "kernelspec": {
   "display_name": "Python 2",
   "language": "python",
   "name": "python2"
  },
  "language_info": {
   "codemirror_mode": {
    "name": "ipython",
    "version": 2.0
   },
   "file_extension": ".py",
   "mimetype": "text/x-python",
   "name": "python",
   "nbconvert_exporter": "python",
   "pygments_lexer": "ipython2",
   "version": "2.7.6"
  }
 },
 "nbformat": 4,
 "nbformat_minor": 0
}