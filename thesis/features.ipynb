{
 "cells": [
  {
   "cell_type": "code",
   "execution_count": 12,
   "metadata": {
    "collapsed": true
   },
   "outputs": [
    {
     "name": "stdout",
     "output_type": "stream",
     "text": [
      "PROJECTS:\nSowbug3\nCam1\nCamera3\nZebrafish\n\nCONFIG:\n{'rf_class_weight': 'balanced_subsample',\n 'rf_criterion': 'entropy',\n 'seed': 42,\n 'test_split_method': 'random'}\n"
     ]
    }
   ],
   "source": [
    "import cPickle as pickle\n",
    "import numpy as np\n",
    "from pprint import pprint\n",
    "\n",
    "with open('thesis/results/features_2016-12-14_10-15-43.pkl') as f:\n",
    "    data, configuration = pickle.load(f)\n",
    "\n",
    "print \"PROJECTS:\"\n",
    "for p_name in data.iterkeys():\n",
    "    print p_name\n",
    "\n",
    "print\n",
    "print \"CONFIG:\"\n",
    "pprint(configuration)"
   ]
  },
  {
   "cell_type": "code",
   "execution_count": 22,
   "metadata": {},
   "outputs": [
    {
     "name": "stdout",
     "output_type": "stream",
     "text": [
      "['Sowbug3', 'Cam1', 'Camera3', 'Zebrafish']\n[0.95, 0.9, 0.8, 0.99]\n['fm_lbp ', 'fm_colornames ', 'fm_idtracker_c_d50 ', 'fm_idtracker_i_d50 ', 'fm_basic ', 'fm_hog ']\n"
     ]
    }
   ],
   "source": [
    "p_names = filter(lambda x: x != 'layer', [p for p in data.iterkeys()])\n",
    "print p_names\n",
    "splits = filter(lambda x: x != 'layer', [s for s in data[p_names[0]].iterkeys()])\n",
    "print splits\n",
    "features = filter(lambda x: x!= 'layer', [f for f in data[p_names[0]][splits[0]].iterkeys()])\n",
    "print features\n",
    "\n",
    "# for p_name, data in data.iteritems():\n",
    "#     print p_name"
   ]
  },
  {
   "cell_type": "code",
   "execution_count": 100,
   "metadata": {},
   "outputs": [
    {
     "name": "stdout",
     "output_type": "stream",
     "text": [
      "\n\\begin {table}[H] \\caption {Features performance, trained on 20\\% (\\#regions displayed under dataset names), randomly picked} \\label{tab:features_accuracy_80} \\begin{center}\\begin{tabular}{lllll}\n\\hline\n             & \\textbf{Sowbug3}     & \\textbf{Cam1}        & \\textbf{Camera3}     & \\textbf{Zebrafish}   \\\\\n             & 8386        & 7639        & 11701       & 20925       \\\\\n \\textbf{lbp }        & 0.7 (.005)  & 0.52 (.007) & 0.4 (.007)  & 0.39 (.003) \\\\\n \\textbf{colornames } & 0.82 (.007) & 0.79 (.008) & 0.7 (.004)  & 0.59 (.004) \\\\\n \\textbf{idtracker C} & 0.79 (.005) & 0.89 (.004) & 0.82 (.006) & 0.82 (.004) \\\\\n \\textbf{idtracker I} & 0.82 (.006) & 0.92 (.003) & 0.85 (.007) & 0.88 (.004) \\\\\n \\textbf{basic }      & 0.87 (.004) & 0.79 (.004) & 0.64 (.003) & 0.68 (.004) \\\\\n \\textbf{hog }        & 0.69 (.007) & 0.51 (.006) & 0.4 (.004)  & 0.39 (.002) \\\\\n\\hline\n\\end{tabular}\\end{center}\\end {table}\n\n\n\\begin {table}[H] \\caption {Features performance, trained on 10\\% (\\#regions displayed under dataset names), randomly picked} \\label{tab:features_accuracy_90} \\begin{center}\\begin{tabular}{lllll}\n\\hline\n             & \\textbf{Sowbug3}     & \\textbf{Cam1}        & \\textbf{Camera3}     & \\textbf{Zebrafish}   \\\\\n             & 8386        & 7639        & 11701       & 20925       \\\\\n \\textbf{lbp }        & 0.65 (.007) & 0.47 (.012) & 0.35 (.005) & 0.37 (.004) \\\\\n \\textbf{colornames } & 0.78 (.007) & 0.75 (.011) & 0.64 (.007) & 0.57 (.004) \\\\\n \\textbf{idtracker C} & 0.76 (.011) & 0.87 (.003) & 0.79 (.005) & 0.79 (.005) \\\\\n \\textbf{idtracker I} & 0.79 (.004) & 0.9 (.006)  & 0.8 (.008)  & 0.85 (.005) \\\\\n \\textbf{basic }      & 0.84 (.008) & 0.76 (.007) & 0.61 (.003) & 0.66 (.004) \\\\\n \\textbf{hog }        & 0.65 (.009) & 0.47 (.013) & 0.35 (.004) & 0.37 (.005) \\\\\n\\hline\n\\end{tabular}\\end{center}\\end {table}\n\n\n\\begin {table}[H] \\caption {Features performance, trained on 5\\% (\\#regions displayed under dataset names), randomly picked} \\label{tab:features_accuracy_95} \\begin{center}\\begin{tabular}{lllll}\n\\hline\n             & \\textbf{Sowbug3}     & \\textbf{Cam1}        & \\textbf{Camera3}     & \\textbf{Zebrafish}   \\\\\n             & 8386        & 7639        & 11701       & 20925       \\\\\n \\textbf{lbp }        & 0.6 (.013)  & 0.42 (.012) & 0.32 (.008) & 0.35 (.006) \\\\\n \\textbf{colornames } & 0.74 (.007) & 0.69 (.011) & 0.57 (.008) & 0.54 (.006) \\\\\n \\textbf{idtracker C} & 0.72 (.009) & 0.84 (.009) & 0.75 (.007) & 0.76 (.005) \\\\\n \\textbf{idtracker I} & 0.75 (.010) & 0.87 (.004) & 0.73 (.014) & 0.82 (.008) \\\\\n \\textbf{basic }      & 0.81 (.011) & 0.72 (.009) & 0.58 (.010) & 0.64 (.006) \\\\\n \\textbf{hog }        & 0.6 (.009)  & 0.42 (.009) & 0.31 (.008) & 0.35 (.004) \\\\\n\\hline\n\\end{tabular}\\end{center}\\end {table}\n\n\n\\begin {table}[H] \\caption {Features performance, trained on 1\\% (\\#regions displayed under dataset names), randomly picked} \\label{tab:features_accuracy_99} \\begin{center}\\begin{tabular}{lllll}\n\\hline\n             & \\textbf{Sowbug3}     & \\textbf{Cam1}        & \\textbf{Camera3}     & \\textbf{Zebrafish}   \\\\\n             & 8386        & 7639        & 11701       & 20925       \\\\\n \\textbf{lbp }        & 0.47 (.013) & 0.32 (.020) & 0.22 (.013) & 0.29 (.012) \\\\\n \\textbf{colornames } & 0.63 (.026) & 0.53 (.035) & 0.38 (.018) & 0.46 (.018) \\\\\n \\textbf{idtracker C} & 0.61 (.016) & 0.76 (.021) & 0.59 (.022) & 0.65 (.017) \\\\\n \\textbf{idtracker I} & 0.65 (.020) & 0.78 (.021) & 0.54 (.022) & 0.7 (.017)  \\\\\n \\textbf{basic }      & 0.7 (.024)  & 0.57 (.025) & 0.48 (.013) & 0.58 (.013) \\\\\n \\textbf{hog }        & 0.47 (.014) & 0.33 (.023) & 0.22 (.010) & 0.29 (.012) \\\\\n\\hline\n\\end{tabular}\\end{center}\\end {table}\n\n"
     ]
    }
   ],
   "source": [
    "from tabulate import tabulate\n",
    "\n",
    "splits = sorted(splits)\n",
    "for split in splits:\n",
    "    # print \"------- \", split, \" -------\"\n",
    "    \n",
    "    make_bold = []\n",
    "    \n",
    "    # +2 - caption + dataset size\n",
    "    table = [[] for _ in range(len(features) + 2)]\n",
    "    i = 0\n",
    "    table[i].append('')\n",
    "    for p_name in p_names:\n",
    "        table[i].append(p_name)\n",
    "        make_bold.append(p_name)\n",
    "    \n",
    "    i += 1\n",
    "    table[i].append('')\n",
    "    for p_name in p_names:\n",
    "        table[i].append(data[p_name][split][features[0]]['X_shape'][0])\n",
    "        \n",
    "    keys = []\n",
    "    \n",
    "    sample_sizes = []\n",
    "    \n",
    "    for feat in features:\n",
    "        i += 1\n",
    "        # remove fm_ p\n",
    "        f = '_'.join(feat.split('_')[1:])\n",
    "        \n",
    "        sample_sizes.append(data[p_name][split][feat]['X_shape'][0])\n",
    "        \n",
    "        if f[:6] == 'idtrac':\n",
    "            f = f[:-5]\n",
    "            if f[-1] == 'c':\n",
    "                f = f[:-2]+' C'\n",
    "            else:\n",
    "                f = f[:-2]+' I'\n",
    "        \n",
    "        table[i].append(f)\n",
    "        make_bold.append(f)\n",
    "\n",
    "        for p_name in p_names:\n",
    "            it = data[p_name][split][feat]\n",
    "            if isinstance(it, dict):\n",
    "                std = \"{:.3f}\".format(np.std(it['accuracy']))\n",
    "                s = \"{:.2}\".format(np.mean(it['accuracy'])) \n",
    "                s += \" (\"+std[1:]+\")\"\n",
    "                table[i].append(s)\n",
    "                \n",
    "    \n",
    "    print\n",
    "    from math import ceil\n",
    "    num_runs = len(data[p_name][split][feat]['class_frequency'])\n",
    "    num_regions = np.mean(sample_sizes)\n",
    "    num_train = int((1-split)*num_regions)\n",
    "    \n",
    "    title = \"Features performance, trained on {}\\% (\\#regions displayed under dataset names), randomly picked\".format(int(100 - (100*split)))\n",
    "    label = 'features_accuracy_'+str(int(split*100))\n",
    "    \n",
    "    s = tabulate(table, tablefmt='latex')\n",
    "    pre = '\\\\begin {table}[H] \\\\caption {'+title+'} \\\\label{tab:'+label+'} \\\\begin{center}'\n",
    "    post = '\\\\end{center}\\\\end {table}'\n",
    "    for t in make_bold:\n",
    "        s = s.replace(t, '\\\\textbf{'+t+'}')\n",
    "    s = pre + s + post\n",
    "    print s\n",
    "    print"
   ]
  },
  {
   "cell_type": "code",
   "execution_count": null,
   "metadata": {},
   "outputs": [],
   "source": [
    ""
   ]
  }
 ],
 "metadata": {
  "kernelspec": {
   "display_name": "Python 2",
   "language": "python",
   "name": "python2"
  },
  "language_info": {
   "codemirror_mode": {
    "name": "ipython",
    "version": 2.0
   },
   "file_extension": ".py",
   "mimetype": "text/x-python",
   "name": "python",
   "nbconvert_exporter": "python",
   "pygments_lexer": "ipython2",
   "version": "2.7.6"
  }
 },
 "nbformat": 4,
 "nbformat_minor": 0
}