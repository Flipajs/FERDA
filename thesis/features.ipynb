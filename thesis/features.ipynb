{
 "cells": [
  {
   "cell_type": "code",
   "execution_count": 12,
   "metadata": {
    "collapsed": true
   },
   "outputs": [
    {
     "name": "stdout",
     "output_type": "stream",
     "text": [
      "PROJECTS:\nSowbug3\nCam1\nCamera3\nZebrafish\n\nCONFIG:\n{'rf_class_weight': 'balanced_subsample',\n 'rf_criterion': 'entropy',\n 'seed': 42,\n 'test_split_method': 'random'}\n"
     ]
    }
   ],
   "source": [
    "import cPickle as pickle\n",
    "import numpy as np\n",
    "from pprint import pprint\n",
    "\n",
    "with open('thesis/results/features_2016-12-14_10-15-43.pkl') as f:\n",
    "    data, configuration = pickle.load(f)\n",
    "\n",
    "print \"PROJECTS:\"\n",
    "for p_name in data.iterkeys():\n",
    "    print p_name\n",
    "\n",
    "print\n",
    "print \"CONFIG:\"\n",
    "pprint(configuration)"
   ]
  },
  {
   "cell_type": "code",
   "execution_count": 22,
   "metadata": {},
   "outputs": [
    {
     "name": "stdout",
     "output_type": "stream",
     "text": [
      "['Sowbug3', 'Cam1', 'Camera3', 'Zebrafish']\n[0.95, 0.9, 0.8, 0.99]\n['fm_lbp ', 'fm_colornames ', 'fm_idtracker_c_d50 ', 'fm_idtracker_i_d50 ', 'fm_basic ', 'fm_hog ']\n"
     ]
    }
   ],
   "source": [
    "p_names = filter(lambda x: x != 'layer', [p for p in data.iterkeys()])\n",
    "print p_names\n",
    "splits = filter(lambda x: x != 'layer', [s for s in data[p_names[0]].iterkeys()])\n",
    "print splits\n",
    "features = filter(lambda x: x!= 'layer', [f for f in data[p_names[0]][splits[0]].iterkeys()])\n",
    "print features\n",
    "\n",
    "# for p_name, data in data.iteritems():\n",
    "#     print p_name"
   ]
  },
  {
   "cell_type": "code",
   "execution_count": null,
   "metadata": {},
   "outputs": [],
   "source": [
    "from tabulate import tabulate\n",
    "\n",
    "for split in splits:\n",
    "    print \"------- \", split, \" -------\"\n",
    "    \n",
    "    table = []\n",
    "    i = 0\n",
    "    table.append([''])\n",
    "    keys = []\n",
    "    for feat in features:\n",
    "        # remove fm_ p\n",
    "        f = '_'.join(feat.split('_')[1:])\n",
    "        table[i].append(f)\n",
    "        keys.append(f)\n",
    "        \n",
    "    for p_name in p_names:\n",
    "        i += 1\n",
    "        print \"###\", p_name, \"###\"\n",
    "        table.append([p_name])\n",
    "        keys.append(p_name)\n",
    "        for feat in features:\n",
    "            it = data[p_name][split][feat]\n",
    "                \n",
    "            if isinstance(it, dict):\n",
    "                s = \"{:.2%} ({:.4f})\".format(np.mean(it['accuracy']), np.std(it['accuracy']))\n",
    "                table[i].append(s)\n",
    "                # print feat, \"\\t\", s\n",
    "    \n",
    "    print\n",
    "    print tabulate(table, tablefmt='plain')\n",
    "    print"
   ]
  },
  {
   "cell_type": "code",
   "execution_count": 20,
   "metadata": {},
   "outputs": [
    {
     "name": "stdout",
     "output_type": "stream",
     "text": [
      "[0.95, 'layer', 0.9, 0.8, 0.99]\n"
     ]
    }
   ],
   "source": [
    "print data['Sowbug3'].keys()"
   ]
  },
  {
   "cell_type": "code",
   "execution_count": null,
   "metadata": {},
   "outputs": [],
   "source": [
    ""
   ]
  }
 ],
 "metadata": {
  "kernelspec": {
   "display_name": "Python 2",
   "language": "python",
   "name": "python2"
  },
  "language_info": {
   "codemirror_mode": {
    "name": "ipython",
    "version": 2.0
   },
   "file_extension": ".py",
   "mimetype": "text/x-python",
   "name": "python",
   "nbconvert_exporter": "python",
   "pygments_lexer": "ipython2",
   "version": "2.7.6"
  }
 },
 "nbformat": 4,
 "nbformat_minor": 0
}