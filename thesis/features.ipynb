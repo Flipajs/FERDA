{
 "cells": [
  {
   "cell_type": "code",
   "execution_count": 5,
   "metadata": {
    "collapsed": true
   },
   "outputs": [
    {
     "name": "stdout",
     "output_type": "stream",
     "text": [
      "PROJECTS:\nSowbug3\nCam1\nCamera3\nZebrafish\n\nCONFIG:\n{'rf_class_weight': 'balanced_subsample',\n 'rf_criterion': 'entropy',\n 'seed': 42,\n 'test_split_method': 'random'}\n"
     ]
    }
   ],
   "source": [
    "import cPickle as pickle\n",
    "import numpy as np\n",
    "from pprint import pprint\n",
    "\n",
    "with open('thesis/results/features_2016-12-14_10-15-43.pkl') as f:\n",
    "    data, configuration = pickle.load(f)\n",
    "\n",
    "print \"PROJECTS:\"\n",
    "for p_name in data.iterkeys():\n",
    "    print p_name\n",
    "\n",
    "print\n",
    "print \"CONFIG:\"\n",
    "pprint(configuration)"
   ]
  },
  {
   "cell_type": "code",
   "execution_count": 6,
   "metadata": {},
   "outputs": [
    {
     "name": "stdout",
     "output_type": "stream",
     "text": [
      "['Sowbug3', 'Cam1', 'Camera3', 'Zebrafish']\n[0.95, 0.9, 0.8, 0.99]\n['fm_lbp ', 'fm_colornames ', 'fm_idtracker_c_d50 ', 'fm_idtracker_i_d50 ', 'fm_basic ', 'fm_hog ']\n"
     ]
    }
   ],
   "source": [
    "p_names = filter(lambda x: x != 'layer', [p for p in data.iterkeys()])\n",
    "print p_names\n",
    "splits = filter(lambda x: x != 'layer', [s for s in data[p_names[0]].iterkeys()])\n",
    "print splits\n",
    "features = filter(lambda x: x!= 'layer', [f for f in data[p_names[0]][splits[0]].iterkeys()])\n",
    "print features\n",
    "\n",
    "# for p_name, data in data.iteritems():\n",
    "#     print p_name"
   ]
  },
  {
   "cell_type": "code",
   "execution_count": 11,
   "metadata": {},
   "outputs": [
    {
     "name": "stdout",
     "output_type": "stream",
     "text": [
      "\n\\begin {table}[H] \\caption {Features performance, trained on 20\\% (\\#regions displayed under dataset names), randomly picked} \\label{tab:features_accuracy_80} \\begin{center}\\begin{tabular}{lllll}\n\\hline\n             & \\textbf{Sowbug3}     & \\textbf{Cam1}        & \\textbf{Camera3}     & \\textbf{Zebrafish}   \\\\\n             & 8386        & 7639        & 11701       & 20925       \\\\\n \\textbf{lbp }        & 69.8 (0.52) & 51.7 (0.66) & 39.9 (0.69) & 38.8 (0.33) \\\\\n \\textbf{colornames } & 81.9 (0.67) & 78.8 (0.79) & 70.2 (0.42) & 59.3 (0.35) \\\\\n \\textbf{idtracker C} & 79.2 (0.52) & 89.0 (0.35) & 82.5 (0.60) & 81.9 (0.42) \\\\\n \\textbf{idtracker I} & 82.3 (0.57) & \\textbf{91.9 (0.33)} & \\textbf{84.8 (0.71)} & \\textbf{87.9 (0.44)} \\\\\n \\textbf{basic }      & \\textbf{87.1 (0.45)} & 79.5 (0.43) & 64.2 (0.32) & 67.5 (0.36) \\\\\n \\textbf{hog }        & 69.4 (0.65) & 51.2 (0.58) & 39.7 (0.40) & 39.1 (0.21) \\\\\n\\hline\n\\end{tabular}\\end{center}\\end {table}\n\n\n\\begin {table}[H] \\caption {Features performance, trained on 10\\% (\\#regions displayed under dataset names), randomly picked} \\label{tab:features_accuracy_90} \\begin{center}\\begin{tabular}{lllll}\n\\hline\n             & \\textbf{Sowbug3}     & \\textbf{Cam1}        & \\textbf{Camera3}     & \\textbf{Zebrafish}   \\\\\n             & 8386        & 7639        & 11701       & 20925       \\\\\n \\textbf{lbp }        & 65.0 (0.65) & 47.4 (1.19) & 34.7 (0.47) & 37.0 (0.45) \\\\\n \\textbf{colornames } & 78.0 (0.71) & 74.9 (1.11) & 64.1 (0.70) & 56.7 (0.37) \\\\\n \\textbf{idtracker C} & 75.7 (1.06) & 86.8 (0.30) & 78.9 (0.49) & 79.1 (0.50) \\\\\n \\textbf{idtracker I} & 78.8 (0.43) & \\textbf{89.8 (0.55)} & \\textbf{79.8 (0.77)} & \\textbf{85.0 (0.50)} \\\\\n \\textbf{basic }      & \\textbf{84.0 (0.80)} & 75.9 (0.70) & 61.3 (0.31) & 65.7 (0.45) \\\\\n \\textbf{hog }        & 64.6 (0.86) & 47.0 (1.33) & 35.4 (0.44) & 37.1 (0.49) \\\\\n\\hline\n\\end{tabular}\\end{center}\\end {table}\n\n\n\\begin {table}[H] \\caption {Features performance, trained on 5\\% (\\#regions displayed under dataset names), randomly picked} \\label{tab:features_accuracy_95} \\begin{center}\\begin{tabular}{lllll}\n\\hline\n             & \\textbf{Sowbug3}     & \\textbf{Cam1}        & \\textbf{Camera3}     & \\textbf{Zebrafish}   \\\\\n             & 8386        & 7639        & 11701       & 20925       \\\\\n \\textbf{lbp }        & 59.8 (1.29) & 42.0 (1.18) & 31.6 (0.80) & 34.8 (0.60) \\\\\n \\textbf{colornames } & 73.5 (0.74) & 69.3 (1.13) & 56.8 (0.84) & 54.0 (0.55) \\\\\n \\textbf{idtracker C} & 71.7 (0.88) & 84.4 (0.94) & \\textbf{75.1 (0.73)} & 76.3 (0.49) \\\\\n \\textbf{idtracker I} & 74.7 (1.01) & \\textbf{87.4 (0.44)} & 73.2 (1.37) & \\textbf{81.8 (0.79)} \\\\\n \\textbf{basic }      & \\textbf{80.9 (1.05)} & 71.9 (0.92) & 57.5 (0.97) & 64.0 (0.58) \\\\\n \\textbf{hog }        & 59.9 (0.86) & 42.1 (0.90) & 31.1 (0.77) & 34.6 (0.45) \\\\\n\\hline\n\\end{tabular}\\end{center}\\end {table}\n\n\n\\begin {table}[H] \\caption {Features performance, trained on 1\\% (\\#regions displayed under dataset names), randomly picked} \\label{tab:features_accuracy_99} \\begin{center}\\begin{tabular}{lllll}\n\\hline\n             & \\textbf{Sowbug3}     & \\textbf{Cam1}        & \\textbf{Camera3}     & \\textbf{Zebrafish}   \\\\\n             & 8386        & 7639        & 11701       & 20925       \\\\\n \\textbf{lbp }        & 46.9 (1.34) & 32.4 (2.00) & 22.4 (1.35) & 28.6 (1.19) \\\\\n \\textbf{colornames } & 63.2 (2.62) & 52.9 (3.52) & 38.3 (1.78) & 45.6 (1.79) \\\\\n \\textbf{idtracker C} & 61.0 (1.65) & 76.4 (2.05) & \\textbf{59.1 (2.18)} & 65.2 (1.73) \\\\\n \\textbf{idtracker I} & 65.2 (2.04) & \\textbf{78.3 (2.13)} & 53.6 (2.19) & \\textbf{70.2 (1.70)} \\\\\n \\textbf{basic }      & \\textbf{69.9 (2.42)} & 57.3 (2.54) & 48.0 (1.34) & 57.8 (1.31) \\\\\n \\textbf{hog }        & 47.4 (1.44) & 32.9 (2.31) & 21.8 (0.98) & 28.7 (1.23) \\\\\n\\hline\n\\end{tabular}\\end{center}\\end {table}\n\n"
     ]
    }
   ],
   "source": [
    "from tabulate import tabulate\n",
    "with open('thesis/out/tables/experiments_features_tables1.tex', 'w+') as out_f:\n",
    "    splits = sorted(splits)\n",
    "    for split in splits:\n",
    "        # print \"------- \", split, \" -------\"\n",
    "        \n",
    "        make_bold = []\n",
    "        \n",
    "        # +2 - caption + dataset size\n",
    "        caption_offset = 2\n",
    "        table = [[] for _ in range(len(features) + caption_offset)]\n",
    "        i = 0\n",
    "        table[i].append('')\n",
    "        for p_name in p_names:\n",
    "            table[i].append(p_name)\n",
    "            make_bold.append(p_name)\n",
    "        \n",
    "        i += 1\n",
    "        table[i].append('')\n",
    "        for p_name in p_names:\n",
    "            table[i].append(data[p_name][split][features[0]]['X_shape'][0])\n",
    "            \n",
    "        keys = []\n",
    "        \n",
    "        sample_sizes = []\n",
    "        \n",
    "        for feat in features:\n",
    "            i += 1\n",
    "            # remove fm_ p\n",
    "            f = '_'.join(feat.split('_')[1:])\n",
    "            \n",
    "            sample_sizes.append(data[p_name][split][feat]['X_shape'][0])\n",
    "            \n",
    "            if f[:6] == 'idtrac':\n",
    "                f = f[:-5]\n",
    "                if f[-1] == 'c':\n",
    "                    f = f[:-2]+' C'\n",
    "                else:\n",
    "                    f = f[:-2]+' I'\n",
    "            \n",
    "            table[i].append(f)\n",
    "            make_bold.append(f)\n",
    "    \n",
    "            for p_name in p_names:\n",
    "                it = data[p_name][split][feat]\n",
    "                if isinstance(it, dict):\n",
    "                    std = \"{:.2f}\".format(np.std(it['accuracy']) * 100)\n",
    "                    s = \"{:.1f}\".format(np.mean(it['accuracy']) * 100) \n",
    "                    s += \" (\"+std+\")\"\n",
    "                    table[i].append(s)\n",
    "                    \n",
    "        \n",
    "        print\n",
    "        from math import ceil\n",
    "        num_runs = len(data[p_name][split][feat]['class_frequency'])\n",
    "        num_regions = np.mean(sample_sizes)\n",
    "        num_train = int((1-split)*num_regions)\n",
    "        \n",
    "        title = \"Features performance, trained on {}\\% (\\#regions displayed under dataset names), randomly picked\".format(int(100 - (100*split)))\n",
    "        label = 'features_accuracy_'+str(int(split*100))\n",
    "        \n",
    "        \n",
    "        \n",
    "        ### best in col\n",
    "        table = np.array(table)\n",
    "        tab = table[2:, 1:].copy()\n",
    "        for i in range(tab.shape[0]):\n",
    "            for j in range(tab.shape[1]):\n",
    "                tab[i, j] = float(tab[i, j].split(' ')[0]) \n",
    "        \n",
    "        tab = np.asarray(tab, dtype=np.float)\n",
    "        amax = np.argmax(tab, axis=0)\n",
    "        \n",
    "        best_ = [table[id_+caption_offset, i+1] for i, id_ in enumerate(amax)]\n",
    "        make_bold.extend(best_)\n",
    "        \n",
    "        s = tabulate(table, tablefmt='latex')\n",
    "        pre = '\\\\begin {table}[H] \\\\caption {'+title+'} \\\\label{tab:'+label+'} \\\\begin{center}'\n",
    "        post = '\\\\end{center}\\\\end {table}'\n",
    "        for t in make_bold:\n",
    "            s = s.replace(t, '\\\\textbf{'+t+'}')\n",
    "        s = pre + s + post\n",
    "        \n",
    "        out_f.write(s)\n",
    "        out_f.write(\"\\n\\n\")\n",
    "            \n",
    "        print s\n",
    "        print"
   ]
  },
  {
   "cell_type": "code",
   "execution_count": null,
   "metadata": {},
   "outputs": [],
   "source": [
    ""
   ]
  }
 ],
 "metadata": {
  "kernelspec": {
   "display_name": "Python 2",
   "language": "python",
   "name": "python2"
  },
  "language_info": {
   "codemirror_mode": {
    "name": "ipython",
    "version": 2.0
   },
   "file_extension": ".py",
   "mimetype": "text/x-python",
   "name": "python",
   "nbconvert_exporter": "python",
   "pygments_lexer": "ipython2",
   "version": "2.7.6"
  }
 },
 "nbformat": 4,
 "nbformat_minor": 0
}