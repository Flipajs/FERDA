{
 "cells": [
  {
   "cell_type": "code",
   "execution_count": null,
   "metadata": {},
   "outputs": [],
   "source": [
    "%matplotlib inline\n",
    "import matplotlib.pylab as plt\n",
    "import numpy as np\n",
    "from keras import objectives\n",
    "from keras import backend as K\n",
    "from keras import losses\n",
    "import tensorflow as tf\n",
    "import interactions_results\n",
    "import train_interactions"
   ]
  },
  {
   "cell_type": "code",
   "execution_count": null,
   "metadata": {},
   "outputs": [],
   "source": [
    "OBJ_IDS = ['1', '2']\n",
    "\n",
    "COLUMNS_MAP = [('x', 'ant%s_x'),\n",
    "       ('y', 'ant%s_y'),\n",
    "       ('major', 'ant%s_major'),\n",
    "       ('minor', 'ant%s_minor'),\n",
    "       ('angle_deg', 'ant%s_angle_deg'),\n",
    "       ('dx', 'ant%s_dx'),\n",
    "       ('dy', 'ant%s_dy'),\n",
    "       ]\n",
    "\n",
    "COL = dict(COLUMNS_MAP)\n",
    "NAMES = reduce(list.__add__, [[value % i for key, value in COLUMNS_MAP] for i in OBJ_IDS])\n",
    "COL2ID = {key: i for i, (key, value) in enumerate(COLUMNS_MAP)}"
   ]
  },
  {
   "cell_type": "code",
   "execution_count": null,
   "metadata": {},
   "outputs": [],
   "source": [
    "COL2ID"
   ]
  },
  {
   "cell_type": "code",
   "execution_count": null,
   "metadata": {},
   "outputs": [],
   "source": [
    "def angle_absolute_error(y_true, y_pred, backend, scaler=None):\n",
    "    if scaler is not None:\n",
    "        # y_pred_ = scaler.inverse_transform(y_pred[:, 4:5])  # this doesn't work with Tensors\n",
    "        y_pred_ = y_pred[:, 4:5] * scaler[1] + scaler[0]\n",
    "    else:\n",
    "        y_pred_ = y_pred[:, 4:5]\n",
    "    val = backend.abs(y_pred_ - y_true[:, 4:5]) % 180\n",
    "    return backend.minimum(val, 180 - val)\n",
    "\n",
    "\n",
    "def xy_absolute_error(y_true, y_pred, backend):\n",
    "    return backend.abs(y_pred[:, :2] - y_true[:, :2])\n",
    "\n",
    "\n",
    "def absolute_errors(y_true, y_pred, backend, angle_scaler):\n",
    "    theta = angle_absolute_error(y_true, y_pred, backend, angle_scaler)\n",
    "    pos = xy_absolute_error(y_true, y_pred, backend)\n",
    "    return pos, theta\n",
    "\n",
    "\n",
    "def interaction_loss(y_true, y_pred, angle_scaler=None, alpha=0.5):\n",
    "    assert 0 <= alpha <= 1\n",
    "    sum_errors_xy, sum_errors_angle, indices = match_pred_to_gt(y_true, y_pred, K, angle_scaler)\n",
    "\n",
    "    return K.mean(tf.gather_nd(sum_errors_xy, indices) * (1 - alpha) +\n",
    "                  tf.gather_nd(sum_errors_angle, indices) * alpha)\n",
    "\n",
    "\n",
    "y_a = np.array([[10., 10, 25, 5, 20, 100, 100, 25, 5, 30],\n",
    "                [100., 100, 25, 5, 30, 20, 20, 25, 5, 20],\n",
    "                [10., 10, 25, 5, 20, 200, 200, 25, 5, 30]])\n",
    "y_b = np.array([[20., 20, 25, 5, 30, 150, 170, 25, 5, 0],\n",
    "                [30., 30, 25, 5, 30, 170, 150, 25, 5, 5],\n",
    "                [30., 60, 25, 5, 30, 170, 120, 25, 5, 5]])\n",
    "xy, angle, indices = train_interactions.match_pred_to_gt(y_a, y_b, np)\n",
    "\n",
    "print (xy[indices[:, 0], indices[:, 1]]).mean()\n",
    "print (angle[indices[:, 0], indices[:, 1]]).mean()"
   ]
  },
  {
   "cell_type": "code",
   "execution_count": null,
   "metadata": {
    "cell_style": "center"
   },
   "outputs": [],
   "source": [
    "# with h5py.File(DATA_DIR + '/imgs_inter_test.h5', 'r') as hf:\n",
    "#     X_test = hf['data'][:]\n",
    "#\n",
    "y_a_ = interactions_results.tostruct(y_a)\n",
    "y_b_ = interactions_results.tostruct(y_b)\n",
    "i = 1\n",
    "interactions_results.plot_interaction(y_a_[[i]], y_b_[[i]])\n",
    "plt.ylim(0, 200)\n",
    "plt.xlim(0, 200)"
   ]
  },
  {
   "cell_type": "code",
   "execution_count": null,
   "metadata": {},
   "outputs": [],
   "source": [
    "y_true = K.variable(y_a)\n",
    "y_pred = K.variable(y_b)\n",
    "backend = K\n",
    "angle_scaler = None"
   ]
  },
  {
   "cell_type": "code",
   "execution_count": null,
   "metadata": {},
   "outputs": [],
   "source": [
    "K.eval(y_pred[:, 1:2])"
   ]
  },
  {
   "cell_type": "code",
   "execution_count": null,
   "metadata": {},
   "outputs": [],
   "source": [
    "K.eval(y_pred[:, [COL2ID['x'], COL2ID['y']]] - y_true[:, [COL2ID['x'], COL2ID['y']]])"
   ]
  },
  {
   "cell_type": "code",
   "execution_count": null,
   "metadata": {},
   "outputs": [],
   "source": [
    "y_true = y_a\n",
    "y_pred = y_b\n",
    "backend = np\n",
    "angle_scaler = None"
   ]
  },
  {
   "cell_type": "code",
   "execution_count": null,
   "metadata": {},
   "outputs": [],
   "source": [
    "mean_errors_xy, mean_errors_angle, indices = train_interactions.match_pred_to_gt(y_true, y_pred, backend)\n",
    "for x in [mean_errors_xy, mean_errors_angle, indices]:\n",
    "    print x"
   ]
  },
  {
   "cell_type": "code",
   "execution_count": null,
   "metadata": {},
   "outputs": [],
   "source": [
    "mean_errors_xy, mean_errors_angle, indices = train_interactions.match_pred_to_gt(y_true, y_pred, backend)\n",
    "for x in [mean_errors_xy, mean_errors_angle, indices]:\n",
    "    print K.eval(x)"
   ]
  },
  {
   "cell_type": "code",
   "execution_count": null,
   "metadata": {},
   "outputs": [],
   "source": [
    "mean_errors_xy, mean_errors_angle, indices = train_interactions.match_pred_to_gt(y_true, y_pred, K)\n",
    "for x in [mean_errors_xy, mean_errors_angle, indices]:\n",
    "    print K.eval(x)"
   ]
  },
  {
   "cell_type": "code",
   "execution_count": null,
   "metadata": {},
   "outputs": [],
   "source": [
    "# def match_pred_to_gt(y_true, y_pred, backend, angle_scaler=None):\n",
    "\"\"\"\n",
    "Return mean absolute errors for individual samples for xy and theta\n",
    "in two possible combinations of prediction and ground truth.\n",
    "\"\"\"\n",
    "xy11, theta11 = absolute_errors(y_true[:, :5], y_pred[:, :5], backend, angle_scaler)\n",
    "xy22, theta22 = absolute_errors(y_true[:, 5:], y_pred[:, 5:], backend, angle_scaler)\n",
    "xy12, theta12 = absolute_errors(y_true[:, :5], y_pred[:, 5:], backend, angle_scaler)\n",
    "xy21, theta21 = absolute_errors(y_true[:, 5:], y_pred[:, :5], backend, angle_scaler)\n",
    "if backend == np:\n",
    "    norm = np.linalg.norm\n",
    "    int64 = np.int64\n",
    "    shape = lambda x, n: x.shape[n]\n",
    "else:\n",
    "    norm = tf.linalg.norm\n",
    "    int64 = tf.int64\n",
    "    shape = lambda x, n: backend.cast(backend.shape(x)[n], int64)\n",
    "mean_errors_xy = backend.stack((backend.mean(backend.stack((norm(xy11, axis=1), norm(xy22, axis=1))), axis=0),\n",
    "                               backend.mean(backend.stack((norm(xy12, axis=1), norm(xy21, axis=1))), axis=0)))  # shape=(2, n)\n",
    "\n",
    "mean_errors_angle = backend.stack((backend.mean(backend.concatenate((theta11, theta22)), axis=1),\n",
    "                                  backend.mean(backend.concatenate((theta12, theta21)), axis=1)))  # shape=(2, n)\n",
    "\n",
    "print K.eval(theta11)\n",
    "print K.eval(backend.concatenate((theta11, theta22)))\n",
    "print K.eval(backend.sum(backend.concatenate((theta11, theta22)), axis=1))\n",
    "\n",
    "swap_idx = backend.argmin(mean_errors_xy, axis=0)  # shape = (n,)\n",
    "indices = backend.transpose(\n",
    "    backend.stack((swap_idx, backend.arange(0, shape(mean_errors_xy, 1)))))  # shape=(n, 2)\n",
    "# return mean_errors_xy, mean_errors_angle, indices\n",
    "\n",
    "for x in [mean_errors_xy, mean_errors_angle, indices]:\n",
    "    print K.eval(x)"
   ]
  },
  {
   "cell_type": "code",
   "execution_count": null,
   "metadata": {
    "cell_style": "center"
   },
   "outputs": [],
   "source": [
    "angle_scaler = None\n",
    "y_true = K.variable(y_a)\n",
    "y_pred = K.variable(y_b)\n",
    "xy11, theta11 = absolute_errors(y_true[:, :5], y_pred[:, :5], angle_scaler)\n",
    "xy22, theta22 = absolute_errors(y_true[:, 5:], y_pred[:, 5:], angle_scaler)\n",
    "\n",
    "xy12, theta12 = absolute_errors(y_true[:, :5], y_pred[:, 5:], angle_scaler)\n",
    "xy21, theta21 = absolute_errors(y_true[:, 5:], y_pred[:, :5], angle_scaler)\n",
    "\n",
    "norm = tf.linalg.norm\n",
    "# print y_a\n",
    "# print y_b\n",
    "# print K.eval(xy11)\n",
    "# print K.eval(xy22)\n",
    "# print K.eval(xy12)\n",
    "# print K.eval(xy21)\n",
    "sum_errors_xy = K.stack((K.sum(K.stack((norm(xy11, axis=1), norm(xy22, axis=1))), axis=0),\n",
    "                         K.sum(K.stack((norm(xy12, axis=1), norm(xy21, axis=1))), axis=0)))  # shape=(2, n)\n",
    "sum_errors_angle = K.stack((K.sum(K.concatenate((theta11, theta22)), axis=1),\n",
    "                            K.sum(K.concatenate((theta12, theta21)), axis=1)))  # shape=(2, n)\n",
    "\n",
    "swap_idx = K.argmin(sum_errors_xy, axis=0)  # shape = (n,)\n",
    "indices = K.transpose(K.stack((swap_idx, K.arange(0, K.cast(K.shape(sum_errors_xy)[1], tf.int64)))))  # shape=(n, 2)  \n",
    "\n",
    "print K.eval(tf.gather_nd(sum_errors_xy, idx))\n",
    "print K.eval(tf.gather_nd(sum_errors_angle, idx))\n",
    "print K.eval(tf.gather_nd(sum_errors_xy, idx) + tf.gather_nd(sum_errors_angle, idx))"
   ]
  },
  {
   "cell_type": "code",
   "execution_count": null,
   "metadata": {},
   "outputs": [],
   "source": [
    "idx = K.transpose(K.stack((swap_idx, K.arange(0, K.cast(K.shape(sum_errors_xy)[1], tf.int64)))))"
   ]
  },
  {
   "cell_type": "code",
   "execution_count": null,
   "metadata": {},
   "outputs": [],
   "source": [
    "K.eval(tf.gather_nd(sum_errors_xy, idx))"
   ]
  },
  {
   "cell_type": "code",
   "execution_count": null,
   "metadata": {},
   "outputs": [],
   "source": [
    "K.eval(sum_errors_xy)"
   ]
  },
  {
   "cell_type": "code",
   "execution_count": null,
   "metadata": {},
   "outputs": [],
   "source": [
    "K.eval(sum_errors_angle)"
   ]
  },
  {
   "cell_type": "code",
   "execution_count": null,
   "metadata": {},
   "outputs": [],
   "source": [
    "K.eval(tf.gather_nd(sum_errors_angle, idx))"
   ]
  },
  {
   "cell_type": "code",
   "execution_count": null,
   "metadata": {},
   "outputs": [],
   "source": [
    "np.ca"
   ]
  }
 ],
 "metadata": {
  "kernelspec": {
   "display_name": "Python 2",
   "language": "python",
   "name": "python2"
  },
  "language_info": {
   "codemirror_mode": {
    "name": "ipython",
    "version": 2
   },
   "file_extension": ".py",
   "mimetype": "text/x-python",
   "name": "python",
   "nbconvert_exporter": "python",
   "pygments_lexer": "ipython2"
  },
  "toc": {
   "nav_menu": {},
   "number_sections": true,
   "sideBar": false,
   "skip_h1_title": false,
   "toc_cell": false,
   "toc_position": {},
   "toc_section_display": "block",
   "toc_window_display": false
  }
 },
 "nbformat": 4,
 "nbformat_minor": 2
}
