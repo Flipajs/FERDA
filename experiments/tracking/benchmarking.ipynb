{
 "cells": [
  {
   "cell_type": "code",
   "execution_count": 61,
   "metadata": {},
   "outputs": [],
   "source": [
    "import os\n",
    "import pandas as pd\n",
    "# import seaborn as sns"
   ]
  },
  {
   "cell_type": "code",
   "execution_count": 62,
   "metadata": {},
   "outputs": [],
   "source": [
    "evaluations = [\n",
    "    'experiments/tracking/5Zebrafish_nocover_22min/180427_vaib/evaluation.csv',\n",
    "    'experiments/tracking/5Zebrafish_nocover_22min/__idtracker/evaluation_trajectories_nogaps.csv',\n",
    "    'experiments/tracking/5Zebrafish_nocover_22min/__toxtrack/evaluation.csv',\n",
    "]"
   ]
  },
  {
   "cell_type": "code",
   "execution_count": 63,
   "metadata": {},
   "outputs": [
    {
     "data": {
      "text/html": [
       "<div>\n",
       "<style scoped>\n",
       "    .dataframe tbody tr th:only-of-type {\n",
       "        vertical-align: middle;\n",
       "    }\n",
       "\n",
       "    .dataframe tbody tr th {\n",
       "        vertical-align: top;\n",
       "    }\n",
       "\n",
       "    .dataframe thead th {\n",
       "        text-align: right;\n",
       "    }\n",
       "</style>\n",
       "<table border=\"1\" class=\"dataframe\">\n",
       "  <thead>\n",
       "    <tr style=\"text-align: right;\">\n",
       "      <th></th>\n",
       "      <th>idf1</th>\n",
       "      <th>idp</th>\n",
       "      <th>idr</th>\n",
       "      <th>recall</th>\n",
       "      <th>precision</th>\n",
       "      <th>num_unique_objects</th>\n",
       "      <th>mostly_tracked</th>\n",
       "      <th>partially_tracked</th>\n",
       "      <th>mostly_lost</th>\n",
       "      <th>num_false_positives</th>\n",
       "      <th>num_misses</th>\n",
       "      <th>num_switches</th>\n",
       "      <th>num_fragmentations</th>\n",
       "      <th>mota</th>\n",
       "      <th>motp</th>\n",
       "    </tr>\n",
       "    <tr>\n",
       "      <th>experiment</th>\n",
       "      <th></th>\n",
       "      <th></th>\n",
       "      <th></th>\n",
       "      <th></th>\n",
       "      <th></th>\n",
       "      <th></th>\n",
       "      <th></th>\n",
       "      <th></th>\n",
       "      <th></th>\n",
       "      <th></th>\n",
       "      <th></th>\n",
       "      <th></th>\n",
       "      <th></th>\n",
       "      <th></th>\n",
       "      <th></th>\n",
       "    </tr>\n",
       "  </thead>\n",
       "  <tbody>\n",
       "    <tr>\n",
       "      <th>180427_vaib</th>\n",
       "      <td>0.881635</td>\n",
       "      <td>0.881723</td>\n",
       "      <td>0.881547</td>\n",
       "      <td>0.882253</td>\n",
       "      <td>0.882430</td>\n",
       "      <td>5</td>\n",
       "      <td>5</td>\n",
       "      <td>0</td>\n",
       "      <td>0</td>\n",
       "      <td>8816</td>\n",
       "      <td>8831</td>\n",
       "      <td>29</td>\n",
       "      <td>987</td>\n",
       "      <td>0.764320</td>\n",
       "      <td>181.964081</td>\n",
       "    </tr>\n",
       "    <tr>\n",
       "      <th>idtracker</th>\n",
       "      <td>0.930458</td>\n",
       "      <td>0.930489</td>\n",
       "      <td>0.930427</td>\n",
       "      <td>0.947533</td>\n",
       "      <td>0.947597</td>\n",
       "      <td>5</td>\n",
       "      <td>5</td>\n",
       "      <td>0</td>\n",
       "      <td>0</td>\n",
       "      <td>3930</td>\n",
       "      <td>3935</td>\n",
       "      <td>132</td>\n",
       "      <td>234</td>\n",
       "      <td>0.893373</td>\n",
       "      <td>264.281000</td>\n",
       "    </tr>\n",
       "    <tr>\n",
       "      <th>toxtrack</th>\n",
       "      <td>0.925810</td>\n",
       "      <td>0.999985</td>\n",
       "      <td>0.861880</td>\n",
       "      <td>0.861880</td>\n",
       "      <td>0.999985</td>\n",
       "      <td>5</td>\n",
       "      <td>5</td>\n",
       "      <td>0</td>\n",
       "      <td>0</td>\n",
       "      <td>1</td>\n",
       "      <td>10359</td>\n",
       "      <td>0</td>\n",
       "      <td>311</td>\n",
       "      <td>0.861867</td>\n",
       "      <td>34.326583</td>\n",
       "    </tr>\n",
       "  </tbody>\n",
       "</table>\n",
       "</div>"
      ],
      "text/plain": [
       "                 idf1       idp       idr    recall  precision  \\\n",
       "experiment                                                       \n",
       "180427_vaib  0.881635  0.881723  0.881547  0.882253   0.882430   \n",
       "idtracker    0.930458  0.930489  0.930427  0.947533   0.947597   \n",
       "toxtrack     0.925810  0.999985  0.861880  0.861880   0.999985   \n",
       "\n",
       "             num_unique_objects  mostly_tracked  partially_tracked  \\\n",
       "experiment                                                           \n",
       "180427_vaib                   5               5                  0   \n",
       "idtracker                     5               5                  0   \n",
       "toxtrack                      5               5                  0   \n",
       "\n",
       "             mostly_lost  num_false_positives  num_misses  num_switches  \\\n",
       "experiment                                                                \n",
       "180427_vaib            0                 8816        8831            29   \n",
       "idtracker              0                 3930        3935           132   \n",
       "toxtrack               0                    1       10359             0   \n",
       "\n",
       "             num_fragmentations      mota        motp  \n",
       "experiment                                             \n",
       "180427_vaib                 987  0.764320  181.964081  \n",
       "idtracker                   234  0.893373  264.281000  \n",
       "toxtrack                    311  0.861867   34.326583  "
      ]
     },
     "execution_count": 63,
     "metadata": {},
     "output_type": "execute_result"
    }
   ],
   "source": [
    "all_evals = []\n",
    "for path in evaluations:\n",
    "    parts = path.split(os.sep)\n",
    "    df = pd.read_csv(path)\n",
    "    df.insert(0, 'experiment', parts[-2])\n",
    "    all_evals.append(df)\n",
    "df = pd.concat(all_evals)\n",
    "df = df.replace('__idtracker', 'idtracker').replace('__toxtrack', 'toxtrack').set_index('experiment')\n",
    "df"
   ]
  },
  {
   "cell_type": "code",
   "execution_count": 64,
   "metadata": {},
   "outputs": [],
   "source": [
    "df.to_csv('5Zebrafish_nocover_22min_comparison.csv')"
   ]
  },
  {
   "cell_type": "code",
   "execution_count": 65,
   "metadata": {},
   "outputs": [
    {
     "data": {
      "image/png": "[encoded data removed]",
      "text/plain": [
       "<Figure size 720x360 with 1 Axes>"
      ]
     },
     "metadata": {},
     "output_type": "display_data"
    }
   ],
   "source": [
    "ax = df[['idf1', 'idp', 'idr', 'recall', 'precision','mota']].T.plot.bar(figsize=(10, 5))\n",
    "_ = ax.set_ylabel('higher is better')"
   ]
  },
  {
   "cell_type": "code",
   "execution_count": 66,
   "metadata": {},
   "outputs": [
    {
     "data": {
      "image/png": "[encoded data removed]",
      "text/plain": [
       "<Figure size 720x360 with 1 Axes>"
      ]
     },
     "metadata": {},
     "output_type": "display_data"
    }
   ],
   "source": [
    "ax = df[['num_false_positives', 'num_misses', 'num_switches','num_fragmentations', 'motp']].T.plot.bar(figsize=(10, 5), logy=True)\n",
    "_ = ax.set_ylabel('lower is better')"
   ]
  },
  {
   "cell_type": "code",
   "execution_count": null,
   "metadata": {},
   "outputs": [],
   "source": []
  }
 ],
 "metadata": {
  "kernelspec": {
   "display_name": "Python 3",
   "language": "python",
   "name": "python3"
  },
  "language_info": {
   "codemirror_mode": {
    "name": "ipython",
    "version": 3
   },
   "file_extension": ".py",
   "mimetype": "text/x-python",
   "name": "python",
   "nbconvert_exporter": "python",
   "pygments_lexer": "ipython3",
   "version": "3.6.5"
  }
 },
 "nbformat": 4,
 "nbformat_minor": 2
}
