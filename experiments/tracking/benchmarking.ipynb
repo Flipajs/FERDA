{
 "cells": [
  {
   "cell_type": "code",
   "execution_count": 25,
   "metadata": {},
   "outputs": [
    {
     "name": "stdout",
     "output_type": "stream",
     "text": [
      "/home/matej/prace/ferda/ferda_github\n"
     ]
    }
   ],
   "source": [
    "# change wokring directory to the root of the project (where jupyter was started)\n",
    "import os\n",
    "import psutil\n",
    "%cd {psutil.Process(os.getpid()).parent().cwd()}"
   ]
  },
  {
   "cell_type": "code",
   "execution_count": 26,
   "metadata": {},
   "outputs": [],
   "source": [
    "import os\n",
    "import pandas as pd"
   ]
  },
  {
   "cell_type": "code",
   "execution_count": 49,
   "metadata": {},
   "outputs": [],
   "source": [
    "# evaluations = {\n",
    "#     '180427_vaib': 'experiments/tracking/5Zebrafish_nocover_22min/180427_vaib/evaluation.csv',\n",
    "#     'idtracker_nogaps': 'experiments/tracking/5Zebrafish_nocover_22min/__idtracker/evaluation_trajectories_nogaps.csv',\n",
    "#     'idtracker': 'experiments/tracking/5Zebrafish_nocover_22min/__idtracker/evaluation_trajectories.csv',\n",
    "#     'toxtrac': 'experiments/tracking/5Zebrafish_nocover_22min/__toxtrac/evaluation.csv',\n",
    "# }\n",
    "#\n",
    "# dataset_name = '5Zebrafish_nocover_22min'\n",
    "\n",
    "evaluations = {\n",
    "    '180427_vaib': 'experiments/tracking/Cam1_clip/180427_vaib/evaluation.csv',\n",
    "    'toxtrac': 'experiments/tracking/Cam1_clip/__toxtrac/evaluation.csv',\n",
    "    'toxtrac_tight_segmentation': 'experiments/tracking/Cam1_clip/__toxtrac_better_thresh/evaluation.csv',\n",
    "    'idtracker': 'experiments/tracking/Cam1_clip/__idtracker/evaluation.csv',\n",
    "    'idtracker_nogaps': 'experiments/tracking/Cam1_clip/__idtracker/evaluation_nogaps.csv',    \n",
    "}\n",
    "   \n",
    "dataset_name = 'Cam1_clip'"
   ]
  },
  {
   "cell_type": "code",
   "execution_count": 50,
   "metadata": {},
   "outputs": [
    {
     "data": {
      "text/html": [
       "<div>\n",
       "<style scoped>\n",
       "    .dataframe tbody tr th:only-of-type {\n",
       "        vertical-align: middle;\n",
       "    }\n",
       "\n",
       "    .dataframe tbody tr th {\n",
       "        vertical-align: top;\n",
       "    }\n",
       "\n",
       "    .dataframe thead th {\n",
       "        text-align: right;\n",
       "    }\n",
       "</style>\n",
       "<table border=\"1\" class=\"dataframe\">\n",
       "  <thead>\n",
       "    <tr style=\"text-align: right;\">\n",
       "      <th></th>\n",
       "      <th>idf1</th>\n",
       "      <th>idp</th>\n",
       "      <th>idr</th>\n",
       "      <th>recall</th>\n",
       "      <th>precision</th>\n",
       "      <th>num_unique_objects</th>\n",
       "      <th>mostly_tracked</th>\n",
       "      <th>partially_tracked</th>\n",
       "      <th>mostly_lost</th>\n",
       "      <th>num_false_positives</th>\n",
       "      <th>num_misses</th>\n",
       "      <th>num_switches</th>\n",
       "      <th>num_fragmentations</th>\n",
       "      <th>mota</th>\n",
       "      <th>motp</th>\n",
       "    </tr>\n",
       "    <tr>\n",
       "      <th>experiment</th>\n",
       "      <th></th>\n",
       "      <th></th>\n",
       "      <th></th>\n",
       "      <th></th>\n",
       "      <th></th>\n",
       "      <th></th>\n",
       "      <th></th>\n",
       "      <th></th>\n",
       "      <th></th>\n",
       "      <th></th>\n",
       "      <th></th>\n",
       "      <th></th>\n",
       "      <th></th>\n",
       "      <th></th>\n",
       "      <th></th>\n",
       "    </tr>\n",
       "  </thead>\n",
       "  <tbody>\n",
       "    <tr>\n",
       "      <th>180427_vaib</th>\n",
       "      <td>0.699556</td>\n",
       "      <td>0.699556</td>\n",
       "      <td>0.699556</td>\n",
       "      <td>0.700148</td>\n",
       "      <td>0.700148</td>\n",
       "      <td>6</td>\n",
       "      <td>2</td>\n",
       "      <td>4</td>\n",
       "      <td>0</td>\n",
       "      <td>8096</td>\n",
       "      <td>8096</td>\n",
       "      <td>6</td>\n",
       "      <td>288</td>\n",
       "      <td>0.400074</td>\n",
       "      <td>1.974294</td>\n",
       "    </tr>\n",
       "    <tr>\n",
       "      <th>toxtrac</th>\n",
       "      <td>0.097106</td>\n",
       "      <td>0.161196</td>\n",
       "      <td>0.069481</td>\n",
       "      <td>0.431037</td>\n",
       "      <td>1.000000</td>\n",
       "      <td>6</td>\n",
       "      <td>0</td>\n",
       "      <td>6</td>\n",
       "      <td>0</td>\n",
       "      <td>0</td>\n",
       "      <td>15362</td>\n",
       "      <td>167</td>\n",
       "      <td>166</td>\n",
       "      <td>0.424852</td>\n",
       "      <td>133.370349</td>\n",
       "    </tr>\n",
       "    <tr>\n",
       "      <th>toxtrac_tight_segmentation</th>\n",
       "      <td>0.652834</td>\n",
       "      <td>0.953204</td>\n",
       "      <td>0.496407</td>\n",
       "      <td>0.520778</td>\n",
       "      <td>1.000000</td>\n",
       "      <td>6</td>\n",
       "      <td>0</td>\n",
       "      <td>6</td>\n",
       "      <td>0</td>\n",
       "      <td>0</td>\n",
       "      <td>12939</td>\n",
       "      <td>13</td>\n",
       "      <td>122</td>\n",
       "      <td>0.520296</td>\n",
       "      <td>195.002656</td>\n",
       "    </tr>\n",
       "    <tr>\n",
       "      <th>idtracker_nogaps</th>\n",
       "      <td>0.899656</td>\n",
       "      <td>0.899756</td>\n",
       "      <td>0.899556</td>\n",
       "      <td>0.899815</td>\n",
       "      <td>0.900015</td>\n",
       "      <td>6</td>\n",
       "      <td>6</td>\n",
       "      <td>0</td>\n",
       "      <td>0</td>\n",
       "      <td>2699</td>\n",
       "      <td>2705</td>\n",
       "      <td>2</td>\n",
       "      <td>35</td>\n",
       "      <td>0.799778</td>\n",
       "      <td>133.556985</td>\n",
       "    </tr>\n",
       "    <tr>\n",
       "      <th>idtracker</th>\n",
       "      <td>0.605956</td>\n",
       "      <td>0.606024</td>\n",
       "      <td>0.605889</td>\n",
       "      <td>0.608370</td>\n",
       "      <td>0.608506</td>\n",
       "      <td>6</td>\n",
       "      <td>1</td>\n",
       "      <td>5</td>\n",
       "      <td>0</td>\n",
       "      <td>10568</td>\n",
       "      <td>10574</td>\n",
       "      <td>18</td>\n",
       "      <td>259</td>\n",
       "      <td>0.216296</td>\n",
       "      <td>63.196044</td>\n",
       "    </tr>\n",
       "  </tbody>\n",
       "</table>\n",
       "</div>"
      ],
      "text/plain": [
       "                                idf1       idp       idr    recall  precision  \\\n",
       "experiment                                                                      \n",
       "180427_vaib                 0.699556  0.699556  0.699556  0.700148   0.700148   \n",
       "toxtrac                     0.097106  0.161196  0.069481  0.431037   1.000000   \n",
       "toxtrac_tight_segmentation  0.652834  0.953204  0.496407  0.520778   1.000000   \n",
       "idtracker_nogaps            0.899656  0.899756  0.899556  0.899815   0.900015   \n",
       "idtracker                   0.605956  0.606024  0.605889  0.608370   0.608506   \n",
       "\n",
       "                            num_unique_objects  mostly_tracked  \\\n",
       "experiment                                                       \n",
       "180427_vaib                                  6               2   \n",
       "toxtrac                                      6               0   \n",
       "toxtrac_tight_segmentation                   6               0   \n",
       "idtracker_nogaps                             6               6   \n",
       "idtracker                                    6               1   \n",
       "\n",
       "                            partially_tracked  mostly_lost  \\\n",
       "experiment                                                   \n",
       "180427_vaib                                 4            0   \n",
       "toxtrac                                     6            0   \n",
       "toxtrac_tight_segmentation                  6            0   \n",
       "idtracker_nogaps                            0            0   \n",
       "idtracker                                   5            0   \n",
       "\n",
       "                            num_false_positives  num_misses  num_switches  \\\n",
       "experiment                                                                  \n",
       "180427_vaib                                8096        8096             6   \n",
       "toxtrac                                       0       15362           167   \n",
       "toxtrac_tight_segmentation                    0       12939            13   \n",
       "idtracker_nogaps                           2699        2705             2   \n",
       "idtracker                                 10568       10574            18   \n",
       "\n",
       "                            num_fragmentations      mota        motp  \n",
       "experiment                                                            \n",
       "180427_vaib                                288  0.400074    1.974294  \n",
       "toxtrac                                    166  0.424852  133.370349  \n",
       "toxtrac_tight_segmentation                 122  0.520296  195.002656  \n",
       "idtracker_nogaps                            35  0.799778  133.556985  \n",
       "idtracker                                  259  0.216296   63.196044  "
      ]
     },
     "execution_count": 50,
     "metadata": {},
     "output_type": "execute_result"
    }
   ],
   "source": [
    "all_evals = []\n",
    "for name, path in evaluations.iteritems():\n",
    "    df = pd.read_csv(path)\n",
    "    df.insert(0, 'experiment', name)\n",
    "    all_evals.append(df)\n",
    "df = pd.concat(all_evals).set_index('experiment')\n",
    "df"
   ]
  },
  {
   "cell_type": "code",
   "execution_count": 51,
   "metadata": {},
   "outputs": [],
   "source": [
    "df.to_csv('{}_comparison.csv'.format(dataset_name))"
   ]
  },
  {
   "cell_type": "code",
   "execution_count": 52,
   "metadata": {},
   "outputs": [
    {
     "data": {
      "image/png": "[encoded data removed]",
      "text/plain": [
       "<matplotlib.figure.Figure at 0x7ff90823b6d0>"
      ]
     },
     "metadata": {},
     "output_type": "display_data"
    }
   ],
   "source": [
    "ax = df[['idf1', 'idp', 'idr', 'recall', 'precision','mota']].T.plot.bar(figsize=(10, 5), title='dataset ' + dataset_name)\n",
    "_ = ax.set_ylabel('higher is better')"
   ]
  },
  {
   "cell_type": "code",
   "execution_count": 53,
   "metadata": {},
   "outputs": [
    {
     "data": {
      "image/png": "[encoded data removed]",
      "text/plain": [
       "<matplotlib.figure.Figure at 0x7ff9083635d0>"
      ]
     },
     "metadata": {},
     "output_type": "display_data"
    }
   ],
   "source": [
    "ax = df[['num_false_positives', 'num_misses', 'num_switches','num_fragmentations', 'motp']].T.plot.bar(figsize=(10, 5), logy=True, title='dataset ' + dataset_name)\n",
    "_ = ax.set_ylabel('lower is better')"
   ]
  },
  {
   "cell_type": "code",
   "execution_count": null,
   "metadata": {},
   "outputs": [],
   "source": []
  }
 ],
 "metadata": {
  "kernelspec": {
   "display_name": "Python 3",
   "language": "python",
   "name": "python3"
  },
  "language_info": {
   "codemirror_mode": {
    "name": "ipython",
    "version": 2
   },
   "file_extension": ".py",
   "mimetype": "text/x-python",
   "name": "python",
   "nbconvert_exporter": "python",
   "pygments_lexer": "ipython2",
   "version": "2.7.14"
  }
 },
 "nbformat": 4,
 "nbformat_minor": 2
}
