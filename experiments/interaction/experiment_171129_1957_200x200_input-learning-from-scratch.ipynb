{
 "cells": [
  {
   "cell_type": "code",
   "execution_count": null,
   "metadata": {},
   "outputs": [],
   "source": [
    "%matplotlib inline\n",
    "import matplotlib.pyplot as plt\n",
    "import h5py\n",
    "from imageio import imread\n",
    "import numpy as np\n",
    "import os\n",
    "from os.path import join\n",
    "import train_interactions\n",
    "import pandas as pd\n",
    "from interactions_results import toarray"
   ]
  },
  {
   "cell_type": "code",
   "execution_count": null,
   "metadata": {},
   "outputs": [],
   "source": [
    "DATA_DIR = '/home/matej/prace/ferda/data/interactions'\n",
    "EXPERIMENT_DIR = '/home/matej/prace/ferda/experiments/171129_1957'\n",
    "\n",
    "NAMES = 'ant1_x, ant1_y, ant1_major, ant1_minor, ant1_angle, ' \\\n",
    "        'ant2_x, ant2_y, ant2_major, ant2_minor, ant2_angle'\n",
    "FORMATS = 10 * 'f,'\n",
    "\n",
    "pd.set_option('precision', 2)"
   ]
  },
  {
   "cell_type": "code",
   "execution_count": null,
   "metadata": {},
   "outputs": [],
   "source": [
    "with h5py.File(DATA_DIR + '/results_inter_test.h5', 'r') as hf:\n",
    "    y_test = np.core.records.fromarrays(hf['data'][:].transpose(), names=NAMES, formats=FORMATS)\n",
    "    y_test_df = pd.DataFrame(y_test)\n",
    "\n",
    "with h5py.File(EXPERIMENT_DIR + '/predictions.h5', 'r') as hf:\n",
    "    pred = np.core.records.fromarrays(hf['data'][:].transpose(), names=NAMES, formats=FORMATS)\n",
    "    pred_df = pd.DataFrame(pred)"
   ]
  },
  {
   "cell_type": "markdown",
   "metadata": {},
   "source": [
    "# Predictions"
   ]
  },
  {
   "cell_type": "code",
   "execution_count": null,
   "metadata": {},
   "outputs": [],
   "source": [
    "pred_df.describe()"
   ]
  },
  {
   "cell_type": "code",
   "execution_count": null,
   "metadata": {
    "cell_style": "split"
   },
   "outputs": [],
   "source": [
    "_ = plt.hist2d(pred['ant1_x'], pred['ant1_y'], bins=40, range=((0, 199), (0, 199)))"
   ]
  },
  {
   "cell_type": "code",
   "execution_count": null,
   "metadata": {
    "cell_style": "split"
   },
   "outputs": [],
   "source": [
    "_ = plt.hist2d(pred['ant2_x'], pred['ant2_y'], bins=40, range=((0, 199), (0, 199)))"
   ]
  },
  {
   "cell_type": "code",
   "execution_count": null,
   "metadata": {
    "cell_style": "split"
   },
   "outputs": [],
   "source": [
    "pred_df['ant1_angle'].hist()"
   ]
  },
  {
   "cell_type": "code",
   "execution_count": null,
   "metadata": {
    "cell_style": "split"
   },
   "outputs": [],
   "source": [
    "(pred_df['ant1_angle'] % 180).hist()"
   ]
  },
  {
   "cell_type": "code",
   "execution_count": null,
   "metadata": {
    "cell_style": "split"
   },
   "outputs": [],
   "source": [
    "pred_df['ant2_angle'].hist()"
   ]
  },
  {
   "cell_type": "code",
   "execution_count": null,
   "metadata": {
    "cell_style": "split"
   },
   "outputs": [],
   "source": [
    "(pred_df['ant2_angle'] % 180).hist()"
   ]
  },
  {
   "cell_type": "markdown",
   "metadata": {},
   "source": [
    "# Prediction Errors"
   ]
  },
  {
   "cell_type": "code",
   "execution_count": null,
   "metadata": {},
   "outputs": [],
   "source": [
    "xy1_error = np.linalg.norm(toarray(y_test[['ant1_x', 'ant1_y']]) - toarray(pred[['ant1_x', 'ant1_y']]), 2, axis=1)\n",
    "xy2_error = np.linalg.norm(toarray(y_test[['ant2_x', 'ant2_y']]) - toarray(pred[['ant2_x', 'ant2_y']]), 2, axis=1)\n",
    "xy1_error_df = pd.DataFrame(xy1_error)\n",
    "xy2_error_df = pd.DataFrame(xy2_error)"
   ]
  },
  {
   "cell_type": "code",
   "execution_count": null,
   "metadata": {},
   "outputs": [],
   "source": [
    "angle1_error = train_interactions.angle_absolute_error(toarray(y_test)[:, :5], toarray(pred)[:, :5], np)\n",
    "angle2_error = train_interactions.angle_absolute_error(toarray(y_test)[:, 5:], toarray(pred)[:, 5:], np)\n",
    "angle1_error_df = pd.DataFrame(angle1_error)\n",
    "angle2_error_df = pd.DataFrame(angle2_error)"
   ]
  },
  {
   "cell_type": "code",
   "execution_count": null,
   "metadata": {},
   "outputs": [],
   "source": [
    "df = pd.DataFrame.from_items([('xy (px)', [np.concatenate((xy1_error, xy2_error)).mean()]), \n",
    "                         ('angle (deg)', np.concatenate((angle1_error, angle2_error)).mean()),\n",
    "                         ('xy1 (px)', xy1_error.mean()),\n",
    "                         ('xy2 (px)', xy2_error.mean()),\n",
    "                         ('angle1 (px)', angle1_error.mean()),\n",
    "                         ('angle2 (px)', angle2_error.mean())])\n",
    "df.style.set_caption('MAE')\n",
    "df"
   ]
  },
  {
   "cell_type": "code",
   "execution_count": null,
   "metadata": {
    "cell_style": "split"
   },
   "outputs": [],
   "source": [
    "xy1_error_df.hist()"
   ]
  },
  {
   "cell_type": "code",
   "execution_count": null,
   "metadata": {
    "cell_style": "split"
   },
   "outputs": [],
   "source": [
    "xy2_error_df.hist()"
   ]
  },
  {
   "cell_type": "code",
   "execution_count": null,
   "metadata": {
    "cell_style": "split"
   },
   "outputs": [],
   "source": [
    "angle1_error_df.hist()"
   ]
  },
  {
   "cell_type": "code",
   "execution_count": null,
   "metadata": {
    "cell_style": "split"
   },
   "outputs": [],
   "source": [
    "angle2_error_df.hist()"
   ]
  },
  {
   "cell_type": "code",
   "execution_count": null,
   "metadata": {
    "cell_style": "split"
   },
   "outputs": [],
   "source": [
    "min_error = 20\n",
    "(pd.DataFrame(pred['ant1_angle'][angle1_error.flatten() > min_error]) % 180).hist()\n",
    "plt.title('Histogram of test angles1 where the error exceeds %d deg.' % min_error)"
   ]
  },
  {
   "cell_type": "code",
   "execution_count": null,
   "metadata": {
    "cell_style": "split"
   },
   "outputs": [],
   "source": [
    "min_error = 20\n",
    "(pd.DataFrame(pred['ant2_angle'][angle2_error.flatten() > min_error]) % 180).hist()\n",
    "plt.title('Histogram of test angles2 where the error exceeds %d deg.' % min_error)"
   ]
  },
  {
   "cell_type": "markdown",
   "metadata": {},
   "source": [
    "# Model"
   ]
  },
  {
   "cell_type": "code",
   "execution_count": null,
   "metadata": {},
   "outputs": [],
   "source": [
    "from IPython.display import SVG\n",
    "from keras.utils.vis_utils import model_to_dot\n",
    "\n",
    "model = train_interactions.model()\n",
    "SVG(model_to_dot(model, show_shapes=True).create(prog='dot', format='svg'))"
   ]
  }
 ],
 "metadata": {
  "_draft": {
   "nbviewer_url": "https://gist.github.com/06ecd7830e31f92de2460b48d905ac44"
  },
  "gist": {
   "data": {
    "description": "interaction_results.ipynb",
    "public": false
   },
   "id": "06ecd7830e31f92de2460b48d905ac44"
  },
  "kernelspec": {
   "display_name": "Python 2",
   "language": "python",
   "name": "python2"
  },
  "language_info": {
   "codemirror_mode": {
    "name": "ipython",
    "version": 2
   },
   "file_extension": ".py",
   "mimetype": "text/x-python",
   "name": "python",
   "nbconvert_exporter": "python",
   "pygments_lexer": "ipython2"
  },
  "toc": {
   "nav_menu": {
    "height": "175px",
    "width": "161px"
   },
   "number_sections": true,
   "sideBar": false,
   "skip_h1_title": false,
   "toc_cell": false,
   "toc_position": {},
   "toc_section_display": "block",
   "toc_window_display": false
  }
 },
 "nbformat": 4,
 "nbformat_minor": 2
}
