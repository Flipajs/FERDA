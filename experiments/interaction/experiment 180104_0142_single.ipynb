{
 "cells": [
  {
   "cell_type": "code",
   "execution_count": 130,
   "metadata": {},
   "outputs": [],
   "source": [
    "%matplotlib inline\n",
    "import matplotlib.pyplot as plt\n",
    "import h5py\n",
    "from imageio import imread\n",
    "import numpy as np\n",
    "import os\n",
    "from os.path import join\n",
    "from scripts.CNN.train_interactions import COLUMNS, match_pred_to_gt, model\n",
    "import pandas as pd\n",
    "from scripts.CNN.interactions_results import toarray, tostruct\n",
    "import warnings\n",
    "pd.set_option('precision', 2)"
   ]
  },
  {
   "cell_type": "code",
   "execution_count": 77,
   "metadata": {},
   "outputs": [],
   "source": [
    "DATA_DIR = '/home/matej/prace/ferda/data/interactions/1801_1k_36rot_single'\n",
    "EXPERIMENT_DIR = '/home/matej/prace/ferda/experiments/180104_0142_single'\n",
    "SUB_EXPERIMENT = 0.857142857143"
   ]
  },
  {
   "cell_type": "code",
   "execution_count": 117,
   "metadata": {},
   "outputs": [],
   "source": [
    "y_test = pd.read_csv(join(DATA_DIR, 'test.csv'))    \n",
    "\n",
    "with h5py.File(join(EXPERIMENT_DIR, str(SUB_EXPERIMENT), 'predictions.h5'), 'r') as hf:\n",
    "    pred = hf['data'][:]\n",
    "    pred_df = pd.DataFrame(tostruct(pred))\n",
    "    \n",
    "loss_alpha_batch = pd.read_csv(join(EXPERIMENT_DIR, 'results.csv'))    \n",
    "\n",
    "n_objects = pred_df.shape[1] / len(COLUMNS)\n",
    "assert pred_df.shape[1] % len(COLUMNS) == 0"
   ]
  },
  {
   "cell_type": "code",
   "execution_count": 118,
   "metadata": {},
   "outputs": [],
   "source": [
    "for i in range(n_objects):\n",
    "    y_test['%d_angle_deg' % i] *= -1"
   ]
  },
  {
   "cell_type": "code",
   "execution_count": 47,
   "metadata": {},
   "outputs": [
    {
     "data": {
      "text/html": [
       "<div>\n",
       "<style scoped>\n",
       "    .dataframe tbody tr th:only-of-type {\n",
       "        vertical-align: middle;\n",
       "    }\n",
       "\n",
       "    .dataframe tbody tr th {\n",
       "        vertical-align: top;\n",
       "    }\n",
       "\n",
       "    .dataframe thead th {\n",
       "        text-align: right;\n",
       "    }\n",
       "</style>\n",
       "<table border=\"1\" class=\"dataframe\">\n",
       "  <thead>\n",
       "    <tr style=\"text-align: right;\">\n",
       "      <th></th>\n",
       "      <th>Unnamed: 0</th>\n",
       "      <th>xy MAE</th>\n",
       "      <th>angle MAE</th>\n",
       "      <th>loss_alpha</th>\n",
       "    </tr>\n",
       "  </thead>\n",
       "  <tbody>\n",
       "    <tr>\n",
       "      <th>12</th>\n",
       "      <td>12</td>\n",
       "      <td>3.68</td>\n",
       "      <td>3.08</td>\n",
       "      <td>0.86</td>\n",
       "    </tr>\n",
       "  </tbody>\n",
       "</table>\n",
       "</div>"
      ],
      "text/plain": [
       "    Unnamed: 0  xy MAE  angle MAE  loss_alpha\n",
       "12          12    3.68       3.08        0.86"
      ]
     },
     "execution_count": 47,
     "metadata": {},
     "output_type": "execute_result"
    }
   ],
   "source": [
    "loss_alpha_batch[loss_alpha_batch['loss_alpha'].round(4) == round(SUB_EXPERIMENT, 4)]"
   ]
  },
  {
   "cell_type": "code",
   "execution_count": 49,
   "metadata": {},
   "outputs": [],
   "source": [
    "loss_alpha_batch['xy MAE'].iloc[-1] = np.nan\n",
    "xy = loss_alpha_batch['xy MAE']\n",
    "loss_alpha_batch['xy MAE norm'] = (xy - xy.mean()) / xy.std()\n",
    "#loss_alpha_batch['angle MAE'].iloc[0] = np.nan\n",
    "angle = loss_alpha_batch['angle MAE']\n",
    "loss_alpha_batch['angle MAE norm'] = (angle - angle.mean()) / angle.std()\n",
    "loss_alpha_batch['sum norm'] = loss_alpha_batch['angle MAE norm'] + loss_alpha_batch['xy MAE norm']\n",
    "loss_alpha_batch['alpha sum norm'] = loss_alpha_batch['angle MAE norm'] * (1 - loss_alpha_batch['loss_alpha']) + \\\n",
    "                                     loss_alpha_batch['xy MAE norm'] * loss_alpha_batch['loss_alpha']"
   ]
  },
  {
   "cell_type": "code",
   "execution_count": 50,
   "metadata": {
    "cell_style": "center"
   },
   "outputs": [],
   "source": [
    "# ax = loss_alpha_batch.plot('loss_alpha', ['xy MAE norm', 'angle MAE norm', 'alpha sum norm'], \n",
    "#                            title='normalized mean absolute errors')\n",
    "# ax.legend(['xy', 'angle', 'alpha weighted sum'])\n",
    "# ax.set_xlabel('alpha')"
   ]
  },
  {
   "cell_type": "code",
   "execution_count": 51,
   "metadata": {
    "cell_style": "center"
   },
   "outputs": [
    {
     "data": {
      "text/plain": [
       "<matplotlib.legend.Legend at 0x7f49d04f7450>"
      ]
     },
     "execution_count": 51,
     "metadata": {},
     "output_type": "execute_result"
    },
    {
     "data": {
      "image/png": "[encoded data removed]",
      "text/plain": [
       "<matplotlib.figure.Figure at 0x7f49d0560cd0>"
      ]
     },
     "metadata": {},
     "output_type": "display_data"
    }
   ],
   "source": [
    "ax = loss_alpha_batch.plot('loss_alpha', ['xy MAE', 'angle MAE'], title='mean absolute errors')\n",
    "ax.set_ylabel('deg, px')\n",
    "ax.set_xlabel('alpha')\n",
    "ax.set_ylim(0, 24)\n",
    "ax.vlines(SUB_EXPERIMENT, ax.get_ylim()[0], ax.get_ylim()[1],\n",
    "          'r')\n",
    "ax.legend(['xy', 'angle', 'best alpha'])"
   ]
  },
  {
   "cell_type": "markdown",
   "metadata": {},
   "source": [
    "# Predictions"
   ]
  },
  {
   "cell_type": "code",
   "execution_count": 52,
   "metadata": {},
   "outputs": [
    {
     "data": {
      "text/html": [
       "<div>\n",
       "<style scoped>\n",
       "    .dataframe tbody tr th:only-of-type {\n",
       "        vertical-align: middle;\n",
       "    }\n",
       "\n",
       "    .dataframe tbody tr th {\n",
       "        vertical-align: top;\n",
       "    }\n",
       "\n",
       "    .dataframe thead th {\n",
       "        text-align: right;\n",
       "    }\n",
       "</style>\n",
       "<table border=\"1\" class=\"dataframe\">\n",
       "  <thead>\n",
       "    <tr style=\"text-align: right;\">\n",
       "      <th></th>\n",
       "      <th>0_x</th>\n",
       "      <th>0_y</th>\n",
       "      <th>0_major</th>\n",
       "      <th>0_minor</th>\n",
       "      <th>0_angle_deg</th>\n",
       "      <th>0_dx</th>\n",
       "      <th>0_dy</th>\n",
       "    </tr>\n",
       "  </thead>\n",
       "  <tbody>\n",
       "    <tr>\n",
       "      <th>count</th>\n",
       "      <td>3600.00</td>\n",
       "      <td>3600.00</td>\n",
       "      <td>3600.00</td>\n",
       "      <td>3600.00</td>\n",
       "      <td>3600.00</td>\n",
       "      <td>3600.00</td>\n",
       "      <td>3600.00</td>\n",
       "    </tr>\n",
       "    <tr>\n",
       "      <th>mean</th>\n",
       "      <td>99.65</td>\n",
       "      <td>99.68</td>\n",
       "      <td>69.49</td>\n",
       "      <td>31.89</td>\n",
       "      <td>24.25</td>\n",
       "      <td>-35.34</td>\n",
       "      <td>60.72</td>\n",
       "    </tr>\n",
       "    <tr>\n",
       "      <th>std</th>\n",
       "      <td>10.32</td>\n",
       "      <td>10.26</td>\n",
       "      <td>24.59</td>\n",
       "      <td>41.09</td>\n",
       "      <td>51.26</td>\n",
       "      <td>28.04</td>\n",
       "      <td>35.04</td>\n",
       "    </tr>\n",
       "    <tr>\n",
       "      <th>min</th>\n",
       "      <td>72.99</td>\n",
       "      <td>76.83</td>\n",
       "      <td>23.23</td>\n",
       "      <td>-54.60</td>\n",
       "      <td>-78.86</td>\n",
       "      <td>-101.39</td>\n",
       "      <td>-11.22</td>\n",
       "    </tr>\n",
       "    <tr>\n",
       "      <th>25%</th>\n",
       "      <td>90.79</td>\n",
       "      <td>90.59</td>\n",
       "      <td>50.37</td>\n",
       "      <td>2.43</td>\n",
       "      <td>-19.56</td>\n",
       "      <td>-55.89</td>\n",
       "      <td>35.62</td>\n",
       "    </tr>\n",
       "    <tr>\n",
       "      <th>50%</th>\n",
       "      <td>99.83</td>\n",
       "      <td>100.00</td>\n",
       "      <td>65.83</td>\n",
       "      <td>22.38</td>\n",
       "      <td>20.79</td>\n",
       "      <td>-41.20</td>\n",
       "      <td>48.62</td>\n",
       "    </tr>\n",
       "    <tr>\n",
       "      <th>75%</th>\n",
       "      <td>108.92</td>\n",
       "      <td>108.43</td>\n",
       "      <td>86.19</td>\n",
       "      <td>59.85</td>\n",
       "      <td>68.57</td>\n",
       "      <td>-17.52</td>\n",
       "      <td>81.46</td>\n",
       "    </tr>\n",
       "    <tr>\n",
       "      <th>max</th>\n",
       "      <td>121.63</td>\n",
       "      <td>124.33</td>\n",
       "      <td>150.65</td>\n",
       "      <td>153.12</td>\n",
       "      <td>117.92</td>\n",
       "      <td>36.09</td>\n",
       "      <td>164.99</td>\n",
       "    </tr>\n",
       "  </tbody>\n",
       "</table>\n",
       "</div>"
      ],
      "text/plain": [
       "           0_x      0_y  0_major  0_minor  0_angle_deg     0_dx     0_dy\n",
       "count  3600.00  3600.00  3600.00  3600.00      3600.00  3600.00  3600.00\n",
       "mean     99.65    99.68    69.49    31.89        24.25   -35.34    60.72\n",
       "std      10.32    10.26    24.59    41.09        51.26    28.04    35.04\n",
       "min      72.99    76.83    23.23   -54.60       -78.86  -101.39   -11.22\n",
       "25%      90.79    90.59    50.37     2.43       -19.56   -55.89    35.62\n",
       "50%      99.83   100.00    65.83    22.38        20.79   -41.20    48.62\n",
       "75%     108.92   108.43    86.19    59.85        68.57   -17.52    81.46\n",
       "max     121.63   124.33   150.65   153.12       117.92    36.09   164.99"
      ]
     },
     "execution_count": 52,
     "metadata": {},
     "output_type": "execute_result"
    }
   ],
   "source": [
    "pred_df.describe()"
   ]
  },
  {
   "cell_type": "code",
   "execution_count": 70,
   "metadata": {
    "cell_style": "center"
   },
   "outputs": [
    {
     "data": {
      "image/png": "[encoded data removed]",
      "text/plain": [
       "<matplotlib.figure.Figure at 0x7f49d0246590>"
      ]
     },
     "metadata": {},
     "output_type": "display_data"
    }
   ],
   "source": [
    "for i in range(n_objects):\n",
    "    _ = plt.hist2d(pred_df['%d_x' % i], pred_df['%d_y' % i], bins=40, range=((0, 199), (0, 199)))"
   ]
  },
  {
   "cell_type": "code",
   "execution_count": 71,
   "metadata": {
    "cell_style": "split"
   },
   "outputs": [
    {
     "data": {
      "image/png": "[encoded data removed]",
      "text/plain": [
       "<matplotlib.figure.Figure at 0x7f49d03e0d50>"
      ]
     },
     "metadata": {},
     "output_type": "display_data"
    }
   ],
   "source": [
    "for i in range(n_objects):\n",
    "    pred_df['%d_angle_deg' % i].hist()"
   ]
  },
  {
   "cell_type": "code",
   "execution_count": 72,
   "metadata": {
    "cell_style": "split"
   },
   "outputs": [
    {
     "data": {
      "image/png": "[encoded data removed]",
      "text/plain": [
       "<matplotlib.figure.Figure at 0x7f49d018c250>"
      ]
     },
     "metadata": {},
     "output_type": "display_data"
    }
   ],
   "source": [
    "for i in range(n_objects):\n",
    "    (pred_df['%d_angle_deg' % i] % 180).hist()"
   ]
  },
  {
   "cell_type": "markdown",
   "metadata": {},
   "source": [
    "# Prediction Errors"
   ]
  },
  {
   "cell_type": "code",
   "execution_count": 119,
   "metadata": {
    "scrolled": true
   },
   "outputs": [],
   "source": [
    "PRED_COLUMNS = ['x', 'y', 'major', 'minor', 'angle_deg']\n",
    "columns = []\n",
    "for i in range(n_objects):\n",
    "    columns.extend(['%d_%s' % (i, c) for c in PRED_COLUMNS])\n",
    "\n",
    "xy, angle, indices = match_pred_to_gt(pred_df[columns].values, y_test[columns].values, np)\n",
    "if n_objects == 1:\n",
    "    xy_errors = xy\n",
    "    angle_errors = angle\n",
    "elif n_objects == 2:\n",
    "    xy_errors = (xy[indices[:, 0], indices[:, 1]])\n",
    "    angle_errors = (angle[indices[:, 0], indices[:, 1]])\n",
    "else:\n",
    "    assert False, 'not implemented'\n",
    "\n",
    "# swap = indices[:, 0] == 1\n",
    "# pred_swapped = pred.copy()\n",
    "# pred_swapped[swap, :5], pred_swapped[swap, 5:] = pred_swapped[swap, 5:], pred_swapped[swap, :5]"
   ]
  },
  {
   "cell_type": "code",
   "execution_count": 121,
   "metadata": {
    "scrolled": true
   },
   "outputs": [
    {
     "data": {
      "text/html": [
       "<div>\n",
       "<style scoped>\n",
       "    .dataframe tbody tr th:only-of-type {\n",
       "        vertical-align: middle;\n",
       "    }\n",
       "\n",
       "    .dataframe tbody tr th {\n",
       "        vertical-align: top;\n",
       "    }\n",
       "\n",
       "    .dataframe thead th {\n",
       "        text-align: right;\n",
       "    }\n",
       "</style>\n",
       "<table border=\"1\" class=\"dataframe\">\n",
       "  <thead>\n",
       "    <tr style=\"text-align: right;\">\n",
       "      <th></th>\n",
       "      <th>xy (px)</th>\n",
       "      <th>angle (deg)</th>\n",
       "    </tr>\n",
       "  </thead>\n",
       "  <tbody>\n",
       "    <tr>\n",
       "      <th>0</th>\n",
       "      <td>3.68</td>\n",
       "      <td>3.08</td>\n",
       "    </tr>\n",
       "  </tbody>\n",
       "</table>\n",
       "</div>"
      ],
      "text/plain": [
       "   xy (px)  angle (deg)\n",
       "0     3.68         3.08"
      ]
     },
     "execution_count": 121,
     "metadata": {},
     "output_type": "execute_result"
    }
   ],
   "source": [
    "df = pd.DataFrame.from_items([('xy (px)', [xy_errors.mean()]), \n",
    "                              ('angle (deg)', angle_errors.mean()),])\n",
    "df.style.set_caption('MAE')\n",
    "df"
   ]
  },
  {
   "cell_type": "code",
   "execution_count": 124,
   "metadata": {
    "cell_style": "split",
    "scrolled": true
   },
   "outputs": [
    {
     "data": {
      "image/png": "[encoded data removed]",
      "text/plain": [
       "<matplotlib.figure.Figure at 0x7f49cfb88fd0>"
      ]
     },
     "metadata": {},
     "output_type": "display_data"
    }
   ],
   "source": [
    "_  = plt.hist(xy_errors, 20)"
   ]
  },
  {
   "cell_type": "code",
   "execution_count": 128,
   "metadata": {
    "cell_style": "split"
   },
   "outputs": [
    {
     "data": {
      "image/png": "[encoded data removed]",
      "text/plain": [
       "<matplotlib.figure.Figure at 0x7f49cfa2add0>"
      ]
     },
     "metadata": {},
     "output_type": "display_data"
    }
   ],
   "source": [
    "_ = plt.hist(angle_errors, 20, range=(0, 20))"
   ]
  },
  {
   "cell_type": "markdown",
   "metadata": {},
   "source": [
    "# Model"
   ]
  },
  {
   "cell_type": "code",
   "execution_count": 131,
   "metadata": {
    "scrolled": false
   },
   "outputs": [
    {
     "data": {
      "image/svg+xml": [
       "<svg height=\"1051pt\" viewBox=\"0.00 0.00 401.00 1051.00\" width=\"401pt\" xmlns=\"http://www.w3.org/2000/svg\" xmlns:xlink=\"http://www.w3.org/1999/xlink\">\n",
       "<g class=\"graph\" id=\"graph0\" transform=\"scale(1 1) rotate(0) translate(4 1047)\">\n",
       "<title>G</title>\n",
       "<polygon fill=\"#ffffff\" points=\"-4,4 -4,-1047 397,-1047 397,4 -4,4\" stroke=\"transparent\"/>\n",
       "<!-- 139955000538320 -->\n",
       "<g class=\"node\" id=\"node1\">\n",
       "<title>139955000538320</title>\n",
       "<polygon fill=\"none\" points=\"44,-996.5 44,-1042.5 349,-1042.5 349,-996.5 44,-996.5\" stroke=\"#000000\"/>\n",
       "<text fill=\"#000000\" font-family=\"Times,serif\" font-size=\"14.00\" text-anchor=\"middle\" x=\"106.5\" y=\"-1015.8\">input_1: InputLayer</text>\n",
       "<polyline fill=\"none\" points=\"169,-996.5 169,-1042.5 \" stroke=\"#000000\"/>\n",
       "<text fill=\"#000000\" font-family=\"Times,serif\" font-size=\"14.00\" text-anchor=\"middle\" x=\"196.5\" y=\"-1027.3\">input:</text>\n",
       "<polyline fill=\"none\" points=\"169,-1019.5 224,-1019.5 \" stroke=\"#000000\"/>\n",
       "<text fill=\"#000000\" font-family=\"Times,serif\" font-size=\"14.00\" text-anchor=\"middle\" x=\"196.5\" y=\"-1004.3\">output:</text>\n",
       "<polyline fill=\"none\" points=\"224,-996.5 224,-1042.5 \" stroke=\"#000000\"/>\n",
       "<text fill=\"#000000\" font-family=\"Times,serif\" font-size=\"14.00\" text-anchor=\"middle\" x=\"286.5\" y=\"-1027.3\">(None, 200, 200, 3)</text>\n",
       "<polyline fill=\"none\" points=\"224,-1019.5 349,-1019.5 \" stroke=\"#000000\"/>\n",
       "<text fill=\"#000000\" font-family=\"Times,serif\" font-size=\"14.00\" text-anchor=\"middle\" x=\"286.5\" y=\"-1004.3\">(None, 200, 200, 3)</text>\n",
       "</g>\n",
       "<!-- 139955000538512 -->\n",
       "<g class=\"node\" id=\"node2\">\n",
       "<title>139955000538512</title>\n",
       "<polygon fill=\"none\" points=\"42,-913.5 42,-959.5 351,-959.5 351,-913.5 42,-913.5\" stroke=\"#000000\"/>\n",
       "<text fill=\"#000000\" font-family=\"Times,serif\" font-size=\"14.00\" text-anchor=\"middle\" x=\"103.5\" y=\"-932.8\">conv2d_1: Conv2D</text>\n",
       "<polyline fill=\"none\" points=\"165,-913.5 165,-959.5 \" stroke=\"#000000\"/>\n",
       "<text fill=\"#000000\" font-family=\"Times,serif\" font-size=\"14.00\" text-anchor=\"middle\" x=\"192.5\" y=\"-944.3\">input:</text>\n",
       "<polyline fill=\"none\" points=\"165,-936.5 220,-936.5 \" stroke=\"#000000\"/>\n",
       "<text fill=\"#000000\" font-family=\"Times,serif\" font-size=\"14.00\" text-anchor=\"middle\" x=\"192.5\" y=\"-921.3\">output:</text>\n",
       "<polyline fill=\"none\" points=\"220,-913.5 220,-959.5 \" stroke=\"#000000\"/>\n",
       "<text fill=\"#000000\" font-family=\"Times,serif\" font-size=\"14.00\" text-anchor=\"middle\" x=\"285.5\" y=\"-944.3\">(None, 200, 200, 3)</text>\n",
       "<polyline fill=\"none\" points=\"220,-936.5 351,-936.5 \" stroke=\"#000000\"/>\n",
       "<text fill=\"#000000\" font-family=\"Times,serif\" font-size=\"14.00\" text-anchor=\"middle\" x=\"285.5\" y=\"-921.3\">(None, 200, 200, 32)</text>\n",
       "</g>\n",
       "<!-- 139955000538320&#45;&gt;139955000538512 -->\n",
       "<g class=\"edge\" id=\"edge1\">\n",
       "<title>139955000538320-&gt;139955000538512</title>\n",
       "<path d=\"M196.5,-996.3799C196.5,-988.1745 196.5,-978.7679 196.5,-969.8786\" fill=\"none\" stroke=\"#000000\"/>\n",
       "<polygon fill=\"#000000\" points=\"200.0001,-969.784 196.5,-959.784 193.0001,-969.784 200.0001,-969.784\" stroke=\"#000000\"/>\n",
       "</g>\n",
       "<!-- 139955003067664 -->\n",
       "<g class=\"node\" id=\"node3\">\n",
       "<title>139955003067664</title>\n",
       "<polygon fill=\"none\" points=\"42,-830.5 42,-876.5 351,-876.5 351,-830.5 42,-830.5\" stroke=\"#000000\"/>\n",
       "<text fill=\"#000000\" font-family=\"Times,serif\" font-size=\"14.00\" text-anchor=\"middle\" x=\"103.5\" y=\"-849.8\">conv2d_2: Conv2D</text>\n",
       "<polyline fill=\"none\" points=\"165,-830.5 165,-876.5 \" stroke=\"#000000\"/>\n",
       "<text fill=\"#000000\" font-family=\"Times,serif\" font-size=\"14.00\" text-anchor=\"middle\" x=\"192.5\" y=\"-861.3\">input:</text>\n",
       "<polyline fill=\"none\" points=\"165,-853.5 220,-853.5 \" stroke=\"#000000\"/>\n",
       "<text fill=\"#000000\" font-family=\"Times,serif\" font-size=\"14.00\" text-anchor=\"middle\" x=\"192.5\" y=\"-838.3\">output:</text>\n",
       "<polyline fill=\"none\" points=\"220,-830.5 220,-876.5 \" stroke=\"#000000\"/>\n",
       "<text fill=\"#000000\" font-family=\"Times,serif\" font-size=\"14.00\" text-anchor=\"middle\" x=\"285.5\" y=\"-861.3\">(None, 200, 200, 32)</text>\n",
       "<polyline fill=\"none\" points=\"220,-853.5 351,-853.5 \" stroke=\"#000000\"/>\n",
       "<text fill=\"#000000\" font-family=\"Times,serif\" font-size=\"14.00\" text-anchor=\"middle\" x=\"285.5\" y=\"-838.3\">(None, 200, 200, 32)</text>\n",
       "</g>\n",
       "<!-- 139955000538512&#45;&gt;139955003067664 -->\n",
       "<g class=\"edge\" id=\"edge2\">\n",
       "<title>139955000538512-&gt;139955003067664</title>\n",
       "<path d=\"M196.5,-913.3799C196.5,-905.1745 196.5,-895.7679 196.5,-886.8786\" fill=\"none\" stroke=\"#000000\"/>\n",
       "<polygon fill=\"#000000\" points=\"200.0001,-886.784 196.5,-876.784 193.0001,-886.784 200.0001,-886.784\" stroke=\"#000000\"/>\n",
       "</g>\n",
       "<!-- 139954992882704 -->\n",
       "<g class=\"node\" id=\"node4\">\n",
       "<title>139954992882704</title>\n",
       "<polygon fill=\"none\" points=\"0,-747.5 0,-793.5 393,-793.5 393,-747.5 0,-747.5\" stroke=\"#000000\"/>\n",
       "<text fill=\"#000000\" font-family=\"Times,serif\" font-size=\"14.00\" text-anchor=\"middle\" x=\"103.5\" y=\"-766.8\">max_pooling2d_1: MaxPooling2D</text>\n",
       "<polyline fill=\"none\" points=\"207,-747.5 207,-793.5 \" stroke=\"#000000\"/>\n",
       "<text fill=\"#000000\" font-family=\"Times,serif\" font-size=\"14.00\" text-anchor=\"middle\" x=\"234.5\" y=\"-778.3\">input:</text>\n",
       "<polyline fill=\"none\" points=\"207,-770.5 262,-770.5 \" stroke=\"#000000\"/>\n",
       "<text fill=\"#000000\" font-family=\"Times,serif\" font-size=\"14.00\" text-anchor=\"middle\" x=\"234.5\" y=\"-755.3\">output:</text>\n",
       "<polyline fill=\"none\" points=\"262,-747.5 262,-793.5 \" stroke=\"#000000\"/>\n",
       "<text fill=\"#000000\" font-family=\"Times,serif\" font-size=\"14.00\" text-anchor=\"middle\" x=\"327.5\" y=\"-778.3\">(None, 200, 200, 32)</text>\n",
       "<polyline fill=\"none\" points=\"262,-770.5 393,-770.5 \" stroke=\"#000000\"/>\n",
       "<text fill=\"#000000\" font-family=\"Times,serif\" font-size=\"14.00\" text-anchor=\"middle\" x=\"327.5\" y=\"-755.3\">(None, 100, 100, 32)</text>\n",
       "</g>\n",
       "<!-- 139955003067664&#45;&gt;139954992882704 -->\n",
       "<g class=\"edge\" id=\"edge3\">\n",
       "<title>139955003067664-&gt;139954992882704</title>\n",
       "<path d=\"M196.5,-830.3799C196.5,-822.1745 196.5,-812.7679 196.5,-803.8786\" fill=\"none\" stroke=\"#000000\"/>\n",
       "<polygon fill=\"#000000\" points=\"200.0001,-803.784 196.5,-793.784 193.0001,-803.784 200.0001,-803.784\" stroke=\"#000000\"/>\n",
       "</g>\n",
       "<!-- 139954998443536 -->\n",
       "<g class=\"node\" id=\"node5\">\n",
       "<title>139954998443536</title>\n",
       "<polygon fill=\"none\" points=\"42,-664.5 42,-710.5 351,-710.5 351,-664.5 42,-664.5\" stroke=\"#000000\"/>\n",
       "<text fill=\"#000000\" font-family=\"Times,serif\" font-size=\"14.00\" text-anchor=\"middle\" x=\"103.5\" y=\"-683.8\">conv2d_3: Conv2D</text>\n",
       "<polyline fill=\"none\" points=\"165,-664.5 165,-710.5 \" stroke=\"#000000\"/>\n",
       "<text fill=\"#000000\" font-family=\"Times,serif\" font-size=\"14.00\" text-anchor=\"middle\" x=\"192.5\" y=\"-695.3\">input:</text>\n",
       "<polyline fill=\"none\" points=\"165,-687.5 220,-687.5 \" stroke=\"#000000\"/>\n",
       "<text fill=\"#000000\" font-family=\"Times,serif\" font-size=\"14.00\" text-anchor=\"middle\" x=\"192.5\" y=\"-672.3\">output:</text>\n",
       "<polyline fill=\"none\" points=\"220,-664.5 220,-710.5 \" stroke=\"#000000\"/>\n",
       "<text fill=\"#000000\" font-family=\"Times,serif\" font-size=\"14.00\" text-anchor=\"middle\" x=\"285.5\" y=\"-695.3\">(None, 100, 100, 32)</text>\n",
       "<polyline fill=\"none\" points=\"220,-687.5 351,-687.5 \" stroke=\"#000000\"/>\n",
       "<text fill=\"#000000\" font-family=\"Times,serif\" font-size=\"14.00\" text-anchor=\"middle\" x=\"285.5\" y=\"-672.3\">(None, 100, 100, 32)</text>\n",
       "</g>\n",
       "<!-- 139954992882704&#45;&gt;139954998443536 -->\n",
       "<g class=\"edge\" id=\"edge4\">\n",
       "<title>139954992882704-&gt;139954998443536</title>\n",
       "<path d=\"M196.5,-747.3799C196.5,-739.1745 196.5,-729.7679 196.5,-720.8786\" fill=\"none\" stroke=\"#000000\"/>\n",
       "<polygon fill=\"#000000\" points=\"200.0001,-720.784 196.5,-710.784 193.0001,-720.784 200.0001,-720.784\" stroke=\"#000000\"/>\n",
       "</g>\n",
       "<!-- 139954999033360 -->\n",
       "<g class=\"node\" id=\"node6\">\n",
       "<title>139954999033360</title>\n",
       "<polygon fill=\"none\" points=\"42,-581.5 42,-627.5 351,-627.5 351,-581.5 42,-581.5\" stroke=\"#000000\"/>\n",
       "<text fill=\"#000000\" font-family=\"Times,serif\" font-size=\"14.00\" text-anchor=\"middle\" x=\"103.5\" y=\"-600.8\">conv2d_4: Conv2D</text>\n",
       "<polyline fill=\"none\" points=\"165,-581.5 165,-627.5 \" stroke=\"#000000\"/>\n",
       "<text fill=\"#000000\" font-family=\"Times,serif\" font-size=\"14.00\" text-anchor=\"middle\" x=\"192.5\" y=\"-612.3\">input:</text>\n",
       "<polyline fill=\"none\" points=\"165,-604.5 220,-604.5 \" stroke=\"#000000\"/>\n",
       "<text fill=\"#000000\" font-family=\"Times,serif\" font-size=\"14.00\" text-anchor=\"middle\" x=\"192.5\" y=\"-589.3\">output:</text>\n",
       "<polyline fill=\"none\" points=\"220,-581.5 220,-627.5 \" stroke=\"#000000\"/>\n",
       "<text fill=\"#000000\" font-family=\"Times,serif\" font-size=\"14.00\" text-anchor=\"middle\" x=\"285.5\" y=\"-612.3\">(None, 100, 100, 32)</text>\n",
       "<polyline fill=\"none\" points=\"220,-604.5 351,-604.5 \" stroke=\"#000000\"/>\n",
       "<text fill=\"#000000\" font-family=\"Times,serif\" font-size=\"14.00\" text-anchor=\"middle\" x=\"285.5\" y=\"-589.3\">(None, 100, 100, 32)</text>\n",
       "</g>\n",
       "<!-- 139954998443536&#45;&gt;139954999033360 -->\n",
       "<g class=\"edge\" id=\"edge5\">\n",
       "<title>139954998443536-&gt;139954999033360</title>\n",
       "<path d=\"M196.5,-664.3799C196.5,-656.1745 196.5,-646.7679 196.5,-637.8786\" fill=\"none\" stroke=\"#000000\"/>\n",
       "<polygon fill=\"#000000\" points=\"200.0001,-637.784 196.5,-627.784 193.0001,-637.784 200.0001,-637.784\" stroke=\"#000000\"/>\n",
       "</g>\n",
       "<!-- 139954998371664 -->\n",
       "<g class=\"node\" id=\"node7\">\n",
       "<title>139954998371664</title>\n",
       "<polygon fill=\"none\" points=\"42,-498.5 42,-544.5 351,-544.5 351,-498.5 42,-498.5\" stroke=\"#000000\"/>\n",
       "<text fill=\"#000000\" font-family=\"Times,serif\" font-size=\"14.00\" text-anchor=\"middle\" x=\"103.5\" y=\"-517.8\">conv2d_5: Conv2D</text>\n",
       "<polyline fill=\"none\" points=\"165,-498.5 165,-544.5 \" stroke=\"#000000\"/>\n",
       "<text fill=\"#000000\" font-family=\"Times,serif\" font-size=\"14.00\" text-anchor=\"middle\" x=\"192.5\" y=\"-529.3\">input:</text>\n",
       "<polyline fill=\"none\" points=\"165,-521.5 220,-521.5 \" stroke=\"#000000\"/>\n",
       "<text fill=\"#000000\" font-family=\"Times,serif\" font-size=\"14.00\" text-anchor=\"middle\" x=\"192.5\" y=\"-506.3\">output:</text>\n",
       "<polyline fill=\"none\" points=\"220,-498.5 220,-544.5 \" stroke=\"#000000\"/>\n",
       "<text fill=\"#000000\" font-family=\"Times,serif\" font-size=\"14.00\" text-anchor=\"middle\" x=\"285.5\" y=\"-529.3\">(None, 100, 100, 32)</text>\n",
       "<polyline fill=\"none\" points=\"220,-521.5 351,-521.5 \" stroke=\"#000000\"/>\n",
       "<text fill=\"#000000\" font-family=\"Times,serif\" font-size=\"14.00\" text-anchor=\"middle\" x=\"285.5\" y=\"-506.3\">(None, 98, 98, 32)</text>\n",
       "</g>\n",
       "<!-- 139954999033360&#45;&gt;139954998371664 -->\n",
       "<g class=\"edge\" id=\"edge6\">\n",
       "<title>139954999033360-&gt;139954998371664</title>\n",
       "<path d=\"M196.5,-581.3799C196.5,-573.1745 196.5,-563.7679 196.5,-554.8786\" fill=\"none\" stroke=\"#000000\"/>\n",
       "<polygon fill=\"#000000\" points=\"200.0001,-554.784 196.5,-544.784 193.0001,-554.784 200.0001,-554.784\" stroke=\"#000000\"/>\n",
       "</g>\n",
       "<!-- 139954999445264 -->\n",
       "<g class=\"node\" id=\"node8\">\n",
       "<title>139954999445264</title>\n",
       "<polygon fill=\"none\" points=\"6.5,-415.5 6.5,-461.5 386.5,-461.5 386.5,-415.5 6.5,-415.5\" stroke=\"#000000\"/>\n",
       "<text fill=\"#000000\" font-family=\"Times,serif\" font-size=\"14.00\" text-anchor=\"middle\" x=\"110\" y=\"-434.8\">max_pooling2d_2: MaxPooling2D</text>\n",
       "<polyline fill=\"none\" points=\"213.5,-415.5 213.5,-461.5 \" stroke=\"#000000\"/>\n",
       "<text fill=\"#000000\" font-family=\"Times,serif\" font-size=\"14.00\" text-anchor=\"middle\" x=\"241\" y=\"-446.3\">input:</text>\n",
       "<polyline fill=\"none\" points=\"213.5,-438.5 268.5,-438.5 \" stroke=\"#000000\"/>\n",
       "<text fill=\"#000000\" font-family=\"Times,serif\" font-size=\"14.00\" text-anchor=\"middle\" x=\"241\" y=\"-423.3\">output:</text>\n",
       "<polyline fill=\"none\" points=\"268.5,-415.5 268.5,-461.5 \" stroke=\"#000000\"/>\n",
       "<text fill=\"#000000\" font-family=\"Times,serif\" font-size=\"14.00\" text-anchor=\"middle\" x=\"327.5\" y=\"-446.3\">(None, 98, 98, 32)</text>\n",
       "<polyline fill=\"none\" points=\"268.5,-438.5 386.5,-438.5 \" stroke=\"#000000\"/>\n",
       "<text fill=\"#000000\" font-family=\"Times,serif\" font-size=\"14.00\" text-anchor=\"middle\" x=\"327.5\" y=\"-423.3\">(None, 49, 49, 32)</text>\n",
       "</g>\n",
       "<!-- 139954998371664&#45;&gt;139954999445264 -->\n",
       "<g class=\"edge\" id=\"edge7\">\n",
       "<title>139954998371664-&gt;139954999445264</title>\n",
       "<path d=\"M196.5,-498.3799C196.5,-490.1745 196.5,-480.7679 196.5,-471.8786\" fill=\"none\" stroke=\"#000000\"/>\n",
       "<polygon fill=\"#000000\" points=\"200.0001,-471.784 196.5,-461.784 193.0001,-471.784 200.0001,-471.784\" stroke=\"#000000\"/>\n",
       "</g>\n",
       "<!-- 139955001189968 -->\n",
       "<g class=\"node\" id=\"node9\">\n",
       "<title>139955001189968</title>\n",
       "<polygon fill=\"none\" points=\"48.5,-332.5 48.5,-378.5 344.5,-378.5 344.5,-332.5 48.5,-332.5\" stroke=\"#000000\"/>\n",
       "<text fill=\"#000000\" font-family=\"Times,serif\" font-size=\"14.00\" text-anchor=\"middle\" x=\"110\" y=\"-351.8\">conv2d_6: Conv2D</text>\n",
       "<polyline fill=\"none\" points=\"171.5,-332.5 171.5,-378.5 \" stroke=\"#000000\"/>\n",
       "<text fill=\"#000000\" font-family=\"Times,serif\" font-size=\"14.00\" text-anchor=\"middle\" x=\"199\" y=\"-363.3\">input:</text>\n",
       "<polyline fill=\"none\" points=\"171.5,-355.5 226.5,-355.5 \" stroke=\"#000000\"/>\n",
       "<text fill=\"#000000\" font-family=\"Times,serif\" font-size=\"14.00\" text-anchor=\"middle\" x=\"199\" y=\"-340.3\">output:</text>\n",
       "<polyline fill=\"none\" points=\"226.5,-332.5 226.5,-378.5 \" stroke=\"#000000\"/>\n",
       "<text fill=\"#000000\" font-family=\"Times,serif\" font-size=\"14.00\" text-anchor=\"middle\" x=\"285.5\" y=\"-363.3\">(None, 49, 49, 32)</text>\n",
       "<polyline fill=\"none\" points=\"226.5,-355.5 344.5,-355.5 \" stroke=\"#000000\"/>\n",
       "<text fill=\"#000000\" font-family=\"Times,serif\" font-size=\"14.00\" text-anchor=\"middle\" x=\"285.5\" y=\"-340.3\">(None, 47, 47, 16)</text>\n",
       "</g>\n",
       "<!-- 139954999445264&#45;&gt;139955001189968 -->\n",
       "<g class=\"edge\" id=\"edge8\">\n",
       "<title>139954999445264-&gt;139955001189968</title>\n",
       "<path d=\"M196.5,-415.3799C196.5,-407.1745 196.5,-397.7679 196.5,-388.8786\" fill=\"none\" stroke=\"#000000\"/>\n",
       "<polygon fill=\"#000000\" points=\"200.0001,-388.784 196.5,-378.784 193.0001,-388.784 200.0001,-388.784\" stroke=\"#000000\"/>\n",
       "</g>\n",
       "<!-- 139954999502160 -->\n",
       "<g class=\"node\" id=\"node10\">\n",
       "<title>139954999502160</title>\n",
       "<polygon fill=\"none\" points=\"55,-249.5 55,-295.5 338,-295.5 338,-249.5 55,-249.5\" stroke=\"#000000\"/>\n",
       "<text fill=\"#000000\" font-family=\"Times,serif\" font-size=\"14.00\" text-anchor=\"middle\" x=\"110\" y=\"-268.8\">flatten_1: Flatten</text>\n",
       "<polyline fill=\"none\" points=\"165,-249.5 165,-295.5 \" stroke=\"#000000\"/>\n",
       "<text fill=\"#000000\" font-family=\"Times,serif\" font-size=\"14.00\" text-anchor=\"middle\" x=\"192.5\" y=\"-280.3\">input:</text>\n",
       "<polyline fill=\"none\" points=\"165,-272.5 220,-272.5 \" stroke=\"#000000\"/>\n",
       "<text fill=\"#000000\" font-family=\"Times,serif\" font-size=\"14.00\" text-anchor=\"middle\" x=\"192.5\" y=\"-257.3\">output:</text>\n",
       "<polyline fill=\"none\" points=\"220,-249.5 220,-295.5 \" stroke=\"#000000\"/>\n",
       "<text fill=\"#000000\" font-family=\"Times,serif\" font-size=\"14.00\" text-anchor=\"middle\" x=\"279\" y=\"-280.3\">(None, 47, 47, 16)</text>\n",
       "<polyline fill=\"none\" points=\"220,-272.5 338,-272.5 \" stroke=\"#000000\"/>\n",
       "<text fill=\"#000000\" font-family=\"Times,serif\" font-size=\"14.00\" text-anchor=\"middle\" x=\"279\" y=\"-257.3\">(None, 35344)</text>\n",
       "</g>\n",
       "<!-- 139955001189968&#45;&gt;139954999502160 -->\n",
       "<g class=\"edge\" id=\"edge9\">\n",
       "<title>139955001189968-&gt;139954999502160</title>\n",
       "<path d=\"M196.5,-332.3799C196.5,-324.1745 196.5,-314.7679 196.5,-305.8786\" fill=\"none\" stroke=\"#000000\"/>\n",
       "<polygon fill=\"#000000\" points=\"200.0001,-305.784 196.5,-295.784 193.0001,-305.784 200.0001,-305.784\" stroke=\"#000000\"/>\n",
       "</g>\n",
       "<!-- 139954999501136 -->\n",
       "<g class=\"node\" id=\"node11\">\n",
       "<title>139954999501136</title>\n",
       "<polygon fill=\"none\" points=\"70,-166.5 70,-212.5 323,-212.5 323,-166.5 70,-166.5\" stroke=\"#000000\"/>\n",
       "<text fill=\"#000000\" font-family=\"Times,serif\" font-size=\"14.00\" text-anchor=\"middle\" x=\"121\" y=\"-185.8\">dense_1: Dense</text>\n",
       "<polyline fill=\"none\" points=\"172,-166.5 172,-212.5 \" stroke=\"#000000\"/>\n",
       "<text fill=\"#000000\" font-family=\"Times,serif\" font-size=\"14.00\" text-anchor=\"middle\" x=\"199.5\" y=\"-197.3\">input:</text>\n",
       "<polyline fill=\"none\" points=\"172,-189.5 227,-189.5 \" stroke=\"#000000\"/>\n",
       "<text fill=\"#000000\" font-family=\"Times,serif\" font-size=\"14.00\" text-anchor=\"middle\" x=\"199.5\" y=\"-174.3\">output:</text>\n",
       "<polyline fill=\"none\" points=\"227,-166.5 227,-212.5 \" stroke=\"#000000\"/>\n",
       "<text fill=\"#000000\" font-family=\"Times,serif\" font-size=\"14.00\" text-anchor=\"middle\" x=\"275\" y=\"-197.3\">(None, 35344)</text>\n",
       "<polyline fill=\"none\" points=\"227,-189.5 323,-189.5 \" stroke=\"#000000\"/>\n",
       "<text fill=\"#000000\" font-family=\"Times,serif\" font-size=\"14.00\" text-anchor=\"middle\" x=\"275\" y=\"-174.3\">(None, 64)</text>\n",
       "</g>\n",
       "<!-- 139954999502160&#45;&gt;139954999501136 -->\n",
       "<g class=\"edge\" id=\"edge10\">\n",
       "<title>139954999502160-&gt;139954999501136</title>\n",
       "<path d=\"M196.5,-249.3799C196.5,-241.1745 196.5,-231.7679 196.5,-222.8786\" fill=\"none\" stroke=\"#000000\"/>\n",
       "<polygon fill=\"#000000\" points=\"200.0001,-222.784 196.5,-212.784 193.0001,-222.784 200.0001,-222.784\" stroke=\"#000000\"/>\n",
       "</g>\n",
       "<!-- 139954998543056 -->\n",
       "<g class=\"node\" id=\"node12\">\n",
       "<title>139954998543056</title>\n",
       "<polygon fill=\"none\" points=\"80,-83.5 80,-129.5 313,-129.5 313,-83.5 80,-83.5\" stroke=\"#000000\"/>\n",
       "<text fill=\"#000000\" font-family=\"Times,serif\" font-size=\"14.00\" text-anchor=\"middle\" x=\"131\" y=\"-102.8\">dense_2: Dense</text>\n",
       "<polyline fill=\"none\" points=\"182,-83.5 182,-129.5 \" stroke=\"#000000\"/>\n",
       "<text fill=\"#000000\" font-family=\"Times,serif\" font-size=\"14.00\" text-anchor=\"middle\" x=\"209.5\" y=\"-114.3\">input:</text>\n",
       "<polyline fill=\"none\" points=\"182,-106.5 237,-106.5 \" stroke=\"#000000\"/>\n",
       "<text fill=\"#000000\" font-family=\"Times,serif\" font-size=\"14.00\" text-anchor=\"middle\" x=\"209.5\" y=\"-91.3\">output:</text>\n",
       "<polyline fill=\"none\" points=\"237,-83.5 237,-129.5 \" stroke=\"#000000\"/>\n",
       "<text fill=\"#000000\" font-family=\"Times,serif\" font-size=\"14.00\" text-anchor=\"middle\" x=\"275\" y=\"-114.3\">(None, 64)</text>\n",
       "<polyline fill=\"none\" points=\"237,-106.5 313,-106.5 \" stroke=\"#000000\"/>\n",
       "<text fill=\"#000000\" font-family=\"Times,serif\" font-size=\"14.00\" text-anchor=\"middle\" x=\"275\" y=\"-91.3\">(None, 32)</text>\n",
       "</g>\n",
       "<!-- 139954999501136&#45;&gt;139954998543056 -->\n",
       "<g class=\"edge\" id=\"edge11\">\n",
       "<title>139954999501136-&gt;139954998543056</title>\n",
       "<path d=\"M196.5,-166.3799C196.5,-158.1745 196.5,-148.7679 196.5,-139.8786\" fill=\"none\" stroke=\"#000000\"/>\n",
       "<polygon fill=\"#000000\" points=\"200.0001,-139.784 196.5,-129.784 193.0001,-139.784 200.0001,-139.784\" stroke=\"#000000\"/>\n",
       "</g>\n",
       "<!-- 139954998946128 -->\n",
       "<g class=\"node\" id=\"node13\">\n",
       "<title>139954998946128</title>\n",
       "<polygon fill=\"none\" points=\"80,-.5 80,-46.5 313,-46.5 313,-.5 80,-.5\" stroke=\"#000000\"/>\n",
       "<text fill=\"#000000\" font-family=\"Times,serif\" font-size=\"14.00\" text-anchor=\"middle\" x=\"131\" y=\"-19.8\">dense_3: Dense</text>\n",
       "<polyline fill=\"none\" points=\"182,-.5 182,-46.5 \" stroke=\"#000000\"/>\n",
       "<text fill=\"#000000\" font-family=\"Times,serif\" font-size=\"14.00\" text-anchor=\"middle\" x=\"209.5\" y=\"-31.3\">input:</text>\n",
       "<polyline fill=\"none\" points=\"182,-23.5 237,-23.5 \" stroke=\"#000000\"/>\n",
       "<text fill=\"#000000\" font-family=\"Times,serif\" font-size=\"14.00\" text-anchor=\"middle\" x=\"209.5\" y=\"-8.3\">output:</text>\n",
       "<polyline fill=\"none\" points=\"237,-.5 237,-46.5 \" stroke=\"#000000\"/>\n",
       "<text fill=\"#000000\" font-family=\"Times,serif\" font-size=\"14.00\" text-anchor=\"middle\" x=\"275\" y=\"-31.3\">(None, 32)</text>\n",
       "<polyline fill=\"none\" points=\"237,-23.5 313,-23.5 \" stroke=\"#000000\"/>\n",
       "<text fill=\"#000000\" font-family=\"Times,serif\" font-size=\"14.00\" text-anchor=\"middle\" x=\"275\" y=\"-8.3\">(None, 7)</text>\n",
       "</g>\n",
       "<!-- 139954998543056&#45;&gt;139954998946128 -->\n",
       "<g class=\"edge\" id=\"edge12\">\n",
       "<title>139954998543056-&gt;139954998946128</title>\n",
       "<path d=\"M196.5,-83.3799C196.5,-75.1745 196.5,-65.7679 196.5,-56.8786\" fill=\"none\" stroke=\"#000000\"/>\n",
       "<polygon fill=\"#000000\" points=\"200.0001,-56.784 196.5,-46.784 193.0001,-56.784 200.0001,-56.784\" stroke=\"#000000\"/>\n",
       "</g>\n",
       "</g>\n",
       "</svg>"
      ],
      "text/plain": [
       "<IPython.core.display.SVG object>"
      ]
     },
     "execution_count": 131,
     "metadata": {},
     "output_type": "execute_result"
    }
   ],
   "source": [
    "from IPython.display import SVG\n",
    "from keras.utils.vis_utils import model_to_dot\n",
    "\n",
    "SVG(model_to_dot(model(), show_shapes=True).create(prog='dot', format='svg'))"
   ]
  },
  {
   "cell_type": "code",
   "execution_count": 83,
   "metadata": {},
   "outputs": [],
   "source": [
    "# SVG(model_to_dot(model.get_layer('model_1'), show_shapes=True).create(prog='dot', format='svg'))"
   ]
  }
 ],
 "metadata": {
  "_draft": {
   "nbviewer_url": "https://gist.github.com/06ecd7830e31f92de2460b48d905ac44"
  },
  "gist": {
   "data": {
    "description": "interaction_results.ipynb",
    "public": false
   },
   "id": "06ecd7830e31f92de2460b48d905ac44"
  },
  "kernelspec": {
   "display_name": "Python 2",
   "language": "python",
   "name": "python2"
  },
  "language_info": {
   "codemirror_mode": {
    "name": "ipython",
    "version": 2
   },
   "file_extension": ".py",
   "mimetype": "text/x-python",
   "name": "python",
   "nbconvert_exporter": "python",
   "pygments_lexer": "ipython2",
   "version": "2.7.14"
  },
  "toc": {
   "nav_menu": {
    "height": "175px",
    "width": "161px"
   },
   "number_sections": true,
   "sideBar": false,
   "skip_h1_title": false,
   "toc_cell": false,
   "toc_position": {},
   "toc_section_display": "block",
   "toc_window_display": false
  }
 },
 "nbformat": 4,
 "nbformat_minor": 2
}
