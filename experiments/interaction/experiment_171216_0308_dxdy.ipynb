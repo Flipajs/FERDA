{
 "cells": [
  {
   "cell_type": "code",
   "execution_count": 7,
   "metadata": {},
   "outputs": [],
   "source": [
    "%matplotlib inline\n",
    "import matplotlib.pyplot as plt\n",
    "import h5py\n",
    "from imageio import imread\n",
    "import numpy as np\n",
    "import os\n",
    "from os.path import join\n",
    "import train_interactions\n",
    "import pandas as pd\n",
    "import train_interactions\n",
    "import warnings\n",
    "pd.set_option('precision', 2)"
   ]
  },
  {
   "cell_type": "code",
   "execution_count": 8,
   "metadata": {},
   "outputs": [],
   "source": [
    "DATA_DIR = '/home/matej/prace/ferda/data/interactions/1712_1k_36rot'\n",
    "EXPERIMENT_DIR = '/home/matej/prace/ferda/experiments/171216_0308/'\n",
    "# SUB_EXPERIMENT = 0.620689655172"
   ]
  },
  {
   "cell_type": "code",
   "execution_count": 24,
   "metadata": {},
   "outputs": [],
   "source": [
    "def tostruct(ndarray):\n",
    "    NAMES = 'ant1_x, ant1_y, ant1_major, ant1_minor, ant1_angle_deg, ant1_dx, ant1_dy,' \\\n",
    "            'ant2_x, ant2_y, ant2_major, ant2_minor, ant2_angle_deg, ant2_dx, ant2_dy'\n",
    "    FORMATS = 14 * 'f,'\n",
    "    return np.core.records.fromarrays(ndarray.transpose(), names=NAMES, formats=FORMATS)"
   ]
  },
  {
   "cell_type": "code",
   "execution_count": 25,
   "metadata": {},
   "outputs": [],
   "source": [
    "y_test = pd.read_csv(join(DATA_DIR, 'test.csv'))    \n",
    "\n",
    "with h5py.File(join(EXPERIMENT_DIR, 'predictions.h5'), 'r') as hf:  # str(SUB_EXPERIMENT), \n",
    "    pred = hf['data'][:]\n",
    "    pred_df = pd.DataFrame(tostruct(pred))\n",
    "    \n",
    "loss_alpha_batch = pd.read_csv(join(EXPERIMENT_DIR, 'results.csv'))    "
   ]
  },
  {
   "cell_type": "code",
   "execution_count": 17,
   "metadata": {},
   "outputs": [],
   "source": [
    "# loss_alpha_batch[loss_alpha_batch['loss_alpha'] == SUB_EXPERIMENT]"
   ]
  },
  {
   "cell_type": "code",
   "execution_count": null,
   "metadata": {},
   "outputs": [],
   "source": [
    "loss_alpha_batch['xy MAE'].iloc[-1] = np.nan\n",
    "xy = loss_alpha_batch['xy MAE']\n",
    "loss_alpha_batch['xy MAE norm'] = (xy - xy.mean()) / xy.std()\n",
    "#loss_alpha_batch['angle MAE'].iloc[0] = np.nan\n",
    "angle = loss_alpha_batch['angle MAE']\n",
    "loss_alpha_batch['angle MAE norm'] = (angle - angle.mean()) / angle.std()\n",
    "loss_alpha_batch['sum norm'] = loss_alpha_batch['angle MAE norm'] + loss_alpha_batch['xy MAE norm']\n",
    "loss_alpha_batch['alpha sum norm'] = loss_alpha_batch['angle MAE norm'] * (1 - loss_alpha_batch['loss_alpha']) + \\\n",
    "                                     loss_alpha_batch['xy MAE norm'] * loss_alpha_batch['loss_alpha']"
   ]
  },
  {
   "cell_type": "code",
   "execution_count": null,
   "metadata": {
    "cell_style": "center"
   },
   "outputs": [],
   "source": [
    "# ax = loss_alpha_batch.plot('loss_alpha', ['xy MAE norm', 'angle MAE norm', 'alpha sum norm'], \n",
    "#                            title='normalized mean absolute errors')\n",
    "# ax.legend(['xy', 'angle', 'alpha weighted sum'])\n",
    "# ax.set_xlabel('alpha')"
   ]
  },
  {
   "cell_type": "code",
   "execution_count": null,
   "metadata": {
    "cell_style": "center"
   },
   "outputs": [],
   "source": [
    "ax = loss_alpha_batch.plot('loss_alpha', ['xy MAE', 'angle MAE'], title='mean absolute errors')\n",
    "ax.set_ylabel('deg, px')\n",
    "ax.set_xlabel('alpha')\n",
    "ax.set_ylim(0, 24)\n",
    "ax.vlines(SUB_EXPERIMENT, ax.get_ylim()[0], ax.get_ylim()[1],\n",
    "          'r')\n",
    "ax.legend(['xy', 'angle', 'best alpha'])"
   ]
  },
  {
   "cell_type": "markdown",
   "metadata": {},
   "source": [
    "# Predictions"
   ]
  },
  {
   "cell_type": "code",
   "execution_count": 26,
   "metadata": {},
   "outputs": [
    {
     "data": {
      "text/html": [
       "<div>\n",
       "<style scoped>\n",
       "    .dataframe tbody tr th:only-of-type {\n",
       "        vertical-align: middle;\n",
       "    }\n",
       "\n",
       "    .dataframe tbody tr th {\n",
       "        vertical-align: top;\n",
       "    }\n",
       "\n",
       "    .dataframe thead th {\n",
       "        text-align: right;\n",
       "    }\n",
       "</style>\n",
       "<table border=\"1\" class=\"dataframe\">\n",
       "  <thead>\n",
       "    <tr style=\"text-align: right;\">\n",
       "      <th></th>\n",
       "      <th>ant1_x</th>\n",
       "      <th>ant1_y</th>\n",
       "      <th>ant1_major</th>\n",
       "      <th>ant1_minor</th>\n",
       "      <th>ant1_angle_deg</th>\n",
       "      <th>ant1_dx</th>\n",
       "      <th>ant1_dy</th>\n",
       "      <th>ant2_x</th>\n",
       "      <th>ant2_y</th>\n",
       "      <th>ant2_major</th>\n",
       "      <th>ant2_minor</th>\n",
       "      <th>ant2_angle_deg</th>\n",
       "      <th>ant2_dx</th>\n",
       "      <th>ant2_dy</th>\n",
       "    </tr>\n",
       "  </thead>\n",
       "  <tbody>\n",
       "    <tr>\n",
       "      <th>count</th>\n",
       "      <td>3600.00</td>\n",
       "      <td>3600.00</td>\n",
       "      <td>3600.00</td>\n",
       "      <td>3600.00</td>\n",
       "      <td>3600.00</td>\n",
       "      <td>3600.00</td>\n",
       "      <td>3600.00</td>\n",
       "      <td>3600.00</td>\n",
       "      <td>3600.00</td>\n",
       "      <td>3600.00</td>\n",
       "      <td>3600.00</td>\n",
       "      <td>3600.00</td>\n",
       "      <td>3600.00</td>\n",
       "      <td>3600.00</td>\n",
       "    </tr>\n",
       "    <tr>\n",
       "      <th>mean</th>\n",
       "      <td>92.78</td>\n",
       "      <td>107.19</td>\n",
       "      <td>-11.36</td>\n",
       "      <td>-21.49</td>\n",
       "      <td>11.91</td>\n",
       "      <td>0.97</td>\n",
       "      <td>15.04</td>\n",
       "      <td>104.87</td>\n",
       "      <td>89.26</td>\n",
       "      <td>-0.01</td>\n",
       "      <td>12.95</td>\n",
       "      <td>72.04</td>\n",
       "      <td>-1.70</td>\n",
       "      <td>8.33</td>\n",
       "    </tr>\n",
       "    <tr>\n",
       "      <th>std</th>\n",
       "      <td>9.66</td>\n",
       "      <td>7.75</td>\n",
       "      <td>10.33</td>\n",
       "      <td>6.22</td>\n",
       "      <td>6.57</td>\n",
       "      <td>7.87</td>\n",
       "      <td>10.70</td>\n",
       "      <td>10.85</td>\n",
       "      <td>7.06</td>\n",
       "      <td>7.84</td>\n",
       "      <td>8.59</td>\n",
       "      <td>8.26</td>\n",
       "      <td>9.31</td>\n",
       "      <td>7.94</td>\n",
       "    </tr>\n",
       "    <tr>\n",
       "      <th>min</th>\n",
       "      <td>67.47</td>\n",
       "      <td>83.80</td>\n",
       "      <td>-31.40</td>\n",
       "      <td>-50.21</td>\n",
       "      <td>-16.64</td>\n",
       "      <td>-35.44</td>\n",
       "      <td>-9.39</td>\n",
       "      <td>72.06</td>\n",
       "      <td>71.45</td>\n",
       "      <td>-29.56</td>\n",
       "      <td>-7.95</td>\n",
       "      <td>40.22</td>\n",
       "      <td>-39.41</td>\n",
       "      <td>-41.54</td>\n",
       "    </tr>\n",
       "    <tr>\n",
       "      <th>25%</th>\n",
       "      <td>85.16</td>\n",
       "      <td>102.40</td>\n",
       "      <td>-19.26</td>\n",
       "      <td>-24.79</td>\n",
       "      <td>8.17</td>\n",
       "      <td>-3.28</td>\n",
       "      <td>7.08</td>\n",
       "      <td>96.89</td>\n",
       "      <td>83.71</td>\n",
       "      <td>-6.18</td>\n",
       "      <td>6.18</td>\n",
       "      <td>66.68</td>\n",
       "      <td>-6.03</td>\n",
       "      <td>4.32</td>\n",
       "    </tr>\n",
       "    <tr>\n",
       "      <th>50%</th>\n",
       "      <td>92.30</td>\n",
       "      <td>108.74</td>\n",
       "      <td>-12.92</td>\n",
       "      <td>-19.77</td>\n",
       "      <td>12.33</td>\n",
       "      <td>3.58</td>\n",
       "      <td>13.09</td>\n",
       "      <td>105.71</td>\n",
       "      <td>88.10</td>\n",
       "      <td>-0.16</td>\n",
       "      <td>11.68</td>\n",
       "      <td>70.27</td>\n",
       "      <td>0.60</td>\n",
       "      <td>9.39</td>\n",
       "    </tr>\n",
       "    <tr>\n",
       "      <th>75%</th>\n",
       "      <td>100.27</td>\n",
       "      <td>112.71</td>\n",
       "      <td>-4.50</td>\n",
       "      <td>-17.13</td>\n",
       "      <td>16.46</td>\n",
       "      <td>6.77</td>\n",
       "      <td>21.85</td>\n",
       "      <td>113.57</td>\n",
       "      <td>94.57</td>\n",
       "      <td>6.03</td>\n",
       "      <td>19.02</td>\n",
       "      <td>75.80</td>\n",
       "      <td>4.41</td>\n",
       "      <td>13.19</td>\n",
       "    </tr>\n",
       "    <tr>\n",
       "      <th>max</th>\n",
       "      <td>123.28</td>\n",
       "      <td>126.65</td>\n",
       "      <td>26.49</td>\n",
       "      <td>-8.75</td>\n",
       "      <td>28.01</td>\n",
       "      <td>16.77</td>\n",
       "      <td>64.39</td>\n",
       "      <td>135.17</td>\n",
       "      <td>119.95</td>\n",
       "      <td>25.41</td>\n",
       "      <td>45.99</td>\n",
       "      <td>112.72</td>\n",
       "      <td>23.52</td>\n",
       "      <td>29.41</td>\n",
       "    </tr>\n",
       "  </tbody>\n",
       "</table>\n",
       "</div>"
      ],
      "text/plain": [
       "        ant1_x   ant1_y  ant1_major  ant1_minor  ant1_angle_deg  ant1_dx  \\\n",
       "count  3600.00  3600.00     3600.00     3600.00         3600.00  3600.00   \n",
       "mean     92.78   107.19      -11.36      -21.49           11.91     0.97   \n",
       "std       9.66     7.75       10.33        6.22            6.57     7.87   \n",
       "min      67.47    83.80      -31.40      -50.21          -16.64   -35.44   \n",
       "25%      85.16   102.40      -19.26      -24.79            8.17    -3.28   \n",
       "50%      92.30   108.74      -12.92      -19.77           12.33     3.58   \n",
       "75%     100.27   112.71       -4.50      -17.13           16.46     6.77   \n",
       "max     123.28   126.65       26.49       -8.75           28.01    16.77   \n",
       "\n",
       "       ant1_dy   ant2_x   ant2_y  ant2_major  ant2_minor  ant2_angle_deg  \\\n",
       "count  3600.00  3600.00  3600.00     3600.00     3600.00         3600.00   \n",
       "mean     15.04   104.87    89.26       -0.01       12.95           72.04   \n",
       "std      10.70    10.85     7.06        7.84        8.59            8.26   \n",
       "min      -9.39    72.06    71.45      -29.56       -7.95           40.22   \n",
       "25%       7.08    96.89    83.71       -6.18        6.18           66.68   \n",
       "50%      13.09   105.71    88.10       -0.16       11.68           70.27   \n",
       "75%      21.85   113.57    94.57        6.03       19.02           75.80   \n",
       "max      64.39   135.17   119.95       25.41       45.99          112.72   \n",
       "\n",
       "       ant2_dx  ant2_dy  \n",
       "count  3600.00  3600.00  \n",
       "mean     -1.70     8.33  \n",
       "std       9.31     7.94  \n",
       "min     -39.41   -41.54  \n",
       "25%      -6.03     4.32  \n",
       "50%       0.60     9.39  \n",
       "75%       4.41    13.19  \n",
       "max      23.52    29.41  "
      ]
     },
     "execution_count": 26,
     "metadata": {},
     "output_type": "execute_result"
    }
   ],
   "source": [
    "pred_df.describe()"
   ]
  },
  {
   "cell_type": "code",
   "execution_count": 27,
   "metadata": {
    "cell_style": "split"
   },
   "outputs": [
    {
     "data": {
      "image/png": "[encoded data removed]",
      "text/plain": [
       "<matplotlib.figure.Figure at 0x7fb434f2f410>"
      ]
     },
     "metadata": {},
     "output_type": "display_data"
    }
   ],
   "source": [
    "_ = plt.hist2d(pred_df['ant1_x'], pred_df['ant1_y'], bins=40, range=((0, 199), (0, 199)))"
   ]
  },
  {
   "cell_type": "code",
   "execution_count": 28,
   "metadata": {
    "cell_style": "split"
   },
   "outputs": [
    {
     "data": {
      "image/png": "[encoded data removed]",
      "text/plain": [
       "<matplotlib.figure.Figure at 0x7fb434dfead0>"
      ]
     },
     "metadata": {},
     "output_type": "display_data"
    }
   ],
   "source": [
    "_ = plt.hist2d(pred_df['ant2_x'], pred_df['ant2_y'], bins=40, range=((0, 199), (0, 199)))"
   ]
  },
  {
   "cell_type": "code",
   "execution_count": 29,
   "metadata": {
    "cell_style": "split"
   },
   "outputs": [
    {
     "data": {
      "text/plain": [
       "<matplotlib.axes._subplots.AxesSubplot at 0x7fb434d5c9d0>"
      ]
     },
     "execution_count": 29,
     "metadata": {},
     "output_type": "execute_result"
    },
    {
     "data": {
      "image/png": "[encoded data removed]",
      "text/plain": [
       "<matplotlib.figure.Figure at 0x7fb434d67d90>"
      ]
     },
     "metadata": {},
     "output_type": "display_data"
    }
   ],
   "source": [
    "pred_df['ant1_angle_deg'].hist()"
   ]
  },
  {
   "cell_type": "code",
   "execution_count": 30,
   "metadata": {
    "cell_style": "split"
   },
   "outputs": [
    {
     "data": {
      "text/plain": [
       "<matplotlib.axes._subplots.AxesSubplot at 0x7fb434c28210>"
      ]
     },
     "execution_count": 30,
     "metadata": {},
     "output_type": "execute_result"
    },
    {
     "data": {
      "image/png": "[encoded data removed]",
      "text/plain": [
       "<matplotlib.figure.Figure at 0x7fb434c7f350>"
      ]
     },
     "metadata": {},
     "output_type": "display_data"
    }
   ],
   "source": [
    "(pred_df['ant1_angle_deg'] % 180).hist()"
   ]
  },
  {
   "cell_type": "code",
   "execution_count": 32,
   "metadata": {
    "cell_style": "split"
   },
   "outputs": [
    {
     "data": {
      "text/plain": [
       "<matplotlib.axes._subplots.AxesSubplot at 0x7fb434e09410>"
      ]
     },
     "execution_count": 32,
     "metadata": {},
     "output_type": "execute_result"
    },
    {
     "data": {
      "image/png": "[encoded data removed]",
      "text/plain": [
       "<matplotlib.figure.Figure at 0x7fb434ec8990>"
      ]
     },
     "metadata": {},
     "output_type": "display_data"
    }
   ],
   "source": [
    "pred_df['ant2_angle_deg'].hist()"
   ]
  },
  {
   "cell_type": "code",
   "execution_count": 31,
   "metadata": {
    "cell_style": "split"
   },
   "outputs": [
    {
     "data": {
      "text/plain": [
       "<matplotlib.axes._subplots.AxesSubplot at 0x7fb434d5c790>"
      ]
     },
     "execution_count": 31,
     "metadata": {},
     "output_type": "execute_result"
    },
    {
     "data": {
      "image/png": "[encoded data removed]",
      "text/plain": [
       "<matplotlib.figure.Figure at 0x7fb4340f15d0>"
      ]
     },
     "metadata": {},
     "output_type": "display_data"
    }
   ],
   "source": [
    "(pred_df['ant2_angle_deg'] % 180).hist()"
   ]
  },
  {
   "cell_type": "markdown",
   "metadata": {},
   "source": [
    "# Prediction Errors"
   ]
  },
  {
   "cell_type": "code",
   "execution_count": 35,
   "metadata": {},
   "outputs": [],
   "source": [
    "OBJ_IDS_STR = ['1', '2']\n",
    "OBJ_IDS = (0, 1)\n",
    "\n",
    "COLUMNS_MAP = [('x', 'ant%s_x'),\n",
    "       ('y', 'ant%s_y'),\n",
    "       ('major', 'ant%s_major'),\n",
    "       ('minor', 'ant%s_minor'),\n",
    "       ('angle_deg', 'ant%s_angle_deg'),\n",
    "       ('dx', 'ant%s_dx'),\n",
    "       ('dy', 'ant%s_dy'),\n",
    "       ]\n",
    "\n",
    "COL = dict(COLUMNS_MAP)\n",
    "NAMES = reduce(list.__add__, [[value % i for key, value in COLUMNS_MAP] for i in OBJ_IDS_STR])\n",
    "COL2ID = {key: i for i, (key, value) in enumerate(COLUMNS_MAP)}\n",
    "NAME2COL = {num: {key: i + (j * len(COLUMNS_MAP)) for i, (key, value) in enumerate(COLUMNS_MAP)}\n",
    "            for j, num in enumerate(OBJ_IDS)}\n",
    "NAME2COL_ = {num: {key: slice(i + (j * len(COLUMNS_MAP)),\n",
    "                              i + (j * len(COLUMNS_MAP)) + 1)\n",
    "                   for i, (key, value) in enumerate(COLUMNS_MAP)}\n",
    "             for j, num in enumerate(OBJ_IDS)}\n",
    "\n",
    "NUM_PARAMS = len(COLUMNS_MAP) * len(OBJ_IDS)"
   ]
  },
  {
   "cell_type": "code",
   "execution_count": 53,
   "metadata": {},
   "outputs": [
    {
     "data": {
      "text/plain": [
       "(3600, 14)"
      ]
     },
     "execution_count": 53,
     "metadata": {},
     "output_type": "execute_result"
    }
   ],
   "source": [
    "for i in ['1', '2']:\n",
    "    y_test[COL['angle_deg'] % i] *= -1  # convert to anti-clockwise\n",
    "    angle_rad = np.radians(y_test[COL['angle_deg'] % i])\n",
    "    y_test[COL['dx'] % i] = y_test[COL['major'] % i] * np.cos(angle_rad)\n",
    "    y_test[COL['dy'] % i] = y_test[COL['major'] % i] * np.sin(angle_rad)\n"
   ]
  },
  {
   "cell_type": "code",
   "execution_count": 57,
   "metadata": {},
   "outputs": [],
   "source": [
    "y_test = y_test[NAMES]"
   ]
  },
  {
   "cell_type": "code",
   "execution_count": 54,
   "metadata": {},
   "outputs": [],
   "source": [
    "xy, _, indices = train_interactions.match_pred_to_gt(pred, y_test[NAMES].values, np)\n",
    "\n",
    "xy_mae = (xy[indices[:, 0], indices[:, 1]]).mean()"
   ]
  },
  {
   "cell_type": "code",
   "execution_count": 59,
   "metadata": {},
   "outputs": [],
   "source": [
    "# compute angle errors\n",
    "angle = {}\n",
    "for i, j in ((0, 0), (1, 1), (0, 1), (1, 0)):\n",
    "    angle[(i, j)] = train_interactions.angle_absolute_error(\n",
    "        y_test.values[:, NAME2COL[i]['angle_deg']],\n",
    "        np.degrees(np.arctan((pred[:, NAME2COL[j]['dy']] / pred[:, NAME2COL[j]['dx']]))),\n",
    "        np)\n",
    "mean_errors_angle = np.stack((\n",
    "    np.mean(np.stack((angle[0, 0], angle[1, 1]), axis=1), axis=1),\n",
    "    np.mean(np.stack((angle[0, 1], angle[1, 0]), axis=1), axis=1)))  # shape=(2, n)\n",
    "angle_mae = (mean_errors_angle[indices[:, 0], indices[:, 1]]).mean()"
   ]
  },
  {
   "cell_type": "code",
   "execution_count": 68,
   "metadata": {},
   "outputs": [
    {
     "data": {
      "text/plain": [
       "array([ 26.2,   5.4,  66.8, ...,  35. ,  20.9,  66.5])"
      ]
     },
     "execution_count": 68,
     "metadata": {},
     "output_type": "execute_result"
    }
   ],
   "source": [
    "i, j = 0, 0\n",
    "y_test.values[:, NAME2COL[i]['angle_deg']] % 180"
   ]
  },
  {
   "cell_type": "code",
   "execution_count": 69,
   "metadata": {},
   "outputs": [
    {
     "data": {
      "text/plain": [
       "array([-29.01,  62.88,  75.89, ..., -37.96,  70.38,  57.05], dtype=float32)"
      ]
     },
     "execution_count": 69,
     "metadata": {},
     "output_type": "execute_result"
    }
   ],
   "source": [
    " np.degrees(np.arctan((pred[:, NAME2COL[j]['dy']] / pred[:, NAME2COL[j]['dx']])))"
   ]
  },
  {
   "cell_type": "code",
   "execution_count": 33,
   "metadata": {
    "scrolled": true
   },
   "outputs": [
    {
     "ename": "KeyError",
     "evalue": "\"['ant1_dx' 'ant1_dy' 'ant2_dx' 'ant2_dy'] not in index\"",
     "output_type": "error",
     "traceback": [
      "\u001b[0;31m---------------------------------------------------------------------------\u001b[0m",
      "\u001b[0;31mKeyError\u001b[0m                                  Traceback (most recent call last)",
      "\u001b[0;32m<ipython-input-33-809b1bce9177>\u001b[0m in \u001b[0;36m<module>\u001b[0;34m()\u001b[0m\n\u001b[0;32m----> 1\u001b[0;31m \u001b[0mxy\u001b[0m\u001b[0;34m,\u001b[0m \u001b[0mangle\u001b[0m\u001b[0;34m,\u001b[0m \u001b[0mindices\u001b[0m \u001b[0;34m=\u001b[0m \u001b[0mtrain_interactions\u001b[0m\u001b[0;34m.\u001b[0m\u001b[0mmatch_pred_to_gt\u001b[0m\u001b[0;34m(\u001b[0m\u001b[0mpred\u001b[0m\u001b[0;34m,\u001b[0m \u001b[0my_test\u001b[0m\u001b[0;34m[\u001b[0m\u001b[0mtrain_interactions\u001b[0m\u001b[0;34m.\u001b[0m\u001b[0mNAMES\u001b[0m\u001b[0;34m]\u001b[0m\u001b[0;34m.\u001b[0m\u001b[0mvalues\u001b[0m\u001b[0;34m,\u001b[0m \u001b[0mnp\u001b[0m\u001b[0;34m)\u001b[0m\u001b[0;34m\u001b[0m\u001b[0m\n\u001b[0m\u001b[1;32m      2\u001b[0m \u001b[0mxy_errors\u001b[0m \u001b[0;34m=\u001b[0m \u001b[0;34m(\u001b[0m\u001b[0mxy\u001b[0m\u001b[0;34m[\u001b[0m\u001b[0mindices\u001b[0m\u001b[0;34m[\u001b[0m\u001b[0;34m:\u001b[0m\u001b[0;34m,\u001b[0m \u001b[0;36m0\u001b[0m\u001b[0;34m]\u001b[0m\u001b[0;34m,\u001b[0m \u001b[0mindices\u001b[0m\u001b[0;34m[\u001b[0m\u001b[0;34m:\u001b[0m\u001b[0;34m,\u001b[0m \u001b[0;36m1\u001b[0m\u001b[0;34m]\u001b[0m\u001b[0;34m]\u001b[0m\u001b[0;34m)\u001b[0m\u001b[0;34m\u001b[0m\u001b[0m\n\u001b[1;32m      3\u001b[0m \u001b[0mangle_errors\u001b[0m \u001b[0;34m=\u001b[0m \u001b[0;34m(\u001b[0m\u001b[0mangle\u001b[0m\u001b[0;34m[\u001b[0m\u001b[0mindices\u001b[0m\u001b[0;34m[\u001b[0m\u001b[0;34m:\u001b[0m\u001b[0;34m,\u001b[0m \u001b[0;36m0\u001b[0m\u001b[0;34m]\u001b[0m\u001b[0;34m,\u001b[0m \u001b[0mindices\u001b[0m\u001b[0;34m[\u001b[0m\u001b[0;34m:\u001b[0m\u001b[0;34m,\u001b[0m \u001b[0;36m1\u001b[0m\u001b[0;34m]\u001b[0m\u001b[0;34m]\u001b[0m\u001b[0;34m)\u001b[0m\u001b[0;34m\u001b[0m\u001b[0m\n\u001b[1;32m      4\u001b[0m \u001b[0;34m\u001b[0m\u001b[0m\n\u001b[1;32m      5\u001b[0m \u001b[0;31m# swap = indices[:, 0] == 1\u001b[0m\u001b[0;34m\u001b[0m\u001b[0;34m\u001b[0m\u001b[0m\n",
      "\u001b[0;32m/home/matej/.virtualenvs/ferda/lib/python2.7/site-packages/pandas/core/frame.pyc\u001b[0m in \u001b[0;36m__getitem__\u001b[0;34m(self, key)\u001b[0m\n\u001b[1;32m   2131\u001b[0m         \u001b[0;32mif\u001b[0m \u001b[0misinstance\u001b[0m\u001b[0;34m(\u001b[0m\u001b[0mkey\u001b[0m\u001b[0;34m,\u001b[0m \u001b[0;34m(\u001b[0m\u001b[0mSeries\u001b[0m\u001b[0;34m,\u001b[0m \u001b[0mnp\u001b[0m\u001b[0;34m.\u001b[0m\u001b[0mndarray\u001b[0m\u001b[0;34m,\u001b[0m \u001b[0mIndex\u001b[0m\u001b[0;34m,\u001b[0m \u001b[0mlist\u001b[0m\u001b[0;34m)\u001b[0m\u001b[0;34m)\u001b[0m\u001b[0;34m:\u001b[0m\u001b[0;34m\u001b[0m\u001b[0m\n\u001b[1;32m   2132\u001b[0m             \u001b[0;31m# either boolean or fancy integer index\u001b[0m\u001b[0;34m\u001b[0m\u001b[0;34m\u001b[0m\u001b[0m\n\u001b[0;32m-> 2133\u001b[0;31m             \u001b[0;32mreturn\u001b[0m \u001b[0mself\u001b[0m\u001b[0;34m.\u001b[0m\u001b[0m_getitem_array\u001b[0m\u001b[0;34m(\u001b[0m\u001b[0mkey\u001b[0m\u001b[0;34m)\u001b[0m\u001b[0;34m\u001b[0m\u001b[0m\n\u001b[0m\u001b[1;32m   2134\u001b[0m         \u001b[0;32melif\u001b[0m \u001b[0misinstance\u001b[0m\u001b[0;34m(\u001b[0m\u001b[0mkey\u001b[0m\u001b[0;34m,\u001b[0m \u001b[0mDataFrame\u001b[0m\u001b[0;34m)\u001b[0m\u001b[0;34m:\u001b[0m\u001b[0;34m\u001b[0m\u001b[0m\n\u001b[1;32m   2135\u001b[0m             \u001b[0;32mreturn\u001b[0m \u001b[0mself\u001b[0m\u001b[0;34m.\u001b[0m\u001b[0m_getitem_frame\u001b[0m\u001b[0;34m(\u001b[0m\u001b[0mkey\u001b[0m\u001b[0;34m)\u001b[0m\u001b[0;34m\u001b[0m\u001b[0m\n",
      "\u001b[0;32m/home/matej/.virtualenvs/ferda/lib/python2.7/site-packages/pandas/core/frame.pyc\u001b[0m in \u001b[0;36m_getitem_array\u001b[0;34m(self, key)\u001b[0m\n\u001b[1;32m   2175\u001b[0m             \u001b[0;32mreturn\u001b[0m \u001b[0mself\u001b[0m\u001b[0;34m.\u001b[0m\u001b[0m_take\u001b[0m\u001b[0;34m(\u001b[0m\u001b[0mindexer\u001b[0m\u001b[0;34m,\u001b[0m \u001b[0maxis\u001b[0m\u001b[0;34m=\u001b[0m\u001b[0;36m0\u001b[0m\u001b[0;34m,\u001b[0m \u001b[0mconvert\u001b[0m\u001b[0;34m=\u001b[0m\u001b[0mFalse\u001b[0m\u001b[0;34m)\u001b[0m\u001b[0;34m\u001b[0m\u001b[0m\n\u001b[1;32m   2176\u001b[0m         \u001b[0;32melse\u001b[0m\u001b[0;34m:\u001b[0m\u001b[0;34m\u001b[0m\u001b[0m\n\u001b[0;32m-> 2177\u001b[0;31m             \u001b[0mindexer\u001b[0m \u001b[0;34m=\u001b[0m \u001b[0mself\u001b[0m\u001b[0;34m.\u001b[0m\u001b[0mloc\u001b[0m\u001b[0;34m.\u001b[0m\u001b[0m_convert_to_indexer\u001b[0m\u001b[0;34m(\u001b[0m\u001b[0mkey\u001b[0m\u001b[0;34m,\u001b[0m \u001b[0maxis\u001b[0m\u001b[0;34m=\u001b[0m\u001b[0;36m1\u001b[0m\u001b[0;34m)\u001b[0m\u001b[0;34m\u001b[0m\u001b[0m\n\u001b[0m\u001b[1;32m   2178\u001b[0m             \u001b[0;32mreturn\u001b[0m \u001b[0mself\u001b[0m\u001b[0;34m.\u001b[0m\u001b[0m_take\u001b[0m\u001b[0;34m(\u001b[0m\u001b[0mindexer\u001b[0m\u001b[0;34m,\u001b[0m \u001b[0maxis\u001b[0m\u001b[0;34m=\u001b[0m\u001b[0;36m1\u001b[0m\u001b[0;34m,\u001b[0m \u001b[0mconvert\u001b[0m\u001b[0;34m=\u001b[0m\u001b[0mTrue\u001b[0m\u001b[0;34m)\u001b[0m\u001b[0;34m\u001b[0m\u001b[0m\n\u001b[1;32m   2179\u001b[0m \u001b[0;34m\u001b[0m\u001b[0m\n",
      "\u001b[0;32m/home/matej/.virtualenvs/ferda/lib/python2.7/site-packages/pandas/core/indexing.pyc\u001b[0m in \u001b[0;36m_convert_to_indexer\u001b[0;34m(self, obj, axis, is_setter)\u001b[0m\n\u001b[1;32m   1267\u001b[0m                 \u001b[0;32mif\u001b[0m \u001b[0mmask\u001b[0m\u001b[0;34m.\u001b[0m\u001b[0many\u001b[0m\u001b[0;34m(\u001b[0m\u001b[0;34m)\u001b[0m\u001b[0;34m:\u001b[0m\u001b[0;34m\u001b[0m\u001b[0m\n\u001b[1;32m   1268\u001b[0m                     raise KeyError('{mask} not in index'\n\u001b[0;32m-> 1269\u001b[0;31m                                    .format(mask=objarr[mask]))\n\u001b[0m\u001b[1;32m   1270\u001b[0m \u001b[0;34m\u001b[0m\u001b[0m\n\u001b[1;32m   1271\u001b[0m                 \u001b[0;32mreturn\u001b[0m \u001b[0m_values_from_object\u001b[0m\u001b[0;34m(\u001b[0m\u001b[0mindexer\u001b[0m\u001b[0;34m)\u001b[0m\u001b[0;34m\u001b[0m\u001b[0m\n",
      "\u001b[0;31mKeyError\u001b[0m: \"['ant1_dx' 'ant1_dy' 'ant2_dx' 'ant2_dy'] not in index\""
     ]
    }
   ],
   "source": [
    "xy, angle, indices = train_interactions.match_pred_to_gt(pred, y_test[train_interactions.NAMES].values, np)\n",
    "xy_errors = (xy[indices[:, 0], indices[:, 1]])\n",
    "angle_errors = (angle[indices[:, 0], indices[:, 1]])\n",
    "\n",
    "# swap = indices[:, 0] == 1\n",
    "# pred_swapped = pred.copy()\n",
    "# pred_swapped[swap, :5], pred_swapped[swap, 5:] = pred_swapped[swap, 5:], pred_swapped[swap, :5]"
   ]
  },
  {
   "cell_type": "code",
   "execution_count": null,
   "metadata": {
    "scrolled": true
   },
   "outputs": [],
   "source": [
    "df = pd.DataFrame.from_items([('xy (px)', [xy_errors.mean()]), \n",
    "                              ('angle (deg)', angle_errors.mean()),])\n",
    "df.style.set_caption('MAE')\n",
    "df"
   ]
  },
  {
   "cell_type": "code",
   "execution_count": null,
   "metadata": {
    "cell_style": "split",
    "scrolled": true
   },
   "outputs": [],
   "source": [
    "_  = plt.hist(xy_errors)"
   ]
  },
  {
   "cell_type": "code",
   "execution_count": null,
   "metadata": {
    "cell_style": "split"
   },
   "outputs": [],
   "source": [
    "_ = plt.hist(angle_errors)"
   ]
  },
  {
   "cell_type": "markdown",
   "metadata": {},
   "source": [
    "# Model"
   ]
  },
  {
   "cell_type": "code",
   "execution_count": null,
   "metadata": {
    "scrolled": false
   },
   "outputs": [],
   "source": [
    "from IPython.display import SVG\n",
    "from keras.utils.vis_utils import model_to_dot\n",
    "\n",
    "model = train_interactions.model()\n",
    "SVG(model_to_dot(model, show_shapes=True).create(prog='dot', format='svg'))"
   ]
  },
  {
   "cell_type": "code",
   "execution_count": null,
   "metadata": {},
   "outputs": [],
   "source": [
    "# SVG(model_to_dot(model.get_layer('model_1'), show_shapes=True).create(prog='dot', format='svg'))"
   ]
  }
 ],
 "metadata": {
  "_draft": {
   "nbviewer_url": "https://gist.github.com/06ecd7830e31f92de2460b48d905ac44"
  },
  "gist": {
   "data": {
    "description": "interaction_results.ipynb",
    "public": false
   },
   "id": "06ecd7830e31f92de2460b48d905ac44"
  },
  "kernelspec": {
   "display_name": "Python 2",
   "language": "python",
   "name": "python2"
  },
  "language_info": {
   "codemirror_mode": {
    "name": "ipython",
    "version": 2
   },
   "file_extension": ".py",
   "mimetype": "text/x-python",
   "name": "python",
   "nbconvert_exporter": "python",
   "pygments_lexer": "ipython2",
   "version": "2.7.14"
  },
  "toc": {
   "nav_menu": {
    "height": "175px",
    "width": "161px"
   },
   "number_sections": true,
   "sideBar": false,
   "skip_h1_title": false,
   "toc_cell": false,
   "toc_position": {},
   "toc_section_display": "block",
   "toc_window_display": false
  }
 },
 "nbformat": 4,
 "nbformat_minor": 2
}
