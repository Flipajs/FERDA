{
 "cells": [
  {
   "cell_type": "code",
   "execution_count": 1,
   "metadata": {},
   "outputs": [
    {
     "name": "stdout",
     "output_type": "stream",
     "text": [
      "/home/matej/prace/ferda/ferda_github\n"
     ]
    }
   ],
   "source": [
    "%cd /home/matej/prace/ferda/ferda_github"
   ]
  },
  {
   "cell_type": "code",
   "execution_count": 2,
   "metadata": {},
   "outputs": [
    {
     "name": "stdout",
     "output_type": "stream",
     "text": [
      "770f554131f60eb5ec830b2d17b27daa3149590d\r\n"
     ]
    }
   ],
   "source": [
    "!git rev-parse HEAD"
   ]
  },
  {
   "cell_type": "code",
   "execution_count": 3,
   "metadata": {},
   "outputs": [
    {
     "name": "stderr",
     "output_type": "stream",
     "text": [
      "Using TensorFlow backend.\n"
     ]
    }
   ],
   "source": [
    "%matplotlib inline\n",
    "import matplotlib.pyplot as plt\n",
    "import h5py\n",
    "from imageio import imread\n",
    "import numpy as np\n",
    "import os\n",
    "import pandas as pd\n",
    "import scripts.CNN.train_interactions as train_interactions\n",
    "import pandas as pd\n",
    "from os.path import join\n",
    "import seaborn as sns\n",
    "sns.set()\n",
    "pd.set_option('precision', 2)"
   ]
  },
  {
   "cell_type": "code",
   "execution_count": 4,
   "metadata": {},
   "outputs": [],
   "source": [
    "DATA_DIR = '/home/matej/prace/ferda/data/interactions/1801_1k_36rot_single'"
   ]
  },
  {
   "cell_type": "code",
   "execution_count": 5,
   "metadata": {},
   "outputs": [],
   "source": [
    "y_test = pd.read_csv(join(DATA_DIR, 'test.csv'))\n",
    "y_train = pd.read_csv(join(DATA_DIR, 'train.csv'))"
   ]
  },
  {
   "cell_type": "markdown",
   "metadata": {},
   "source": [
    "# Training Data"
   ]
  },
  {
   "cell_type": "code",
   "execution_count": 6,
   "metadata": {},
   "outputs": [
    {
     "data": {
      "text/html": [
       "<div>\n",
       "<style scoped>\n",
       "    .dataframe tbody tr th:only-of-type {\n",
       "        vertical-align: middle;\n",
       "    }\n",
       "\n",
       "    .dataframe tbody tr th {\n",
       "        vertical-align: top;\n",
       "    }\n",
       "\n",
       "    .dataframe thead th {\n",
       "        text-align: right;\n",
       "    }\n",
       "</style>\n",
       "<table border=\"1\" class=\"dataframe\">\n",
       "  <thead>\n",
       "    <tr style=\"text-align: right;\">\n",
       "      <th></th>\n",
       "      <th>0_x</th>\n",
       "      <th>0_y</th>\n",
       "      <th>0_major</th>\n",
       "      <th>0_minor</th>\n",
       "      <th>0_angle_deg</th>\n",
       "      <th>0_region_id</th>\n",
       "      <th>0_theta_rad</th>\n",
       "      <th>0_phi_rad</th>\n",
       "      <th>0_overlap_px</th>\n",
       "      <th>augmentation_angle_deg</th>\n",
       "    </tr>\n",
       "  </thead>\n",
       "  <tbody>\n",
       "    <tr>\n",
       "      <th>count</th>\n",
       "      <td>36000.00</td>\n",
       "      <td>36000.00</td>\n",
       "      <td>36000.00</td>\n",
       "      <td>36000.00</td>\n",
       "      <td>36000.00</td>\n",
       "      <td>36000.00</td>\n",
       "      <td>36000.0</td>\n",
       "      <td>36000.0</td>\n",
       "      <td>36000.0</td>\n",
       "      <td>36000.00</td>\n",
       "    </tr>\n",
       "    <tr>\n",
       "      <th>mean</th>\n",
       "      <td>100.04</td>\n",
       "      <td>100.06</td>\n",
       "      <td>66.62</td>\n",
       "      <td>18.30</td>\n",
       "      <td>184.56</td>\n",
       "      <td>33376.29</td>\n",
       "      <td>-1.0</td>\n",
       "      <td>-1.0</td>\n",
       "      <td>-1.0</td>\n",
       "      <td>175.00</td>\n",
       "    </tr>\n",
       "    <tr>\n",
       "      <th>std</th>\n",
       "      <td>11.57</td>\n",
       "      <td>11.57</td>\n",
       "      <td>8.86</td>\n",
       "      <td>2.99</td>\n",
       "      <td>105.01</td>\n",
       "      <td>5824.89</td>\n",
       "      <td>0.0</td>\n",
       "      <td>0.0</td>\n",
       "      <td>0.0</td>\n",
       "      <td>103.88</td>\n",
       "    </tr>\n",
       "    <tr>\n",
       "      <th>min</th>\n",
       "      <td>73.90</td>\n",
       "      <td>73.60</td>\n",
       "      <td>25.20</td>\n",
       "      <td>10.80</td>\n",
       "      <td>0.00</td>\n",
       "      <td>22902.00</td>\n",
       "      <td>-1.0</td>\n",
       "      <td>-1.0</td>\n",
       "      <td>-1.0</td>\n",
       "      <td>0.00</td>\n",
       "    </tr>\n",
       "    <tr>\n",
       "      <th>25%</th>\n",
       "      <td>90.00</td>\n",
       "      <td>90.00</td>\n",
       "      <td>63.08</td>\n",
       "      <td>16.60</td>\n",
       "      <td>92.07</td>\n",
       "      <td>28411.75</td>\n",
       "      <td>-1.0</td>\n",
       "      <td>-1.0</td>\n",
       "      <td>-1.0</td>\n",
       "      <td>87.50</td>\n",
       "    </tr>\n",
       "    <tr>\n",
       "      <th>50%</th>\n",
       "      <td>100.00</td>\n",
       "      <td>100.00</td>\n",
       "      <td>68.50</td>\n",
       "      <td>18.10</td>\n",
       "      <td>189.10</td>\n",
       "      <td>33035.50</td>\n",
       "      <td>-1.0</td>\n",
       "      <td>-1.0</td>\n",
       "      <td>-1.0</td>\n",
       "      <td>175.00</td>\n",
       "    </tr>\n",
       "    <tr>\n",
       "      <th>75%</th>\n",
       "      <td>110.00</td>\n",
       "      <td>110.00</td>\n",
       "      <td>73.40</td>\n",
       "      <td>19.80</td>\n",
       "      <td>276.80</td>\n",
       "      <td>38805.50</td>\n",
       "      <td>-1.0</td>\n",
       "      <td>-1.0</td>\n",
       "      <td>-1.0</td>\n",
       "      <td>262.50</td>\n",
       "    </tr>\n",
       "    <tr>\n",
       "      <th>max</th>\n",
       "      <td>125.90</td>\n",
       "      <td>125.60</td>\n",
       "      <td>78.60</td>\n",
       "      <td>34.90</td>\n",
       "      <td>359.90</td>\n",
       "      <td>43325.00</td>\n",
       "      <td>-1.0</td>\n",
       "      <td>-1.0</td>\n",
       "      <td>-1.0</td>\n",
       "      <td>350.00</td>\n",
       "    </tr>\n",
       "  </tbody>\n",
       "</table>\n",
       "</div>"
      ],
      "text/plain": [
       "            0_x       0_y   0_major   0_minor  0_angle_deg  0_region_id  \\\n",
       "count  36000.00  36000.00  36000.00  36000.00     36000.00     36000.00   \n",
       "mean     100.04    100.06     66.62     18.30       184.56     33376.29   \n",
       "std       11.57     11.57      8.86      2.99       105.01      5824.89   \n",
       "min       73.90     73.60     25.20     10.80         0.00     22902.00   \n",
       "25%       90.00     90.00     63.08     16.60        92.07     28411.75   \n",
       "50%      100.00    100.00     68.50     18.10       189.10     33035.50   \n",
       "75%      110.00    110.00     73.40     19.80       276.80     38805.50   \n",
       "max      125.90    125.60     78.60     34.90       359.90     43325.00   \n",
       "\n",
       "       0_theta_rad  0_phi_rad  0_overlap_px  augmentation_angle_deg  \n",
       "count      36000.0    36000.0       36000.0                36000.00  \n",
       "mean          -1.0       -1.0          -1.0                  175.00  \n",
       "std            0.0        0.0           0.0                  103.88  \n",
       "min           -1.0       -1.0          -1.0                    0.00  \n",
       "25%           -1.0       -1.0          -1.0                   87.50  \n",
       "50%           -1.0       -1.0          -1.0                  175.00  \n",
       "75%           -1.0       -1.0          -1.0                  262.50  \n",
       "max           -1.0       -1.0          -1.0                  350.00  "
      ]
     },
     "execution_count": 6,
     "metadata": {},
     "output_type": "execute_result"
    }
   ],
   "source": [
    "y_train.describe()"
   ]
  },
  {
   "cell_type": "code",
   "execution_count": 7,
   "metadata": {
    "cell_style": "center"
   },
   "outputs": [
    {
     "data": {
      "text/plain": [
       "<matplotlib.colorbar.Colorbar at 0x7efce13a1d90>"
      ]
     },
     "execution_count": 7,
     "metadata": {},
     "output_type": "execute_result"
    },
    {
     "data": {
      "image/png": "[encoded data removed]",
      "text/plain": [
       "<matplotlib.figure.Figure at 0x7efce148e510>"
      ]
     },
     "metadata": {},
     "output_type": "display_data"
    }
   ],
   "source": [
    "_ = plt.hist2d(y_train['0_x'], y_train['0_y'], bins=40, range=((0, 199), (0, 199)))\n",
    "plt.colorbar()"
   ]
  },
  {
   "cell_type": "code",
   "execution_count": 8,
   "metadata": {
    "cell_style": "split"
   },
   "outputs": [
    {
     "data": {
      "text/plain": [
       "<matplotlib.axes._subplots.AxesSubplot at 0x7efce1320250>"
      ]
     },
     "execution_count": 8,
     "metadata": {},
     "output_type": "execute_result"
    },
    {
     "data": {
      "image/png": "[encoded data removed]",
      "text/plain": [
       "<matplotlib.figure.Figure at 0x7efce1344a50>"
      ]
     },
     "metadata": {},
     "output_type": "display_data"
    }
   ],
   "source": [
    "y_train['0_angle_deg'].hist()"
   ]
  },
  {
   "cell_type": "code",
   "execution_count": 9,
   "metadata": {
    "cell_style": "split"
   },
   "outputs": [
    {
     "data": {
      "text/plain": [
       "<matplotlib.axes._subplots.AxesSubplot at 0x7efcde9d63d0>"
      ]
     },
     "execution_count": 9,
     "metadata": {},
     "output_type": "execute_result"
    },
    {
     "data": {
      "image/png": "[encoded data removed]",
      "text/plain": [
       "<matplotlib.figure.Figure at 0x7efd4025a890>"
      ]
     },
     "metadata": {},
     "output_type": "display_data"
    }
   ],
   "source": [
    "(y_train['0_angle_deg'] % 180).hist()"
   ]
  },
  {
   "cell_type": "code",
   "execution_count": 10,
   "metadata": {},
   "outputs": [
    {
     "data": {
      "text/plain": [
       "<matplotlib.axes._subplots.AxesSubplot at 0x7efcde8da690>"
      ]
     },
     "execution_count": 10,
     "metadata": {},
     "output_type": "execute_result"
    },
    {
     "data": {
      "image/png": "[encoded data removed]",
      "text/plain": [
       "<matplotlib.figure.Figure at 0x7efd1b97f110>"
      ]
     },
     "metadata": {},
     "output_type": "display_data"
    }
   ],
   "source": [
    "y_train['augmentation_angle_deg'].hist(bins=36)"
   ]
  },
  {
   "cell_type": "markdown",
   "metadata": {},
   "source": [
    "# Test Data"
   ]
  },
  {
   "cell_type": "code",
   "execution_count": 11,
   "metadata": {},
   "outputs": [
    {
     "data": {
      "text/html": [
       "<div>\n",
       "<style scoped>\n",
       "    .dataframe tbody tr th:only-of-type {\n",
       "        vertical-align: middle;\n",
       "    }\n",
       "\n",
       "    .dataframe tbody tr th {\n",
       "        vertical-align: top;\n",
       "    }\n",
       "\n",
       "    .dataframe thead th {\n",
       "        text-align: right;\n",
       "    }\n",
       "</style>\n",
       "<table border=\"1\" class=\"dataframe\">\n",
       "  <thead>\n",
       "    <tr style=\"text-align: right;\">\n",
       "      <th></th>\n",
       "      <th>0_x</th>\n",
       "      <th>0_y</th>\n",
       "      <th>0_major</th>\n",
       "      <th>0_minor</th>\n",
       "      <th>0_angle_deg</th>\n",
       "      <th>0_region_id</th>\n",
       "      <th>0_theta_rad</th>\n",
       "      <th>0_phi_rad</th>\n",
       "      <th>0_overlap_px</th>\n",
       "      <th>augmentation_angle_deg</th>\n",
       "    </tr>\n",
       "  </thead>\n",
       "  <tbody>\n",
       "    <tr>\n",
       "      <th>count</th>\n",
       "      <td>3600.00</td>\n",
       "      <td>3600.00</td>\n",
       "      <td>3600.00</td>\n",
       "      <td>3600.00</td>\n",
       "      <td>3600.00</td>\n",
       "      <td>3600.00</td>\n",
       "      <td>3600.0</td>\n",
       "      <td>3600.0</td>\n",
       "      <td>3600.0</td>\n",
       "      <td>3600.00</td>\n",
       "    </tr>\n",
       "    <tr>\n",
       "      <th>mean</th>\n",
       "      <td>100.22</td>\n",
       "      <td>100.28</td>\n",
       "      <td>66.87</td>\n",
       "      <td>18.29</td>\n",
       "      <td>185.70</td>\n",
       "      <td>33206.35</td>\n",
       "      <td>-1.0</td>\n",
       "      <td>-1.0</td>\n",
       "      <td>-1.0</td>\n",
       "      <td>178.75</td>\n",
       "    </tr>\n",
       "    <tr>\n",
       "      <th>std</th>\n",
       "      <td>11.62</td>\n",
       "      <td>11.61</td>\n",
       "      <td>9.06</td>\n",
       "      <td>2.87</td>\n",
       "      <td>104.41</td>\n",
       "      <td>5880.65</td>\n",
       "      <td>0.0</td>\n",
       "      <td>0.0</td>\n",
       "      <td>0.0</td>\n",
       "      <td>104.45</td>\n",
       "    </tr>\n",
       "    <tr>\n",
       "      <th>min</th>\n",
       "      <td>77.80</td>\n",
       "      <td>75.90</td>\n",
       "      <td>25.20</td>\n",
       "      <td>10.30</td>\n",
       "      <td>0.00</td>\n",
       "      <td>22825.00</td>\n",
       "      <td>-1.0</td>\n",
       "      <td>-1.0</td>\n",
       "      <td>-1.0</td>\n",
       "      <td>0.00</td>\n",
       "    </tr>\n",
       "    <tr>\n",
       "      <th>25%</th>\n",
       "      <td>90.00</td>\n",
       "      <td>90.00</td>\n",
       "      <td>63.70</td>\n",
       "      <td>16.70</td>\n",
       "      <td>94.88</td>\n",
       "      <td>27981.50</td>\n",
       "      <td>-1.0</td>\n",
       "      <td>-1.0</td>\n",
       "      <td>-1.0</td>\n",
       "      <td>86.00</td>\n",
       "    </tr>\n",
       "    <tr>\n",
       "      <th>50%</th>\n",
       "      <td>100.00</td>\n",
       "      <td>100.10</td>\n",
       "      <td>68.90</td>\n",
       "      <td>18.20</td>\n",
       "      <td>191.35</td>\n",
       "      <td>32865.00</td>\n",
       "      <td>-1.0</td>\n",
       "      <td>-1.0</td>\n",
       "      <td>-1.0</td>\n",
       "      <td>179.00</td>\n",
       "    </tr>\n",
       "    <tr>\n",
       "      <th>75%</th>\n",
       "      <td>110.00</td>\n",
       "      <td>110.10</td>\n",
       "      <td>73.40</td>\n",
       "      <td>19.70</td>\n",
       "      <td>274.85</td>\n",
       "      <td>39084.25</td>\n",
       "      <td>-1.0</td>\n",
       "      <td>-1.0</td>\n",
       "      <td>-1.0</td>\n",
       "      <td>271.00</td>\n",
       "    </tr>\n",
       "    <tr>\n",
       "      <th>max</th>\n",
       "      <td>124.00</td>\n",
       "      <td>123.90</td>\n",
       "      <td>79.20</td>\n",
       "      <td>41.00</td>\n",
       "      <td>359.90</td>\n",
       "      <td>43322.00</td>\n",
       "      <td>-1.0</td>\n",
       "      <td>-1.0</td>\n",
       "      <td>-1.0</td>\n",
       "      <td>358.00</td>\n",
       "    </tr>\n",
       "  </tbody>\n",
       "</table>\n",
       "</div>"
      ],
      "text/plain": [
       "           0_x      0_y  0_major  0_minor  0_angle_deg  0_region_id  \\\n",
       "count  3600.00  3600.00  3600.00  3600.00      3600.00      3600.00   \n",
       "mean    100.22   100.28    66.87    18.29       185.70     33206.35   \n",
       "std      11.62    11.61     9.06     2.87       104.41      5880.65   \n",
       "min      77.80    75.90    25.20    10.30         0.00     22825.00   \n",
       "25%      90.00    90.00    63.70    16.70        94.88     27981.50   \n",
       "50%     100.00   100.10    68.90    18.20       191.35     32865.00   \n",
       "75%     110.00   110.10    73.40    19.70       274.85     39084.25   \n",
       "max     124.00   123.90    79.20    41.00       359.90     43322.00   \n",
       "\n",
       "       0_theta_rad  0_phi_rad  0_overlap_px  augmentation_angle_deg  \n",
       "count       3600.0     3600.0        3600.0                 3600.00  \n",
       "mean          -1.0       -1.0          -1.0                  178.75  \n",
       "std            0.0        0.0           0.0                  104.45  \n",
       "min           -1.0       -1.0          -1.0                    0.00  \n",
       "25%           -1.0       -1.0          -1.0                   86.00  \n",
       "50%           -1.0       -1.0          -1.0                  179.00  \n",
       "75%           -1.0       -1.0          -1.0                  271.00  \n",
       "max           -1.0       -1.0          -1.0                  358.00  "
      ]
     },
     "execution_count": 11,
     "metadata": {},
     "output_type": "execute_result"
    }
   ],
   "source": [
    "y_test.describe()"
   ]
  },
  {
   "cell_type": "code",
   "execution_count": 12,
   "metadata": {
    "cell_style": "center"
   },
   "outputs": [
    {
     "data": {
      "text/plain": [
       "<matplotlib.colorbar.Colorbar at 0x7efcde60df10>"
      ]
     },
     "execution_count": 12,
     "metadata": {},
     "output_type": "execute_result"
    },
    {
     "data": {
      "image/png": "[encoded data removed]",
      "text/plain": [
       "<matplotlib.figure.Figure at 0x7efd28841bd0>"
      ]
     },
     "metadata": {},
     "output_type": "display_data"
    }
   ],
   "source": [
    "_ = plt.hist2d(y_test['0_x'], y_test['0_y'], bins=40, range=((0, 199), (0, 199)))\n",
    "plt.colorbar()"
   ]
  },
  {
   "cell_type": "code",
   "execution_count": 13,
   "metadata": {
    "cell_style": "split"
   },
   "outputs": [
    {
     "data": {
      "text/plain": [
       "<matplotlib.axes._subplots.AxesSubplot at 0x7efcde5dce50>"
      ]
     },
     "execution_count": 13,
     "metadata": {},
     "output_type": "execute_result"
    },
    {
     "data": {
      "image/png": "[encoded data removed]",
      "text/plain": [
       "<matplotlib.figure.Figure at 0x7efcde708bd0>"
      ]
     },
     "metadata": {},
     "output_type": "display_data"
    }
   ],
   "source": [
    "y_test['0_angle_deg'].hist()"
   ]
  },
  {
   "cell_type": "code",
   "execution_count": 25,
   "metadata": {
    "cell_style": "split"
   },
   "outputs": [
    {
     "data": {
      "text/plain": [
       "<matplotlib.axes._subplots.AxesSubplot at 0x7f5bf567ded0>"
      ]
     },
     "execution_count": 25,
     "metadata": {},
     "output_type": "execute_result"
    },
    {
     "data": {
      "image/png": "[encoded data removed]",
      "text/plain": [
       "<matplotlib.figure.Figure at 0x7f5bf55c1690>"
      ]
     },
     "metadata": {},
     "output_type": "display_data"
    }
   ],
   "source": [
    "(y_test['0_angle_deg'] % 180).hist()"
   ]
  },
  {
   "cell_type": "code",
   "execution_count": null,
   "metadata": {},
   "outputs": [],
   "source": []
  }
 ],
 "metadata": {
  "_draft": {
   "nbviewer_url": "https://gist.github.com/06ecd7830e31f92de2460b48d905ac44"
  },
  "gist": {
   "data": {
    "description": "interaction_results.ipynb",
    "public": false
   },
   "id": "06ecd7830e31f92de2460b48d905ac44"
  },
  "kernelspec": {
   "display_name": "Python 2",
   "language": "python",
   "name": "python2"
  },
  "language_info": {
   "codemirror_mode": {
    "name": "ipython",
    "version": 2
   },
   "file_extension": ".py",
   "mimetype": "text/x-python",
   "name": "python",
   "nbconvert_exporter": "python",
   "pygments_lexer": "ipython2",
   "version": "2.7.14"
  },
  "toc": {
   "nav_menu": {
    "height": "175px",
    "width": "161px"
   },
   "number_sections": true,
   "sideBar": false,
   "skip_h1_title": false,
   "toc_cell": false,
   "toc_position": {},
   "toc_section_display": "block",
   "toc_window_display": false
  }
 },
 "nbformat": 4,
 "nbformat_minor": 2
}
