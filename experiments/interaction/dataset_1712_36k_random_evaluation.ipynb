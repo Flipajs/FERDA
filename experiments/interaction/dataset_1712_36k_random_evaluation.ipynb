{
 "cells": [
  {
   "cell_type": "code",
   "execution_count": 1,
   "metadata": {},
   "outputs": [
    {
     "name": "stderr",
     "output_type": "stream",
     "text": [
      "Using TensorFlow backend.\n"
     ]
    }
   ],
   "source": [
    "%matplotlib inline\n",
    "import matplotlib.pyplot as plt\n",
    "import h5py\n",
    "from imageio import imread\n",
    "import numpy as np\n",
    "import os\n",
    "import pandas as pd\n",
    "from scripts.CNN.train_interactions import COLUMNS, match_pred_to_gt, model\n",
    "import pandas as pd\n",
    "from scripts.CNN.interactions_results import toarray, tostruct\n",
    "from os.path import join"
   ]
  },
  {
   "cell_type": "code",
   "execution_count": 2,
   "metadata": {},
   "outputs": [],
   "source": [
    "DATA_DIR = '/home/matej/prace/ferda/data/interactions/1712_36k_random'\n",
    "\n",
    "pd.set_option('precision', 2)"
   ]
  },
  {
   "cell_type": "code",
   "execution_count": 11,
   "metadata": {},
   "outputs": [],
   "source": [
    "y_test = pd.read_csv(join(DATA_DIR, 'test.csv'))\n",
    "y_train = pd.read_csv(join(DATA_DIR, 'train.csv'))"
   ]
  },
  {
   "cell_type": "markdown",
   "metadata": {},
   "source": [
    "# Training Data"
   ]
  },
  {
   "cell_type": "code",
   "execution_count": 12,
   "metadata": {},
   "outputs": [
    {
     "data": {
      "text/html": [
       "<div>\n",
       "<style scoped>\n",
       "    .dataframe tbody tr th:only-of-type {\n",
       "        vertical-align: middle;\n",
       "    }\n",
       "\n",
       "    .dataframe tbody tr th {\n",
       "        vertical-align: top;\n",
       "    }\n",
       "\n",
       "    .dataframe thead th {\n",
       "        text-align: right;\n",
       "    }\n",
       "</style>\n",
       "<table border=\"1\" class=\"dataframe\">\n",
       "  <thead>\n",
       "    <tr style=\"text-align: right;\">\n",
       "      <th></th>\n",
       "      <th>0_x</th>\n",
       "      <th>0_y</th>\n",
       "      <th>0_major</th>\n",
       "      <th>0_minor</th>\n",
       "      <th>0_angle_deg</th>\n",
       "      <th>1_x</th>\n",
       "      <th>1_y</th>\n",
       "      <th>1_major</th>\n",
       "      <th>1_minor</th>\n",
       "      <th>1_angle_deg</th>\n",
       "      <th>0_id</th>\n",
       "      <th>1_id</th>\n",
       "      <th>theta_rad</th>\n",
       "      <th>phi_rad</th>\n",
       "      <th>overlap_px</th>\n",
       "      <th>augmentation_angle_deg</th>\n",
       "    </tr>\n",
       "  </thead>\n",
       "  <tbody>\n",
       "    <tr>\n",
       "      <th>count</th>\n",
       "      <td>36000.00</td>\n",
       "      <td>36000.00</td>\n",
       "      <td>36000.00</td>\n",
       "      <td>36000.00</td>\n",
       "      <td>36000.00</td>\n",
       "      <td>36000.00</td>\n",
       "      <td>36000.00</td>\n",
       "      <td>36000.00</td>\n",
       "      <td>36000.00</td>\n",
       "      <td>36000.00</td>\n",
       "      <td>36000.00</td>\n",
       "      <td>36000.00</td>\n",
       "      <td>3.60e+04</td>\n",
       "      <td>3.60e+04</td>\n",
       "      <td>36000.00</td>\n",
       "      <td>36000.00</td>\n",
       "    </tr>\n",
       "    <tr>\n",
       "      <th>mean</th>\n",
       "      <td>99.90</td>\n",
       "      <td>99.96</td>\n",
       "      <td>66.41</td>\n",
       "      <td>18.29</td>\n",
       "      <td>187.41</td>\n",
       "      <td>100.06</td>\n",
       "      <td>100.01</td>\n",
       "      <td>66.43</td>\n",
       "      <td>18.31</td>\n",
       "      <td>180.83</td>\n",
       "      <td>33155.46</td>\n",
       "      <td>33141.73</td>\n",
       "      <td>-4.24e-03</td>\n",
       "      <td>9.67e-04</td>\n",
       "      <td>4.95</td>\n",
       "      <td>179.73</td>\n",
       "    </tr>\n",
       "    <tr>\n",
       "      <th>std</th>\n",
       "      <td>14.43</td>\n",
       "      <td>14.44</td>\n",
       "      <td>9.51</td>\n",
       "      <td>2.89</td>\n",
       "      <td>104.25</td>\n",
       "      <td>10.68</td>\n",
       "      <td>10.68</td>\n",
       "      <td>9.47</td>\n",
       "      <td>2.95</td>\n",
       "      <td>103.60</td>\n",
       "      <td>5905.15</td>\n",
       "      <td>5922.09</td>\n",
       "      <td>1.81e+00</td>\n",
       "      <td>7.34e-01</td>\n",
       "      <td>5.01</td>\n",
       "      <td>103.62</td>\n",
       "    </tr>\n",
       "    <tr>\n",
       "      <th>min</th>\n",
       "      <td>53.60</td>\n",
       "      <td>56.60</td>\n",
       "      <td>24.20</td>\n",
       "      <td>10.30</td>\n",
       "      <td>0.00</td>\n",
       "      <td>58.00</td>\n",
       "      <td>60.90</td>\n",
       "      <td>24.20</td>\n",
       "      <td>10.30</td>\n",
       "      <td>0.00</td>\n",
       "      <td>22818.00</td>\n",
       "      <td>22818.00</td>\n",
       "      <td>-3.10e+00</td>\n",
       "      <td>-1.40e+00</td>\n",
       "      <td>0.00</td>\n",
       "      <td>0.00</td>\n",
       "    </tr>\n",
       "    <tr>\n",
       "      <th>25%</th>\n",
       "      <td>88.30</td>\n",
       "      <td>88.40</td>\n",
       "      <td>63.20</td>\n",
       "      <td>16.70</td>\n",
       "      <td>96.90</td>\n",
       "      <td>91.90</td>\n",
       "      <td>91.80</td>\n",
       "      <td>63.30</td>\n",
       "      <td>16.70</td>\n",
       "      <td>91.80</td>\n",
       "      <td>27936.50</td>\n",
       "      <td>27909.75</td>\n",
       "      <td>-1.60e+00</td>\n",
       "      <td>-5.00e-01</td>\n",
       "      <td>1.00</td>\n",
       "      <td>90.00</td>\n",
       "    </tr>\n",
       "    <tr>\n",
       "      <th>50%</th>\n",
       "      <td>99.90</td>\n",
       "      <td>100.00</td>\n",
       "      <td>68.60</td>\n",
       "      <td>18.20</td>\n",
       "      <td>193.90</td>\n",
       "      <td>100.10</td>\n",
       "      <td>100.00</td>\n",
       "      <td>68.60</td>\n",
       "      <td>18.20</td>\n",
       "      <td>181.20</td>\n",
       "      <td>32653.00</td>\n",
       "      <td>32611.00</td>\n",
       "      <td>0.00e+00</td>\n",
       "      <td>0.00e+00</td>\n",
       "      <td>3.00</td>\n",
       "      <td>180.00</td>\n",
       "    </tr>\n",
       "    <tr>\n",
       "      <th>75%</th>\n",
       "      <td>111.50</td>\n",
       "      <td>111.50</td>\n",
       "      <td>73.20</td>\n",
       "      <td>19.70</td>\n",
       "      <td>278.10</td>\n",
       "      <td>108.20</td>\n",
       "      <td>108.10</td>\n",
       "      <td>73.20</td>\n",
       "      <td>19.70</td>\n",
       "      <td>270.20</td>\n",
       "      <td>38978.00</td>\n",
       "      <td>38971.00</td>\n",
       "      <td>1.60e+00</td>\n",
       "      <td>5.00e-01</td>\n",
       "      <td>7.00</td>\n",
       "      <td>269.00</td>\n",
       "    </tr>\n",
       "    <tr>\n",
       "      <th>max</th>\n",
       "      <td>144.70</td>\n",
       "      <td>145.00</td>\n",
       "      <td>80.00</td>\n",
       "      <td>44.90</td>\n",
       "      <td>360.00</td>\n",
       "      <td>137.70</td>\n",
       "      <td>139.90</td>\n",
       "      <td>80.00</td>\n",
       "      <td>44.90</td>\n",
       "      <td>360.00</td>\n",
       "      <td>43334.00</td>\n",
       "      <td>43334.00</td>\n",
       "      <td>3.10e+00</td>\n",
       "      <td>1.40e+00</td>\n",
       "      <td>70.00</td>\n",
       "      <td>358.00</td>\n",
       "    </tr>\n",
       "  </tbody>\n",
       "</table>\n",
       "</div>"
      ],
      "text/plain": [
       "            0_x       0_y   0_major   0_minor  0_angle_deg       1_x  \\\n",
       "count  36000.00  36000.00  36000.00  36000.00     36000.00  36000.00   \n",
       "mean      99.90     99.96     66.41     18.29       187.41    100.06   \n",
       "std       14.43     14.44      9.51      2.89       104.25     10.68   \n",
       "min       53.60     56.60     24.20     10.30         0.00     58.00   \n",
       "25%       88.30     88.40     63.20     16.70        96.90     91.90   \n",
       "50%       99.90    100.00     68.60     18.20       193.90    100.10   \n",
       "75%      111.50    111.50     73.20     19.70       278.10    108.20   \n",
       "max      144.70    145.00     80.00     44.90       360.00    137.70   \n",
       "\n",
       "            1_y   1_major   1_minor  1_angle_deg      0_id      1_id  \\\n",
       "count  36000.00  36000.00  36000.00     36000.00  36000.00  36000.00   \n",
       "mean     100.01     66.43     18.31       180.83  33155.46  33141.73   \n",
       "std       10.68      9.47      2.95       103.60   5905.15   5922.09   \n",
       "min       60.90     24.20     10.30         0.00  22818.00  22818.00   \n",
       "25%       91.80     63.30     16.70        91.80  27936.50  27909.75   \n",
       "50%      100.00     68.60     18.20       181.20  32653.00  32611.00   \n",
       "75%      108.10     73.20     19.70       270.20  38978.00  38971.00   \n",
       "max      139.90     80.00     44.90       360.00  43334.00  43334.00   \n",
       "\n",
       "       theta_rad   phi_rad  overlap_px  augmentation_angle_deg  \n",
       "count   3.60e+04  3.60e+04    36000.00                36000.00  \n",
       "mean   -4.24e-03  9.67e-04        4.95                  179.73  \n",
       "std     1.81e+00  7.34e-01        5.01                  103.62  \n",
       "min    -3.10e+00 -1.40e+00        0.00                    0.00  \n",
       "25%    -1.60e+00 -5.00e-01        1.00                   90.00  \n",
       "50%     0.00e+00  0.00e+00        3.00                  180.00  \n",
       "75%     1.60e+00  5.00e-01        7.00                  269.00  \n",
       "max     3.10e+00  1.40e+00       70.00                  358.00  "
      ]
     },
     "execution_count": 12,
     "metadata": {},
     "output_type": "execute_result"
    }
   ],
   "source": [
    "y_train.describe()"
   ]
  },
  {
   "cell_type": "code",
   "execution_count": 13,
   "metadata": {
    "cell_style": "split",
    "scrolled": true
   },
   "outputs": [
    {
     "data": {
      "text/plain": [
       "<matplotlib.colorbar.Colorbar at 0x7f0f1e410650>"
      ]
     },
     "execution_count": 13,
     "metadata": {},
     "output_type": "execute_result"
    },
    {
     "data": {
      "image/png": "[encoded data removed]",
      "text/plain": [
       "<matplotlib.figure.Figure at 0x7f0f1e33a790>"
      ]
     },
     "metadata": {},
     "output_type": "display_data"
    }
   ],
   "source": [
    "_ = plt.hist2d(y_train['0_x'], y_train['0_y'], bins=40, range=((0, 199), (0, 199)))\n",
    "plt.colorbar()"
   ]
  },
  {
   "cell_type": "code",
   "execution_count": 14,
   "metadata": {
    "cell_style": "split"
   },
   "outputs": [
    {
     "data": {
      "text/plain": [
       "<matplotlib.colorbar.Colorbar at 0x7f0f1dac9890>"
      ]
     },
     "execution_count": 14,
     "metadata": {},
     "output_type": "execute_result"
    },
    {
     "data": {
      "image/png": "[encoded data removed]",
      "text/plain": [
       "<matplotlib.figure.Figure at 0x7f0f1e4a2550>"
      ]
     },
     "metadata": {},
     "output_type": "display_data"
    }
   ],
   "source": [
    "_ = plt.hist2d(y_train['1_x'], y_train['1_y'], bins=40, range=((0, 199), (0, 199)))\n",
    "plt.colorbar()"
   ]
  },
  {
   "cell_type": "code",
   "execution_count": 15,
   "metadata": {
    "cell_style": "split"
   },
   "outputs": [
    {
     "data": {
      "text/plain": [
       "<matplotlib.axes._subplots.AxesSubplot at 0x7f0f1dae1210>"
      ]
     },
     "execution_count": 15,
     "metadata": {},
     "output_type": "execute_result"
    },
    {
     "data": {
      "image/png": "[encoded data removed]",
      "text/plain": [
       "<matplotlib.figure.Figure at 0x7f0f1da87890>"
      ]
     },
     "metadata": {},
     "output_type": "display_data"
    }
   ],
   "source": [
    "y_train['0_angle_deg'].hist()"
   ]
  },
  {
   "cell_type": "code",
   "execution_count": 16,
   "metadata": {
    "cell_style": "split"
   },
   "outputs": [
    {
     "data": {
      "text/plain": [
       "<matplotlib.axes._subplots.AxesSubplot at 0x7f0f1d64e7d0>"
      ]
     },
     "execution_count": 16,
     "metadata": {},
     "output_type": "execute_result"
    },
    {
     "data": {
      "image/png": "[encoded data removed]",
      "text/plain": [
       "<matplotlib.figure.Figure at 0x7f0f1d9ca990>"
      ]
     },
     "metadata": {},
     "output_type": "display_data"
    }
   ],
   "source": [
    "(y_train['0_angle_deg'] % 180).hist()"
   ]
  },
  {
   "cell_type": "code",
   "execution_count": 17,
   "metadata": {
    "cell_style": "split",
    "scrolled": true
   },
   "outputs": [
    {
     "data": {
      "text/plain": [
       "<matplotlib.axes._subplots.AxesSubplot at 0x7f0f1adf8a90>"
      ]
     },
     "execution_count": 17,
     "metadata": {},
     "output_type": "execute_result"
    },
    {
     "data": {
      "image/png": "[encoded data removed]",
      "text/plain": [
       "<matplotlib.figure.Figure at 0x7f0f1e4a2e90>"
      ]
     },
     "metadata": {},
     "output_type": "display_data"
    }
   ],
   "source": [
    "y_train['1_angle_deg'].hist()"
   ]
  },
  {
   "cell_type": "code",
   "execution_count": 18,
   "metadata": {
    "cell_style": "split",
    "scrolled": true
   },
   "outputs": [
    {
     "data": {
      "text/plain": [
       "<matplotlib.axes._subplots.AxesSubplot at 0x7f0f194c6f10>"
      ]
     },
     "execution_count": 18,
     "metadata": {},
     "output_type": "execute_result"
    },
    {
     "data": {
      "image/png": "[encoded data removed]",
      "text/plain": [
       "<matplotlib.figure.Figure at 0x7f0f1946e050>"
      ]
     },
     "metadata": {},
     "output_type": "display_data"
    }
   ],
   "source": [
    "(y_train['1_angle_deg'] % 180).hist()"
   ]
  },
  {
   "cell_type": "code",
   "execution_count": 19,
   "metadata": {},
   "outputs": [
    {
     "data": {
      "text/plain": [
       "<matplotlib.axes._subplots.AxesSubplot at 0x7f0f193c7310>"
      ]
     },
     "execution_count": 19,
     "metadata": {},
     "output_type": "execute_result"
    },
    {
     "data": {
      "image/png": "[encoded data removed]",
      "text/plain": [
       "<matplotlib.figure.Figure at 0x7f0f19362790>"
      ]
     },
     "metadata": {},
     "output_type": "display_data"
    }
   ],
   "source": [
    "y_train['augmentation_angle_deg'].hist(bins=36)"
   ]
  },
  {
   "cell_type": "markdown",
   "metadata": {},
   "source": [
    "# Test Data"
   ]
  },
  {
   "cell_type": "code",
   "execution_count": 20,
   "metadata": {},
   "outputs": [
    {
     "data": {
      "text/html": [
       "<div>\n",
       "<style scoped>\n",
       "    .dataframe tbody tr th:only-of-type {\n",
       "        vertical-align: middle;\n",
       "    }\n",
       "\n",
       "    .dataframe tbody tr th {\n",
       "        vertical-align: top;\n",
       "    }\n",
       "\n",
       "    .dataframe thead th {\n",
       "        text-align: right;\n",
       "    }\n",
       "</style>\n",
       "<table border=\"1\" class=\"dataframe\">\n",
       "  <thead>\n",
       "    <tr style=\"text-align: right;\">\n",
       "      <th></th>\n",
       "      <th>0_x</th>\n",
       "      <th>0_y</th>\n",
       "      <th>0_major</th>\n",
       "      <th>0_minor</th>\n",
       "      <th>0_angle_deg</th>\n",
       "      <th>1_x</th>\n",
       "      <th>1_y</th>\n",
       "      <th>1_major</th>\n",
       "      <th>1_minor</th>\n",
       "      <th>1_angle_deg</th>\n",
       "      <th>0_id</th>\n",
       "      <th>1_id</th>\n",
       "      <th>theta_rad</th>\n",
       "      <th>phi_rad</th>\n",
       "      <th>overlap_px</th>\n",
       "      <th>augmentation_angle_deg</th>\n",
       "    </tr>\n",
       "  </thead>\n",
       "  <tbody>\n",
       "    <tr>\n",
       "      <th>count</th>\n",
       "      <td>3600.00</td>\n",
       "      <td>3600.00</td>\n",
       "      <td>3600.00</td>\n",
       "      <td>3600.00</td>\n",
       "      <td>3600.00</td>\n",
       "      <td>3600.00</td>\n",
       "      <td>3600.00</td>\n",
       "      <td>3600.00</td>\n",
       "      <td>3600.00</td>\n",
       "      <td>3600.00</td>\n",
       "      <td>3600.00</td>\n",
       "      <td>3600.00</td>\n",
       "      <td>3600.00</td>\n",
       "      <td>3600.00</td>\n",
       "      <td>3600.00</td>\n",
       "      <td>3600.00</td>\n",
       "    </tr>\n",
       "    <tr>\n",
       "      <th>mean</th>\n",
       "      <td>99.99</td>\n",
       "      <td>99.83</td>\n",
       "      <td>66.39</td>\n",
       "      <td>18.48</td>\n",
       "      <td>189.78</td>\n",
       "      <td>99.98</td>\n",
       "      <td>100.26</td>\n",
       "      <td>66.33</td>\n",
       "      <td>18.34</td>\n",
       "      <td>183.29</td>\n",
       "      <td>33240.21</td>\n",
       "      <td>33070.23</td>\n",
       "      <td>-0.03</td>\n",
       "      <td>0.01</td>\n",
       "      <td>4.96</td>\n",
       "      <td>178.00</td>\n",
       "    </tr>\n",
       "    <tr>\n",
       "      <th>std</th>\n",
       "      <td>14.30</td>\n",
       "      <td>14.27</td>\n",
       "      <td>9.60</td>\n",
       "      <td>2.89</td>\n",
       "      <td>104.13</td>\n",
       "      <td>10.75</td>\n",
       "      <td>10.56</td>\n",
       "      <td>9.56</td>\n",
       "      <td>2.98</td>\n",
       "      <td>103.50</td>\n",
       "      <td>5909.19</td>\n",
       "      <td>5884.56</td>\n",
       "      <td>1.79</td>\n",
       "      <td>0.73</td>\n",
       "      <td>4.97</td>\n",
       "      <td>101.87</td>\n",
       "    </tr>\n",
       "    <tr>\n",
       "      <th>min</th>\n",
       "      <td>59.30</td>\n",
       "      <td>56.40</td>\n",
       "      <td>25.20</td>\n",
       "      <td>10.60</td>\n",
       "      <td>0.00</td>\n",
       "      <td>63.60</td>\n",
       "      <td>62.20</td>\n",
       "      <td>25.20</td>\n",
       "      <td>10.50</td>\n",
       "      <td>0.00</td>\n",
       "      <td>22821.00</td>\n",
       "      <td>22825.00</td>\n",
       "      <td>-3.10</td>\n",
       "      <td>-1.40</td>\n",
       "      <td>0.00</td>\n",
       "      <td>0.00</td>\n",
       "    </tr>\n",
       "    <tr>\n",
       "      <th>25%</th>\n",
       "      <td>88.50</td>\n",
       "      <td>88.50</td>\n",
       "      <td>63.30</td>\n",
       "      <td>16.90</td>\n",
       "      <td>99.80</td>\n",
       "      <td>91.60</td>\n",
       "      <td>92.00</td>\n",
       "      <td>63.20</td>\n",
       "      <td>16.70</td>\n",
       "      <td>95.25</td>\n",
       "      <td>28180.00</td>\n",
       "      <td>27887.50</td>\n",
       "      <td>-1.60</td>\n",
       "      <td>-0.50</td>\n",
       "      <td>1.00</td>\n",
       "      <td>91.00</td>\n",
       "    </tr>\n",
       "    <tr>\n",
       "      <th>50%</th>\n",
       "      <td>99.90</td>\n",
       "      <td>99.90</td>\n",
       "      <td>68.80</td>\n",
       "      <td>18.40</td>\n",
       "      <td>196.50</td>\n",
       "      <td>100.10</td>\n",
       "      <td>100.10</td>\n",
       "      <td>68.50</td>\n",
       "      <td>18.20</td>\n",
       "      <td>186.05</td>\n",
       "      <td>32671.50</td>\n",
       "      <td>32539.00</td>\n",
       "      <td>-0.00</td>\n",
       "      <td>0.00</td>\n",
       "      <td>3.00</td>\n",
       "      <td>178.00</td>\n",
       "    </tr>\n",
       "    <tr>\n",
       "      <th>75%</th>\n",
       "      <td>110.90</td>\n",
       "      <td>111.00</td>\n",
       "      <td>73.10</td>\n",
       "      <td>19.90</td>\n",
       "      <td>282.12</td>\n",
       "      <td>108.10</td>\n",
       "      <td>108.50</td>\n",
       "      <td>73.20</td>\n",
       "      <td>19.70</td>\n",
       "      <td>274.50</td>\n",
       "      <td>39107.00</td>\n",
       "      <td>38896.75</td>\n",
       "      <td>1.50</td>\n",
       "      <td>0.50</td>\n",
       "      <td>7.00</td>\n",
       "      <td>265.00</td>\n",
       "    </tr>\n",
       "    <tr>\n",
       "      <th>max</th>\n",
       "      <td>139.80</td>\n",
       "      <td>140.80</td>\n",
       "      <td>79.30</td>\n",
       "      <td>44.90</td>\n",
       "      <td>360.00</td>\n",
       "      <td>140.70</td>\n",
       "      <td>138.60</td>\n",
       "      <td>80.00</td>\n",
       "      <td>44.90</td>\n",
       "      <td>359.90</td>\n",
       "      <td>43334.00</td>\n",
       "      <td>43330.00</td>\n",
       "      <td>3.10</td>\n",
       "      <td>1.40</td>\n",
       "      <td>45.00</td>\n",
       "      <td>358.00</td>\n",
       "    </tr>\n",
       "  </tbody>\n",
       "</table>\n",
       "</div>"
      ],
      "text/plain": [
       "           0_x      0_y  0_major  0_minor  0_angle_deg      1_x      1_y  \\\n",
       "count  3600.00  3600.00  3600.00  3600.00      3600.00  3600.00  3600.00   \n",
       "mean     99.99    99.83    66.39    18.48       189.78    99.98   100.26   \n",
       "std      14.30    14.27     9.60     2.89       104.13    10.75    10.56   \n",
       "min      59.30    56.40    25.20    10.60         0.00    63.60    62.20   \n",
       "25%      88.50    88.50    63.30    16.90        99.80    91.60    92.00   \n",
       "50%      99.90    99.90    68.80    18.40       196.50   100.10   100.10   \n",
       "75%     110.90   111.00    73.10    19.90       282.12   108.10   108.50   \n",
       "max     139.80   140.80    79.30    44.90       360.00   140.70   138.60   \n",
       "\n",
       "       1_major  1_minor  1_angle_deg      0_id      1_id  theta_rad  phi_rad  \\\n",
       "count  3600.00  3600.00      3600.00   3600.00   3600.00    3600.00  3600.00   \n",
       "mean     66.33    18.34       183.29  33240.21  33070.23      -0.03     0.01   \n",
       "std       9.56     2.98       103.50   5909.19   5884.56       1.79     0.73   \n",
       "min      25.20    10.50         0.00  22821.00  22825.00      -3.10    -1.40   \n",
       "25%      63.20    16.70        95.25  28180.00  27887.50      -1.60    -0.50   \n",
       "50%      68.50    18.20       186.05  32671.50  32539.00      -0.00     0.00   \n",
       "75%      73.20    19.70       274.50  39107.00  38896.75       1.50     0.50   \n",
       "max      80.00    44.90       359.90  43334.00  43330.00       3.10     1.40   \n",
       "\n",
       "       overlap_px  augmentation_angle_deg  \n",
       "count     3600.00                 3600.00  \n",
       "mean         4.96                  178.00  \n",
       "std          4.97                  101.87  \n",
       "min          0.00                    0.00  \n",
       "25%          1.00                   91.00  \n",
       "50%          3.00                  178.00  \n",
       "75%          7.00                  265.00  \n",
       "max         45.00                  358.00  "
      ]
     },
     "execution_count": 20,
     "metadata": {},
     "output_type": "execute_result"
    }
   ],
   "source": [
    "y_test.describe()"
   ]
  },
  {
   "cell_type": "code",
   "execution_count": 21,
   "metadata": {
    "cell_style": "split",
    "scrolled": true
   },
   "outputs": [
    {
     "data": {
      "text/plain": [
       "<matplotlib.colorbar.Colorbar at 0x7f0f190c4110>"
      ]
     },
     "execution_count": 21,
     "metadata": {},
     "output_type": "execute_result"
    },
    {
     "data": {
      "image/png": "[encoded data removed]",
      "text/plain": [
       "<matplotlib.figure.Figure at 0x7f0f1924eb50>"
      ]
     },
     "metadata": {},
     "output_type": "display_data"
    }
   ],
   "source": [
    "_ = plt.hist2d(y_test['0_x'], y_test['0_y'], bins=40, range=((0, 199), (0, 199)))\n",
    "plt.colorbar()"
   ]
  },
  {
   "cell_type": "code",
   "execution_count": 22,
   "metadata": {
    "cell_style": "split"
   },
   "outputs": [
    {
     "data": {
      "text/plain": [
       "<matplotlib.colorbar.Colorbar at 0x7f0f18f5eb50>"
      ]
     },
     "execution_count": 22,
     "metadata": {},
     "output_type": "execute_result"
    },
    {
     "data": {
      "image/png": "[encoded data removed]",
      "text/plain": [
       "<matplotlib.figure.Figure at 0x7f0f190488d0>"
      ]
     },
     "metadata": {},
     "output_type": "display_data"
    }
   ],
   "source": [
    "_ = plt.hist2d(y_test['1_x'], y_test['1_y'], bins=40, range=((0, 199), (0, 199)))\n",
    "plt.colorbar()"
   ]
  },
  {
   "cell_type": "code",
   "execution_count": 23,
   "metadata": {
    "cell_style": "split"
   },
   "outputs": [
    {
     "data": {
      "text/plain": [
       "<matplotlib.axes._subplots.AxesSubplot at 0x7f0f18f08ed0>"
      ]
     },
     "execution_count": 23,
     "metadata": {},
     "output_type": "execute_result"
    },
    {
     "data": {
      "image/png": "[encoded data removed]",
      "text/plain": [
       "<matplotlib.figure.Figure at 0x7f0f191dc510>"
      ]
     },
     "metadata": {},
     "output_type": "display_data"
    }
   ],
   "source": [
    "y_test['0_angle_deg'].hist()"
   ]
  },
  {
   "cell_type": "code",
   "execution_count": 24,
   "metadata": {
    "cell_style": "split"
   },
   "outputs": [
    {
     "data": {
      "text/plain": [
       "<matplotlib.axes._subplots.AxesSubplot at 0x7f0f18dcbd10>"
      ]
     },
     "execution_count": 24,
     "metadata": {},
     "output_type": "execute_result"
    },
    {
     "data": {
      "image/png": "[encoded data removed]",
      "text/plain": [
       "<matplotlib.figure.Figure at 0x7f0f18e5dad0>"
      ]
     },
     "metadata": {},
     "output_type": "display_data"
    }
   ],
   "source": [
    "(y_test['0_angle_deg'] % 180).hist()"
   ]
  },
  {
   "cell_type": "code",
   "execution_count": 25,
   "metadata": {
    "cell_style": "split",
    "scrolled": true
   },
   "outputs": [
    {
     "data": {
      "text/plain": [
       "<matplotlib.axes._subplots.AxesSubplot at 0x7f0f18d70e10>"
      ]
     },
     "execution_count": 25,
     "metadata": {},
     "output_type": "execute_result"
    },
    {
     "data": {
      "image/png": "[encoded data removed]",
      "text/plain": [
       "<matplotlib.figure.Figure at 0x7f0f1dc35390>"
      ]
     },
     "metadata": {},
     "output_type": "display_data"
    }
   ],
   "source": [
    "y_test['1_angle_deg'].hist()"
   ]
  },
  {
   "cell_type": "code",
   "execution_count": 26,
   "metadata": {
    "cell_style": "split",
    "scrolled": true
   },
   "outputs": [
    {
     "data": {
      "text/plain": [
       "<matplotlib.axes._subplots.AxesSubplot at 0x7f0f18cd8d90>"
      ]
     },
     "execution_count": 26,
     "metadata": {},
     "output_type": "execute_result"
    },
    {
     "data": {
      "image/png": "[encoded data removed]",
      "text/plain": [
       "<matplotlib.figure.Figure at 0x7f0f19287b50>"
      ]
     },
     "metadata": {},
     "output_type": "display_data"
    }
   ],
   "source": [
    "(y_test['1_angle_deg'] % 180).hist()"
   ]
  },
  {
   "cell_type": "code",
   "execution_count": 27,
   "metadata": {
    "cell_style": "split"
   },
   "outputs": [
    {
     "data": {
      "text/plain": [
       "<matplotlib.axes._subplots.AxesSubplot at 0x7f0f18be6590>"
      ]
     },
     "execution_count": 27,
     "metadata": {},
     "output_type": "execute_result"
    },
    {
     "data": {
      "image/png": "[encoded data removed]",
      "text/plain": [
       "<matplotlib.figure.Figure at 0x7f0f18e0dbd0>"
      ]
     },
     "metadata": {},
     "output_type": "display_data"
    }
   ],
   "source": [
    "y_test['augmentation_angle_deg'].hist(bins=36)"
   ]
  }
 ],
 "metadata": {
  "_draft": {
   "nbviewer_url": "https://gist.github.com/06ecd7830e31f92de2460b48d905ac44"
  },
  "gist": {
   "data": {
    "description": "interaction_results.ipynb",
    "public": false
   },
   "id": "06ecd7830e31f92de2460b48d905ac44"
  },
  "kernelspec": {
   "display_name": "Python 2",
   "language": "python",
   "name": "python2"
  },
  "language_info": {
   "codemirror_mode": {
    "name": "ipython",
    "version": 2
   },
   "file_extension": ".py",
   "mimetype": "text/x-python",
   "name": "python",
   "nbconvert_exporter": "python",
   "pygments_lexer": "ipython2",
   "version": "2.7.14"
  },
  "toc": {
   "nav_menu": {
    "height": "175px",
    "width": "161px"
   },
   "number_sections": true,
   "sideBar": false,
   "skip_h1_title": false,
   "toc_cell": false,
   "toc_position": {},
   "toc_section_display": "block",
   "toc_window_display": false
  }
 },
 "nbformat": 4,
 "nbformat_minor": 2
}
