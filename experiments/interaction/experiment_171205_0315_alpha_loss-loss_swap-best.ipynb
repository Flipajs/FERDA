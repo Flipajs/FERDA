{
 "cells": [
  {
   "cell_type": "code",
   "execution_count": null,
   "metadata": {},
   "outputs": [],
   "source": [
    "%matplotlib inline\n",
    "import matplotlib.pyplot as plt\n",
    "import h5py\n",
    "from imageio import imread\n",
    "import numpy as np\n",
    "import os\n",
    "from os.path import join\n",
    "import train_interactions\n",
    "import pandas as pd\n",
    "from interactions_results import toarray, tostruct\n",
    "import train_interactions\n",
    "import warnings"
   ]
  },
  {
   "cell_type": "code",
   "execution_count": null,
   "metadata": {},
   "outputs": [],
   "source": [
    "DATA_DIR = '/home/matej/prace/ferda/data/interactions'\n",
    "EXPERIMENT_DIR = '/home/matej/prace/ferda/experiments/171205_0315_batch'\n",
    "\n",
    "NAMES = 'ant1_x, ant1_y, ant1_major, ant1_minor, ant1_angle, ' \\\n",
    "        'ant2_x, ant2_y, ant2_major, ant2_minor, ant2_angle'\n",
    "FORMATS = 10 * 'f,'\n",
    "\n",
    "pd.set_option('precision', 2)"
   ]
  },
  {
   "cell_type": "code",
   "execution_count": null,
   "metadata": {},
   "outputs": [],
   "source": [
    "with h5py.File(join(DATA_DIR, 'results_inter_test.h5'), 'r') as hf:\n",
    "    y_test = hf['data'][:]\n",
    "    y_test_df = pd.DataFrame(tostruct(y_test))\n",
    "\n",
    "with h5py.File(join(EXPERIMENT_DIR, '0.310344827586', 'predictions.h5'), 'r') as hf:\n",
    "    pred = hf['data'][:]\n",
    "    pred_df = pd.DataFrame(tostruct(pred))"
   ]
  },
  {
   "cell_type": "code",
   "execution_count": null,
   "metadata": {},
   "outputs": [],
   "source": [
    "loss_alpha_batch = pd.read_csv(join(EXPERIMENT_DIR, 'results.csv'))"
   ]
  },
  {
   "cell_type": "code",
   "execution_count": null,
   "metadata": {},
   "outputs": [],
   "source": [
    "loss_alpha_batch['xy MAE'] /= 2\n",
    "warnings.warn('Fixing xy BUG on loss swap experiments before 171206.')"
   ]
  },
  {
   "cell_type": "code",
   "execution_count": null,
   "metadata": {},
   "outputs": [],
   "source": [
    "loss_alpha_batch['xy MAE'].iloc[-1] = np.nan\n",
    "xy = loss_alpha_batch['xy MAE']\n",
    "loss_alpha_batch['xy MAE norm'] = (xy - xy.mean()) / xy.std()\n",
    "loss_alpha_batch['angle MAE'].iloc[0] = np.nan\n",
    "angle = loss_alpha_batch['angle MAE']\n",
    "loss_alpha_batch['angle MAE norm'] = (angle - angle.mean()) / angle.std()\n",
    "loss_alpha_batch['sum norm'] = loss_alpha_batch['angle MAE norm'] + loss_alpha_batch['xy MAE norm']\n",
    "loss_alpha_batch['alpha sum norm'] = loss_alpha_batch['angle MAE norm'] * (1 - loss_alpha_batch['loss_alpha']) + \\\n",
    "                                     loss_alpha_batch['xy MAE norm'] * loss_alpha_batch['loss_alpha']"
   ]
  },
  {
   "cell_type": "code",
   "execution_count": null,
   "metadata": {
    "cell_style": "split"
   },
   "outputs": [],
   "source": [
    "ax = loss_alpha_batch.plot('loss_alpha', ['xy MAE norm', 'angle MAE norm', 'alpha sum norm'], \n",
    "                           title='normalized mean absolute errors')\n",
    "ax.legend(['xy', 'angle', 'alpha weighted sum'])\n",
    "ax.set_xlabel('alpha')"
   ]
  },
  {
   "cell_type": "code",
   "execution_count": null,
   "metadata": {
    "cell_style": "split"
   },
   "outputs": [],
   "source": [
    "ax = loss_alpha_batch.plot('loss_alpha', ['xy MAE', 'angle MAE'], title='mean absolute errors')\n",
    "ax.legend(['xy', 'angle'])\n",
    "ax.set_ylabel('deg, px')\n",
    "ax.set_xlabel('alpha')"
   ]
  },
  {
   "cell_type": "code",
   "execution_count": null,
   "metadata": {
    "code_folding": [
     0
    ]
   },
   "outputs": [],
   "source": [
    "# import fnmatch\n",
    "# import os\n",
    "# import re\n",
    "\n",
    "# matches = []\n",
    "# for root, dirnames, filenames in os.walk(EXPERIMENT_DIR):    \n",
    "#     for filename in  fnmatch.filter(filenames, 'log.csv'):\n",
    "#         matches.append(os.path.join(root, filename))\n",
    "        \n",
    "# logs = []\n",
    "# for filename in sorted(matches):\n",
    "#     logs.append((float(filename.split('/')[-2]), pd.read_csv(filename, sep=';')))"
   ]
  },
  {
   "cell_type": "code",
   "execution_count": null,
   "metadata": {},
   "outputs": [],
   "source": [
    "# for alpha, df in logs:\n",
    "#     print alpha\n",
    "#     print df"
   ]
  },
  {
   "cell_type": "code",
   "execution_count": null,
   "metadata": {},
   "outputs": [],
   "source": [
    "# logs[8][1].plot('epoch', 'loss')"
   ]
  },
  {
   "cell_type": "code",
   "execution_count": null,
   "metadata": {
    "code_folding": [
     0
    ]
   },
   "outputs": [],
   "source": [
    "# fig, ax = plt.subplots(1, 1)\n",
    "# for alpha, df in logs:\n",
    "#     # df['alpha'] = alpha    \n",
    "#     log.plot(['epoch'], ['loss', 'val_loss'])\n",
    "#     # title=round(alpha, 2), \n",
    "#     df.plot('epoch', 'loss', ax=ax, label=round(alpha, 2), ylim=(0, 6000)).legend(loc='center left', bbox_to_anchor=(1, 0.5), ncol=4)\n",
    "#     # , ylim=(0, 200), ) # ylim=(0, 100), , colormap='autumn') # label=round(alpha, 2), \n",
    "    \n",
    "# fig, ax = plt.subplots(1, 1)\n",
    "# for alpha, df in logs:\n",
    "#     df.plot('epoch', 'loss', ax=ax, label=round(alpha, 2), ylim=(0, 60)).legend(loc='center left', bbox_to_anchor=(1, 0.5), ncol=4)\n",
    "    \n",
    "# fig, ax = plt.subplots(1, 1)\n",
    "# for alpha, df in logs:\n",
    "#     df.plot('epoch', 'val_loss', ax=ax, label=round(alpha, 2)).legend(loc='center left', bbox_to_anchor=(1, 0.5), ncol=4)\n",
    "    \n",
    "# fig, ax = plt.subplots(1, 1)\n",
    "# for alpha, df in logs:\n",
    "#     df.plot('epoch', 'val_loss', ax=ax, label=round(alpha, 2), ylim=(0, 200)).legend(loc='center left', bbox_to_anchor=(1, 0.5), ncol=4)    "
   ]
  },
  {
   "cell_type": "markdown",
   "metadata": {},
   "source": [
    "# Predictions"
   ]
  },
  {
   "cell_type": "code",
   "execution_count": null,
   "metadata": {},
   "outputs": [],
   "source": [
    "pred_df.describe()"
   ]
  },
  {
   "cell_type": "code",
   "execution_count": null,
   "metadata": {
    "cell_style": "split"
   },
   "outputs": [],
   "source": [
    "_ = plt.hist2d(pred_df['ant1_x'], pred_df['ant1_y'], bins=40, range=((0, 199), (0, 199)))"
   ]
  },
  {
   "cell_type": "code",
   "execution_count": null,
   "metadata": {
    "cell_style": "split"
   },
   "outputs": [],
   "source": [
    "_ = plt.hist2d(pred_df['ant2_x'], pred_df['ant2_y'], bins=40, range=((0, 199), (0, 199)))"
   ]
  },
  {
   "cell_type": "code",
   "execution_count": null,
   "metadata": {
    "cell_style": "split"
   },
   "outputs": [],
   "source": [
    "pred_df['ant1_angle'].hist()"
   ]
  },
  {
   "cell_type": "code",
   "execution_count": null,
   "metadata": {
    "cell_style": "split"
   },
   "outputs": [],
   "source": [
    "(pred_df['ant1_angle'] % 180).hist()"
   ]
  },
  {
   "cell_type": "code",
   "execution_count": null,
   "metadata": {
    "cell_style": "split"
   },
   "outputs": [],
   "source": [
    "pred_df['ant2_angle'].hist()"
   ]
  },
  {
   "cell_type": "code",
   "execution_count": null,
   "metadata": {
    "cell_style": "split"
   },
   "outputs": [],
   "source": [
    "(pred_df['ant2_angle'] % 180).hist()"
   ]
  },
  {
   "cell_type": "markdown",
   "metadata": {},
   "source": [
    "# Prediction Errors"
   ]
  },
  {
   "cell_type": "code",
   "execution_count": null,
   "metadata": {},
   "outputs": [],
   "source": [
    "xy, angle, indices = train_interactions.match_pred_to_gt(pred, y_test, np)\n",
    "xy_errors = (xy[indices[:, 0], indices[:, 1]])\n",
    "angle_errors = (angle[indices[:, 0], indices[:, 1]])\n",
    "\n",
    "# swap = indices[:, 0] == 1\n",
    "# pred_swapped = pred.copy()\n",
    "# pred_swapped[swap, :5], pred_swapped[swap, 5:] = pred_swapped[swap, 5:], pred_swapped[swap, :5]"
   ]
  },
  {
   "cell_type": "code",
   "execution_count": null,
   "metadata": {},
   "outputs": [],
   "source": [
    "df = pd.DataFrame.from_items([('xy (px)', [xy_errors.mean()]), \n",
    "                              ('angle (deg)', angle_errors.mean()),])\n",
    "df.style.set_caption('MAE')\n",
    "df"
   ]
  },
  {
   "cell_type": "code",
   "execution_count": null,
   "metadata": {
    "cell_style": "split"
   },
   "outputs": [],
   "source": [
    "_  = plt.hist(xy_errors)"
   ]
  },
  {
   "cell_type": "code",
   "execution_count": null,
   "metadata": {
    "cell_style": "split"
   },
   "outputs": [],
   "source": [
    "_ = plt.hist(angle_errors)"
   ]
  },
  {
   "cell_type": "markdown",
   "metadata": {},
   "source": [
    "# Model"
   ]
  },
  {
   "cell_type": "code",
   "execution_count": null,
   "metadata": {},
   "outputs": [],
   "source": [
    "from IPython.display import SVG\n",
    "from keras.utils.vis_utils import model_to_dot\n",
    "\n",
    "model = train_interactions.model()\n",
    "SVG(model_to_dot(model, show_shapes=True).create(prog='dot', format='svg'))"
   ]
  },
  {
   "cell_type": "code",
   "execution_count": null,
   "metadata": {},
   "outputs": [],
   "source": [
    "# SVG(model_to_dot(model.get_layer('model_1'), show_shapes=True).create(prog='dot', format='svg'))"
   ]
  }
 ],
 "metadata": {
  "_draft": {
   "nbviewer_url": "https://gist.github.com/06ecd7830e31f92de2460b48d905ac44"
  },
  "gist": {
   "data": {
    "description": "interaction_results.ipynb",
    "public": false
   },
   "id": "06ecd7830e31f92de2460b48d905ac44"
  },
  "kernelspec": {
   "display_name": "Python 2",
   "language": "python",
   "name": "python2"
  },
  "language_info": {
   "codemirror_mode": {
    "name": "ipython",
    "version": 2
   },
   "file_extension": ".py",
   "mimetype": "text/x-python",
   "name": "python",
   "nbconvert_exporter": "python",
   "pygments_lexer": "ipython2"
  },
  "toc": {
   "nav_menu": {
    "height": "175px",
    "width": "161px"
   },
   "number_sections": true,
   "sideBar": false,
   "skip_h1_title": false,
   "toc_cell": false,
   "toc_position": {},
   "toc_section_display": "block",
   "toc_window_display": false
  }
 },
 "nbformat": 4,
 "nbformat_minor": 2
}
