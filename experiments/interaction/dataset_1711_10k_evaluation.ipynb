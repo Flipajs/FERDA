{
 "cells": [
  {
   "cell_type": "code",
   "execution_count": null,
   "metadata": {},
   "outputs": [],
   "source": [
    "%matplotlib inline\n",
    "import matplotlib.pyplot as plt\n",
    "import h5py\n",
    "from imageio import imread\n",
    "import numpy as np\n",
    "import os\n",
    "import train_interactions\n",
    "import pandas as pd\n",
    "from interactions_results import toarray"
   ]
  },
  {
   "cell_type": "code",
   "execution_count": null,
   "metadata": {},
   "outputs": [],
   "source": [
    "DATA_DIR = '/home/matej/prace/ferda/data/interactions'\n",
    "EXPERIMENT_DIR = '/home/matej/prace/ferda/experiments/171129_1957'\n",
    "\n",
    "NAMES = 'ant1_x, ant1_y, ant1_major, ant1_minor, ant1_angle, ' \\\n",
    "        'ant2_x, ant2_y, ant2_major, ant2_minor, ant2_angle'\n",
    "FORMATS = 10 * 'f,'\n",
    "\n",
    "pd.set_option('precision', 2)"
   ]
  },
  {
   "cell_type": "code",
   "execution_count": null,
   "metadata": {},
   "outputs": [],
   "source": [
    "with h5py.File(DATA_DIR + '/results_inter_train.h5', 'r') as hf:\n",
    "    y_train = np.core.records.fromarrays(hf['data'][:].transpose(), names=NAMES, formats=FORMATS)\n",
    "    y_train_df = pd.DataFrame(y_train)\n",
    "\n",
    "with h5py.File(DATA_DIR + '/results_inter_test.h5', 'r') as hf:\n",
    "    y_test = np.core.records.fromarrays(hf['data'][:].transpose(), names=NAMES, formats=FORMATS)\n",
    "    y_test_df = pd.DataFrame(y_test)"
   ]
  },
  {
   "cell_type": "markdown",
   "metadata": {},
   "source": [
    "# Training Data"
   ]
  },
  {
   "cell_type": "code",
   "execution_count": null,
   "metadata": {},
   "outputs": [],
   "source": [
    "y_train_df.describe()"
   ]
  },
  {
   "cell_type": "code",
   "execution_count": null,
   "metadata": {
    "cell_style": "split"
   },
   "outputs": [],
   "source": [
    "_ = plt.hist2d(y_train['ant1_x'], y_train['ant1_y'], bins=40, range=((0, 199), (0, 199)))"
   ]
  },
  {
   "cell_type": "code",
   "execution_count": null,
   "metadata": {
    "cell_style": "split"
   },
   "outputs": [],
   "source": [
    "_ = plt.hist2d(y_train['ant2_x'], y_train['ant2_y'], bins=40, range=((0, 199), (0, 199)))"
   ]
  },
  {
   "cell_type": "code",
   "execution_count": null,
   "metadata": {
    "cell_style": "split"
   },
   "outputs": [],
   "source": [
    "y_train_df['ant1_angle'].hist()"
   ]
  },
  {
   "cell_type": "code",
   "execution_count": null,
   "metadata": {
    "cell_style": "split"
   },
   "outputs": [],
   "source": [
    "(y_train_df['ant1_angle'] % 180).hist()"
   ]
  },
  {
   "cell_type": "code",
   "execution_count": null,
   "metadata": {
    "cell_style": "split"
   },
   "outputs": [],
   "source": [
    "y_train_df['ant2_angle'].hist()"
   ]
  },
  {
   "cell_type": "code",
   "execution_count": null,
   "metadata": {
    "cell_style": "split"
   },
   "outputs": [],
   "source": [
    "(y_train_df['ant2_angle'] % 180).hist()"
   ]
  },
  {
   "cell_type": "markdown",
   "metadata": {},
   "source": [
    "# Test Data"
   ]
  },
  {
   "cell_type": "code",
   "execution_count": null,
   "metadata": {},
   "outputs": [],
   "source": [
    "y_test_df.describe()"
   ]
  },
  {
   "cell_type": "code",
   "execution_count": null,
   "metadata": {
    "cell_style": "split"
   },
   "outputs": [],
   "source": [
    "_ = plt.hist2d(y_test['ant1_x'], y_test['ant1_y'], bins=40, range=((0, 199), (0, 199)))"
   ]
  },
  {
   "cell_type": "code",
   "execution_count": null,
   "metadata": {
    "cell_style": "split"
   },
   "outputs": [],
   "source": [
    "_ = plt.hist2d(y_test['ant2_x'], y_test['ant2_y'], bins=40, range=((0, 199), (0, 199)))"
   ]
  },
  {
   "cell_type": "code",
   "execution_count": null,
   "metadata": {
    "cell_style": "split"
   },
   "outputs": [],
   "source": [
    "y_test_df['ant1_angle'].hist()"
   ]
  },
  {
   "cell_type": "code",
   "execution_count": null,
   "metadata": {
    "cell_style": "split"
   },
   "outputs": [],
   "source": [
    "(y_test_df['ant1_angle'] % 180).hist()"
   ]
  },
  {
   "cell_type": "code",
   "execution_count": null,
   "metadata": {
    "cell_style": "split"
   },
   "outputs": [],
   "source": [
    "y_test_df['ant2_angle'].hist()"
   ]
  },
  {
   "cell_type": "code",
   "execution_count": null,
   "metadata": {
    "cell_style": "split"
   },
   "outputs": [],
   "source": [
    "(y_test_df['ant2_angle'] % 180).hist()"
   ]
  }
 ],
 "metadata": {
  "_draft": {
   "nbviewer_url": "https://gist.github.com/06ecd7830e31f92de2460b48d905ac44"
  },
  "gist": {
   "data": {
    "description": "interaction_results.ipynb",
    "public": false
   },
   "id": "06ecd7830e31f92de2460b48d905ac44"
  },
  "kernelspec": {
   "display_name": "Python 2",
   "language": "python",
   "name": "python2"
  },
  "language_info": {
   "codemirror_mode": {
    "name": "ipython",
    "version": 2
   },
   "file_extension": ".py",
   "mimetype": "text/x-python",
   "name": "python",
   "nbconvert_exporter": "python",
   "pygments_lexer": "ipython2"
  },
  "toc": {
   "nav_menu": {
    "height": "175px",
    "width": "161px"
   },
   "number_sections": true,
   "sideBar": false,
   "skip_h1_title": false,
   "toc_cell": false,
   "toc_position": {},
   "toc_section_display": "block",
   "toc_window_display": false
  }
 },
 "nbformat": 4,
 "nbformat_minor": 2
}
