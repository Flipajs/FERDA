{
 "cells": [
  {
   "cell_type": "code",
   "execution_count": 40,
   "metadata": {},
   "outputs": [
    {
     "name": "stdout",
     "output_type": "stream",
     "text": [
      "/home/matej/prace\n"
     ]
    }
   ],
   "source": [
    "%cd ../../"
   ]
  },
  {
   "cell_type": "code",
   "execution_count": 41,
   "metadata": {},
   "outputs": [],
   "source": [
    "%matplotlib inline\n",
    "import matplotlib.pyplot as plt\n",
    "import h5py\n",
    "from imageio import imread\n",
    "import numpy as np\n",
    "import os\n",
    "from os.path import join\n",
    "from scripts.CNN.train_interactions import COLUMNS, match_pred_to_gt, model\n",
    "import pandas as pd\n",
    "from scripts.CNN.interactions_results import toarray, tostruct\n",
    "import warnings\n",
    "pd.set_option('precision', 2)\n",
    "import seaborn as sns\n",
    "sns.set()"
   ]
  },
  {
   "cell_type": "code",
   "execution_count": 42,
   "metadata": {},
   "outputs": [],
   "source": [
    "DATA_DIR = '/home/matej/prace/ferda/data/interactions/1712_36k_random'\n",
    "EXPERIMENT_DIR = '/home/matej/prace/ferda/experiments/180118_2231_dim_mask'\n",
    "SUB_EXPERIMENT = 0.857142857143"
   ]
  },
  {
   "cell_type": "code",
   "execution_count": 4,
   "metadata": {},
   "outputs": [],
   "source": [
    "y_test = pd.read_csv(join(DATA_DIR, 'test.csv'))    \n",
    "\n",
    "with h5py.File(join(EXPERIMENT_DIR, str(SUB_EXPERIMENT), 'predictions.h5'), 'r') as hf:\n",
    "    pred = hf['data'][:]\n",
    "    pred_df = pd.DataFrame(tostruct(pred))\n",
    "    \n",
    "loss_alpha_batch = pd.read_csv(join(EXPERIMENT_DIR, 'results.csv'))    \n",
    "\n",
    "n_objects = pred_df.shape[1] / len(COLUMNS)\n",
    "assert pred_df.shape[1] % len(COLUMNS) == 0"
   ]
  },
  {
   "cell_type": "code",
   "execution_count": 5,
   "metadata": {},
   "outputs": [],
   "source": [
    "for i in range(n_objects):\n",
    "    y_test['%d_angle_deg' % i] *= -1"
   ]
  },
  {
   "cell_type": "code",
   "execution_count": 6,
   "metadata": {},
   "outputs": [
    {
     "data": {
      "text/html": [
       "<div>\n",
       "<style scoped>\n",
       "    .dataframe tbody tr th:only-of-type {\n",
       "        vertical-align: middle;\n",
       "    }\n",
       "\n",
       "    .dataframe tbody tr th {\n",
       "        vertical-align: top;\n",
       "    }\n",
       "\n",
       "    .dataframe thead th {\n",
       "        text-align: right;\n",
       "    }\n",
       "</style>\n",
       "<table border=\"1\" class=\"dataframe\">\n",
       "  <thead>\n",
       "    <tr style=\"text-align: right;\">\n",
       "      <th></th>\n",
       "      <th>Unnamed: 0</th>\n",
       "      <th>xy MAE</th>\n",
       "      <th>angle MAE</th>\n",
       "      <th>loss_alpha</th>\n",
       "    </tr>\n",
       "  </thead>\n",
       "  <tbody>\n",
       "    <tr>\n",
       "      <th>12</th>\n",
       "      <td>12</td>\n",
       "      <td>6.29</td>\n",
       "      <td>9.03</td>\n",
       "      <td>0.86</td>\n",
       "    </tr>\n",
       "  </tbody>\n",
       "</table>\n",
       "</div>"
      ],
      "text/plain": [
       "    Unnamed: 0  xy MAE  angle MAE  loss_alpha\n",
       "12          12    6.29       9.03        0.86"
      ]
     },
     "execution_count": 6,
     "metadata": {},
     "output_type": "execute_result"
    }
   ],
   "source": [
    "loss_alpha_batch[loss_alpha_batch['loss_alpha'].round(4) == round(SUB_EXPERIMENT, 4)]"
   ]
  },
  {
   "cell_type": "code",
   "execution_count": 7,
   "metadata": {},
   "outputs": [],
   "source": [
    "loss_alpha_batch.loc[loss_alpha_batch.index[-1], 'xy MAE'] = np.nan\n",
    "xy = loss_alpha_batch['xy MAE']\n",
    "loss_alpha_batch['xy MAE norm'] = (xy - xy.mean()) / xy.std()\n",
    "#loss_alpha_batch['angle MAE'].iloc[0] = np.nan\n",
    "angle = loss_alpha_batch['angle MAE']\n",
    "loss_alpha_batch['angle MAE norm'] = (angle - angle.mean()) / angle.std()\n",
    "loss_alpha_batch['sum norm'] = loss_alpha_batch['angle MAE norm'] + loss_alpha_batch['xy MAE norm']\n",
    "loss_alpha_batch['alpha sum norm'] = loss_alpha_batch['angle MAE norm'] * (1 - loss_alpha_batch['loss_alpha']) + \\\n",
    "                                     loss_alpha_batch['xy MAE norm'] * loss_alpha_batch['loss_alpha']"
   ]
  },
  {
   "cell_type": "code",
   "execution_count": 8,
   "metadata": {
    "cell_style": "center"
   },
   "outputs": [],
   "source": [
    "# ax = loss_alpha_batch.plot('loss_alpha', ['xy MAE norm', 'angle MAE norm', 'alpha sum norm'], \n",
    "#                            title='normalized mean absolute errors')\n",
    "# ax.legend(['xy', 'angle', 'alpha weighted sum'])\n",
    "# ax.set_xlabel('alpha')"
   ]
  },
  {
   "cell_type": "code",
   "execution_count": 17,
   "metadata": {
    "cell_style": "center",
    "scrolled": true
   },
   "outputs": [
    {
     "data": {
      "text/plain": [
       "<matplotlib.legend.Legend at 0x7f6ddf5e7dd0>"
      ]
     },
     "execution_count": 17,
     "metadata": {},
     "output_type": "execute_result"
    },
    {
     "data": {
      "image/png": "[encoded data removed]",
      "text/plain": [
       "<matplotlib.figure.Figure at 0x7f6ddaeaf310>"
      ]
     },
     "metadata": {},
     "output_type": "display_data"
    }
   ],
   "source": [
    "ax = loss_alpha_batch.plot('loss_alpha', ['xy MAE', 'angle MAE'], title='mean absolute errors')\n",
    "ax.set_ylabel('deg, px')\n",
    "ax.set_xlabel('alpha')\n",
    "ax.set_ylim(0, 24)\n",
    "ax.vlines(SUB_EXPERIMENT, ax.get_ylim()[0], ax.get_ylim()[1],\n",
    "          'r')\n",
    "ax.legend(['xy', 'angle', 'best alpha'])"
   ]
  },
  {
   "cell_type": "markdown",
   "metadata": {},
   "source": [
    "# Predictions"
   ]
  },
  {
   "cell_type": "code",
   "execution_count": 18,
   "metadata": {},
   "outputs": [
    {
     "data": {
      "text/html": [
       "<div>\n",
       "<style scoped>\n",
       "    .dataframe tbody tr th:only-of-type {\n",
       "        vertical-align: middle;\n",
       "    }\n",
       "\n",
       "    .dataframe tbody tr th {\n",
       "        vertical-align: top;\n",
       "    }\n",
       "\n",
       "    .dataframe thead th {\n",
       "        text-align: right;\n",
       "    }\n",
       "</style>\n",
       "<table border=\"1\" class=\"dataframe\">\n",
       "  <thead>\n",
       "    <tr style=\"text-align: right;\">\n",
       "      <th></th>\n",
       "      <th>0_x</th>\n",
       "      <th>0_y</th>\n",
       "      <th>0_major</th>\n",
       "      <th>0_minor</th>\n",
       "      <th>0_angle_deg</th>\n",
       "      <th>1_x</th>\n",
       "      <th>1_y</th>\n",
       "      <th>1_major</th>\n",
       "      <th>1_minor</th>\n",
       "      <th>1_angle_deg</th>\n",
       "    </tr>\n",
       "  </thead>\n",
       "  <tbody>\n",
       "    <tr>\n",
       "      <th>count</th>\n",
       "      <td>3600.00</td>\n",
       "      <td>3600.00</td>\n",
       "      <td>3600.00</td>\n",
       "      <td>3600.00</td>\n",
       "      <td>3600.00</td>\n",
       "      <td>3600.00</td>\n",
       "      <td>3600.00</td>\n",
       "      <td>3600.00</td>\n",
       "      <td>3600.00</td>\n",
       "      <td>3600.00</td>\n",
       "    </tr>\n",
       "    <tr>\n",
       "      <th>mean</th>\n",
       "      <td>111.04</td>\n",
       "      <td>99.93</td>\n",
       "      <td>47.37</td>\n",
       "      <td>37.07</td>\n",
       "      <td>75.93</td>\n",
       "      <td>90.73</td>\n",
       "      <td>100.59</td>\n",
       "      <td>-38.92</td>\n",
       "      <td>-23.56</td>\n",
       "      <td>74.53</td>\n",
       "    </tr>\n",
       "    <tr>\n",
       "      <th>std</th>\n",
       "      <td>5.88</td>\n",
       "      <td>11.82</td>\n",
       "      <td>14.51</td>\n",
       "      <td>17.43</td>\n",
       "      <td>54.02</td>\n",
       "      <td>7.08</td>\n",
       "      <td>11.49</td>\n",
       "      <td>22.10</td>\n",
       "      <td>34.68</td>\n",
       "      <td>54.83</td>\n",
       "    </tr>\n",
       "    <tr>\n",
       "      <th>min</th>\n",
       "      <td>94.68</td>\n",
       "      <td>66.67</td>\n",
       "      <td>9.45</td>\n",
       "      <td>-14.16</td>\n",
       "      <td>-59.02</td>\n",
       "      <td>72.49</td>\n",
       "      <td>71.01</td>\n",
       "      <td>-94.42</td>\n",
       "      <td>-116.00</td>\n",
       "      <td>-59.19</td>\n",
       "    </tr>\n",
       "    <tr>\n",
       "      <th>25%</th>\n",
       "      <td>106.81</td>\n",
       "      <td>90.50</td>\n",
       "      <td>37.84</td>\n",
       "      <td>25.58</td>\n",
       "      <td>33.16</td>\n",
       "      <td>85.20</td>\n",
       "      <td>91.80</td>\n",
       "      <td>-55.49</td>\n",
       "      <td>-54.69</td>\n",
       "      <td>31.81</td>\n",
       "    </tr>\n",
       "    <tr>\n",
       "      <th>50%</th>\n",
       "      <td>110.98</td>\n",
       "      <td>99.04</td>\n",
       "      <td>44.87</td>\n",
       "      <td>35.94</td>\n",
       "      <td>72.45</td>\n",
       "      <td>90.75</td>\n",
       "      <td>98.64</td>\n",
       "      <td>-41.41</td>\n",
       "      <td>-10.39</td>\n",
       "      <td>76.41</td>\n",
       "    </tr>\n",
       "    <tr>\n",
       "      <th>75%</th>\n",
       "      <td>115.20</td>\n",
       "      <td>110.11</td>\n",
       "      <td>55.15</td>\n",
       "      <td>46.22</td>\n",
       "      <td>118.93</td>\n",
       "      <td>95.98</td>\n",
       "      <td>109.89</td>\n",
       "      <td>-22.73</td>\n",
       "      <td>4.33</td>\n",
       "      <td>117.89</td>\n",
       "    </tr>\n",
       "    <tr>\n",
       "      <th>max</th>\n",
       "      <td>130.39</td>\n",
       "      <td>132.96</td>\n",
       "      <td>104.27</td>\n",
       "      <td>118.65</td>\n",
       "      <td>211.31</td>\n",
       "      <td>111.82</td>\n",
       "      <td>132.14</td>\n",
       "      <td>33.47</td>\n",
       "      <td>39.62</td>\n",
       "      <td>203.09</td>\n",
       "    </tr>\n",
       "  </tbody>\n",
       "</table>\n",
       "</div>"
      ],
      "text/plain": [
       "           0_x      0_y  0_major  0_minor  0_angle_deg      1_x      1_y  \\\n",
       "count  3600.00  3600.00  3600.00  3600.00      3600.00  3600.00  3600.00   \n",
       "mean    111.04    99.93    47.37    37.07        75.93    90.73   100.59   \n",
       "std       5.88    11.82    14.51    17.43        54.02     7.08    11.49   \n",
       "min      94.68    66.67     9.45   -14.16       -59.02    72.49    71.01   \n",
       "25%     106.81    90.50    37.84    25.58        33.16    85.20    91.80   \n",
       "50%     110.98    99.04    44.87    35.94        72.45    90.75    98.64   \n",
       "75%     115.20   110.11    55.15    46.22       118.93    95.98   109.89   \n",
       "max     130.39   132.96   104.27   118.65       211.31   111.82   132.14   \n",
       "\n",
       "       1_major  1_minor  1_angle_deg  \n",
       "count  3600.00  3600.00      3600.00  \n",
       "mean    -38.92   -23.56        74.53  \n",
       "std      22.10    34.68        54.83  \n",
       "min     -94.42  -116.00       -59.19  \n",
       "25%     -55.49   -54.69        31.81  \n",
       "50%     -41.41   -10.39        76.41  \n",
       "75%     -22.73     4.33       117.89  \n",
       "max      33.47    39.62       203.09  "
      ]
     },
     "execution_count": 18,
     "metadata": {},
     "output_type": "execute_result"
    }
   ],
   "source": [
    "pred_df.describe()"
   ]
  },
  {
   "cell_type": "code",
   "execution_count": 39,
   "metadata": {
    "cell_style": "center"
   },
   "outputs": [
    {
     "data": {
      "image/png": "[encoded data removed]",
      "text/plain": [
       "<matplotlib.figure.Figure at 0x7f6dd98b8550>"
      ]
     },
     "metadata": {},
     "output_type": "display_data"
    },
    {
     "data": {
      "image/png": "[encoded data removed]",
      "text/plain": [
       "<matplotlib.figure.Figure at 0x7f6ddae6f610>"
      ]
     },
     "metadata": {},
     "output_type": "display_data"
    }
   ],
   "source": [
    "for i in range(n_objects):\n",
    "    plt.figure()\n",
    "    _ = plt.hist2d(pred_df['%d_x' % i], pred_df['%d_y' % i], bins=40, range=((0, 199), (0, 199)))"
   ]
  },
  {
   "cell_type": "code",
   "execution_count": 36,
   "metadata": {
    "cell_style": "split"
   },
   "outputs": [
    {
     "data": {
      "image/png": "[encoded data removed]",
      "text/plain": [
       "<matplotlib.figure.Figure at 0x7f6dda8c0d90>"
      ]
     },
     "metadata": {},
     "output_type": "display_data"
    },
    {
     "data": {
      "image/png": "[encoded data removed]",
      "text/plain": [
       "<matplotlib.figure.Figure at 0x7f6ddb0e4990>"
      ]
     },
     "metadata": {},
     "output_type": "display_data"
    }
   ],
   "source": [
    "for i in range(n_objects):\n",
    "    plt.figure()\n",
    "    plt.title('predicted angles for object %d (deg)' % i)\n",
    "    (pred_df['%d_angle_deg' % i]).hist()"
   ]
  },
  {
   "cell_type": "code",
   "execution_count": 37,
   "metadata": {
    "cell_style": "split"
   },
   "outputs": [
    {
     "data": {
      "image/png": "[encoded data removed]",
      "text/plain": [
       "<matplotlib.figure.Figure at 0x7f6dda8432d0>"
      ]
     },
     "metadata": {},
     "output_type": "display_data"
    },
    {
     "data": {
      "image/png": "[encoded data removed]",
      "text/plain": [
       "<matplotlib.figure.Figure at 0x7f6ddad425d0>"
      ]
     },
     "metadata": {},
     "output_type": "display_data"
    }
   ],
   "source": [
    "for i in range(n_objects):\n",
    "    plt.figure()\n",
    "    plt.title('predicted angles mod 180 for object %d (deg)' % i)\n",
    "    (pred_df['%d_angle_deg' % i] % 180).hist()"
   ]
  },
  {
   "cell_type": "markdown",
   "metadata": {},
   "source": [
    "# Prediction Errors"
   ]
  },
  {
   "cell_type": "code",
   "execution_count": 27,
   "metadata": {
    "scrolled": true
   },
   "outputs": [],
   "source": [
    "PRED_COLUMNS = ['x', 'y', 'major', 'minor', 'angle_deg']\n",
    "columns = []\n",
    "for i in range(n_objects):\n",
    "    columns.extend(['%d_%s' % (i, c) for c in PRED_COLUMNS])\n",
    "\n",
    "xy, angle, indices = match_pred_to_gt(pred_df[columns].values, y_test[columns].values, np)\n",
    "if n_objects == 1:\n",
    "    xy_errors = xy\n",
    "    angle_errors = angle\n",
    "elif n_objects == 2:\n",
    "    xy_errors = (xy[indices[:, 0], indices[:, 1]])\n",
    "    angle_errors = (angle[indices[:, 0], indices[:, 1]])\n",
    "else:\n",
    "    assert False, 'not implemented'\n",
    "\n",
    "# swap = indices[:, 0] == 1\n",
    "# pred_swapped = pred.copy()\n",
    "# pred_swapped[swap, :5], pred_swapped[swap, 5:] = pred_swapped[swap, 5:], pred_swapped[swap, :5]"
   ]
  },
  {
   "cell_type": "code",
   "execution_count": 44,
   "metadata": {},
   "outputs": [
    {
     "data": {
      "text/plain": [
       "array([[   1,    0],\n",
       "       [   1,    1],\n",
       "       [   1,    2],\n",
       "       ..., \n",
       "       [   0, 3597],\n",
       "       [   1, 3598],\n",
       "       [   0, 3599]])"
      ]
     },
     "execution_count": 44,
     "metadata": {},
     "output_type": "execute_result"
    }
   ],
   "source": [
    "indices"
   ]
  },
  {
   "cell_type": "code",
   "execution_count": 35,
   "metadata": {
    "scrolled": true
   },
   "outputs": [
    {
     "data": {
      "text/html": [
       "<div>\n",
       "<style scoped>\n",
       "    .dataframe tbody tr th:only-of-type {\n",
       "        vertical-align: middle;\n",
       "    }\n",
       "\n",
       "    .dataframe tbody tr th {\n",
       "        vertical-align: top;\n",
       "    }\n",
       "\n",
       "    .dataframe thead th {\n",
       "        text-align: right;\n",
       "    }\n",
       "</style>\n",
       "<table border=\"1\" class=\"dataframe\">\n",
       "  <thead>\n",
       "    <tr style=\"text-align: right;\">\n",
       "      <th></th>\n",
       "      <th>xy (px)</th>\n",
       "      <th>angle (deg)</th>\n",
       "    </tr>\n",
       "  </thead>\n",
       "  <tbody>\n",
       "    <tr>\n",
       "      <th>0</th>\n",
       "      <td>6.29</td>\n",
       "      <td>9.03</td>\n",
       "    </tr>\n",
       "  </tbody>\n",
       "</table>\n",
       "</div>"
      ],
      "text/plain": [
       "   xy (px)  angle (deg)\n",
       "0     6.29         9.03"
      ]
     },
     "execution_count": 35,
     "metadata": {},
     "output_type": "execute_result"
    }
   ],
   "source": [
    "df = pd.DataFrame.from_items([('xy (px)', [xy_errors.mean()]), \n",
    "                              ('angle (deg)', angle_errors.mean()),])\n",
    "df.style.set_caption('MAE')\n",
    "df"
   ]
  },
  {
   "cell_type": "code",
   "execution_count": 29,
   "metadata": {
    "cell_style": "split",
    "scrolled": true
   },
   "outputs": [
    {
     "data": {
      "image/png": "[encoded data removed]",
      "text/plain": [
       "<matplotlib.figure.Figure at 0x7f6dda931110>"
      ]
     },
     "metadata": {},
     "output_type": "display_data"
    }
   ],
   "source": [
    "_  = plt.hist(xy_errors, 20)"
   ]
  },
  {
   "cell_type": "code",
   "execution_count": 30,
   "metadata": {
    "cell_style": "split"
   },
   "outputs": [
    {
     "data": {
      "image/png": "[encoded data removed]",
      "text/plain": [
       "<matplotlib.figure.Figure at 0x7f6dda463a90>"
      ]
     },
     "metadata": {},
     "output_type": "display_data"
    }
   ],
   "source": [
    "_ = plt.hist(angle_errors, 20, range=(0, 20))"
   ]
  },
  {
   "cell_type": "code",
   "execution_count": null,
   "metadata": {},
   "outputs": [],
   "source": [
    "plt.hist2d()"
   ]
  },
  {
   "cell_type": "code",
   "execution_count": 43,
   "metadata": {},
   "outputs": [
    {
     "data": {
      "text/plain": [
       "array([  9.45,   8.94,   6.59, ...,   3.21,   7.43,  10.55])"
      ]
     },
     "execution_count": 43,
     "metadata": {},
     "output_type": "execute_result"
    }
   ],
   "source": [
    "for i in range(n_objects):\n",
    "    plt.figure()\n",
    "    _ = plt.hist2d(pred_df['%d_x' % i], pred_df['%d_y' % i], bins=40, range=((0, 199), (0, 199)))"
   ]
  },
  {
   "cell_type": "markdown",
   "metadata": {},
   "source": [
    "# Model"
   ]
  },
  {
   "cell_type": "code",
   "execution_count": 31,
   "metadata": {
    "scrolled": false
   },
   "outputs": [
    {
     "data": {
      "image/svg+xml": [
       "<svg height=\"1051pt\" viewBox=\"0.00 0.00 401.00 1051.00\" width=\"401pt\" xmlns=\"http://www.w3.org/2000/svg\" xmlns:xlink=\"http://www.w3.org/1999/xlink\">\n",
       "<g class=\"graph\" id=\"graph0\" transform=\"scale(1 1) rotate(0) translate(4 1047)\">\n",
       "<title>G</title>\n",
       "<polygon fill=\"#ffffff\" points=\"-4,4 -4,-1047 397,-1047 397,4 -4,4\" stroke=\"transparent\"/>\n",
       "<!-- 140109789342928 -->\n",
       "<g class=\"node\" id=\"node1\">\n",
       "<title>140109789342928</title>\n",
       "<polygon fill=\"none\" points=\"44,-996.5 44,-1042.5 349,-1042.5 349,-996.5 44,-996.5\" stroke=\"#000000\"/>\n",
       "<text fill=\"#000000\" font-family=\"Times,serif\" font-size=\"14.00\" text-anchor=\"middle\" x=\"106.5\" y=\"-1015.8\">input_1: InputLayer</text>\n",
       "<polyline fill=\"none\" points=\"169,-996.5 169,-1042.5 \" stroke=\"#000000\"/>\n",
       "<text fill=\"#000000\" font-family=\"Times,serif\" font-size=\"14.00\" text-anchor=\"middle\" x=\"196.5\" y=\"-1027.3\">input:</text>\n",
       "<polyline fill=\"none\" points=\"169,-1019.5 224,-1019.5 \" stroke=\"#000000\"/>\n",
       "<text fill=\"#000000\" font-family=\"Times,serif\" font-size=\"14.00\" text-anchor=\"middle\" x=\"196.5\" y=\"-1004.3\">output:</text>\n",
       "<polyline fill=\"none\" points=\"224,-996.5 224,-1042.5 \" stroke=\"#000000\"/>\n",
       "<text fill=\"#000000\" font-family=\"Times,serif\" font-size=\"14.00\" text-anchor=\"middle\" x=\"286.5\" y=\"-1027.3\">(None, 200, 200, 3)</text>\n",
       "<polyline fill=\"none\" points=\"224,-1019.5 349,-1019.5 \" stroke=\"#000000\"/>\n",
       "<text fill=\"#000000\" font-family=\"Times,serif\" font-size=\"14.00\" text-anchor=\"middle\" x=\"286.5\" y=\"-1004.3\">(None, 200, 200, 3)</text>\n",
       "</g>\n",
       "<!-- 140109789441680 -->\n",
       "<g class=\"node\" id=\"node2\">\n",
       "<title>140109789441680</title>\n",
       "<polygon fill=\"none\" points=\"42,-913.5 42,-959.5 351,-959.5 351,-913.5 42,-913.5\" stroke=\"#000000\"/>\n",
       "<text fill=\"#000000\" font-family=\"Times,serif\" font-size=\"14.00\" text-anchor=\"middle\" x=\"103.5\" y=\"-932.8\">conv2d_1: Conv2D</text>\n",
       "<polyline fill=\"none\" points=\"165,-913.5 165,-959.5 \" stroke=\"#000000\"/>\n",
       "<text fill=\"#000000\" font-family=\"Times,serif\" font-size=\"14.00\" text-anchor=\"middle\" x=\"192.5\" y=\"-944.3\">input:</text>\n",
       "<polyline fill=\"none\" points=\"165,-936.5 220,-936.5 \" stroke=\"#000000\"/>\n",
       "<text fill=\"#000000\" font-family=\"Times,serif\" font-size=\"14.00\" text-anchor=\"middle\" x=\"192.5\" y=\"-921.3\">output:</text>\n",
       "<polyline fill=\"none\" points=\"220,-913.5 220,-959.5 \" stroke=\"#000000\"/>\n",
       "<text fill=\"#000000\" font-family=\"Times,serif\" font-size=\"14.00\" text-anchor=\"middle\" x=\"285.5\" y=\"-944.3\">(None, 200, 200, 3)</text>\n",
       "<polyline fill=\"none\" points=\"220,-936.5 351,-936.5 \" stroke=\"#000000\"/>\n",
       "<text fill=\"#000000\" font-family=\"Times,serif\" font-size=\"14.00\" text-anchor=\"middle\" x=\"285.5\" y=\"-921.3\">(None, 200, 200, 32)</text>\n",
       "</g>\n",
       "<!-- 140109789342928&#45;&gt;140109789441680 -->\n",
       "<g class=\"edge\" id=\"edge1\">\n",
       "<title>140109789342928-&gt;140109789441680</title>\n",
       "<path d=\"M196.5,-996.3799C196.5,-988.1745 196.5,-978.7679 196.5,-969.8786\" fill=\"none\" stroke=\"#000000\"/>\n",
       "<polygon fill=\"#000000\" points=\"200.0001,-969.784 196.5,-959.784 193.0001,-969.784 200.0001,-969.784\" stroke=\"#000000\"/>\n",
       "</g>\n",
       "<!-- 140109802026000 -->\n",
       "<g class=\"node\" id=\"node3\">\n",
       "<title>140109802026000</title>\n",
       "<polygon fill=\"none\" points=\"42,-830.5 42,-876.5 351,-876.5 351,-830.5 42,-830.5\" stroke=\"#000000\"/>\n",
       "<text fill=\"#000000\" font-family=\"Times,serif\" font-size=\"14.00\" text-anchor=\"middle\" x=\"103.5\" y=\"-849.8\">conv2d_2: Conv2D</text>\n",
       "<polyline fill=\"none\" points=\"165,-830.5 165,-876.5 \" stroke=\"#000000\"/>\n",
       "<text fill=\"#000000\" font-family=\"Times,serif\" font-size=\"14.00\" text-anchor=\"middle\" x=\"192.5\" y=\"-861.3\">input:</text>\n",
       "<polyline fill=\"none\" points=\"165,-853.5 220,-853.5 \" stroke=\"#000000\"/>\n",
       "<text fill=\"#000000\" font-family=\"Times,serif\" font-size=\"14.00\" text-anchor=\"middle\" x=\"192.5\" y=\"-838.3\">output:</text>\n",
       "<polyline fill=\"none\" points=\"220,-830.5 220,-876.5 \" stroke=\"#000000\"/>\n",
       "<text fill=\"#000000\" font-family=\"Times,serif\" font-size=\"14.00\" text-anchor=\"middle\" x=\"285.5\" y=\"-861.3\">(None, 200, 200, 32)</text>\n",
       "<polyline fill=\"none\" points=\"220,-853.5 351,-853.5 \" stroke=\"#000000\"/>\n",
       "<text fill=\"#000000\" font-family=\"Times,serif\" font-size=\"14.00\" text-anchor=\"middle\" x=\"285.5\" y=\"-838.3\">(None, 200, 200, 32)</text>\n",
       "</g>\n",
       "<!-- 140109789441680&#45;&gt;140109802026000 -->\n",
       "<g class=\"edge\" id=\"edge2\">\n",
       "<title>140109789441680-&gt;140109802026000</title>\n",
       "<path d=\"M196.5,-913.3799C196.5,-905.1745 196.5,-895.7679 196.5,-886.8786\" fill=\"none\" stroke=\"#000000\"/>\n",
       "<polygon fill=\"#000000\" points=\"200.0001,-886.784 196.5,-876.784 193.0001,-886.784 200.0001,-886.784\" stroke=\"#000000\"/>\n",
       "</g>\n",
       "<!-- 140109789022544 -->\n",
       "<g class=\"node\" id=\"node4\">\n",
       "<title>140109789022544</title>\n",
       "<polygon fill=\"none\" points=\"0,-747.5 0,-793.5 393,-793.5 393,-747.5 0,-747.5\" stroke=\"#000000\"/>\n",
       "<text fill=\"#000000\" font-family=\"Times,serif\" font-size=\"14.00\" text-anchor=\"middle\" x=\"103.5\" y=\"-766.8\">max_pooling2d_1: MaxPooling2D</text>\n",
       "<polyline fill=\"none\" points=\"207,-747.5 207,-793.5 \" stroke=\"#000000\"/>\n",
       "<text fill=\"#000000\" font-family=\"Times,serif\" font-size=\"14.00\" text-anchor=\"middle\" x=\"234.5\" y=\"-778.3\">input:</text>\n",
       "<polyline fill=\"none\" points=\"207,-770.5 262,-770.5 \" stroke=\"#000000\"/>\n",
       "<text fill=\"#000000\" font-family=\"Times,serif\" font-size=\"14.00\" text-anchor=\"middle\" x=\"234.5\" y=\"-755.3\">output:</text>\n",
       "<polyline fill=\"none\" points=\"262,-747.5 262,-793.5 \" stroke=\"#000000\"/>\n",
       "<text fill=\"#000000\" font-family=\"Times,serif\" font-size=\"14.00\" text-anchor=\"middle\" x=\"327.5\" y=\"-778.3\">(None, 200, 200, 32)</text>\n",
       "<polyline fill=\"none\" points=\"262,-770.5 393,-770.5 \" stroke=\"#000000\"/>\n",
       "<text fill=\"#000000\" font-family=\"Times,serif\" font-size=\"14.00\" text-anchor=\"middle\" x=\"327.5\" y=\"-755.3\">(None, 100, 100, 32)</text>\n",
       "</g>\n",
       "<!-- 140109802026000&#45;&gt;140109789022544 -->\n",
       "<g class=\"edge\" id=\"edge3\">\n",
       "<title>140109802026000-&gt;140109789022544</title>\n",
       "<path d=\"M196.5,-830.3799C196.5,-822.1745 196.5,-812.7679 196.5,-803.8786\" fill=\"none\" stroke=\"#000000\"/>\n",
       "<polygon fill=\"#000000\" points=\"200.0001,-803.784 196.5,-793.784 193.0001,-803.784 200.0001,-803.784\" stroke=\"#000000\"/>\n",
       "</g>\n",
       "<!-- 140109788497168 -->\n",
       "<g class=\"node\" id=\"node5\">\n",
       "<title>140109788497168</title>\n",
       "<polygon fill=\"none\" points=\"42,-664.5 42,-710.5 351,-710.5 351,-664.5 42,-664.5\" stroke=\"#000000\"/>\n",
       "<text fill=\"#000000\" font-family=\"Times,serif\" font-size=\"14.00\" text-anchor=\"middle\" x=\"103.5\" y=\"-683.8\">conv2d_3: Conv2D</text>\n",
       "<polyline fill=\"none\" points=\"165,-664.5 165,-710.5 \" stroke=\"#000000\"/>\n",
       "<text fill=\"#000000\" font-family=\"Times,serif\" font-size=\"14.00\" text-anchor=\"middle\" x=\"192.5\" y=\"-695.3\">input:</text>\n",
       "<polyline fill=\"none\" points=\"165,-687.5 220,-687.5 \" stroke=\"#000000\"/>\n",
       "<text fill=\"#000000\" font-family=\"Times,serif\" font-size=\"14.00\" text-anchor=\"middle\" x=\"192.5\" y=\"-672.3\">output:</text>\n",
       "<polyline fill=\"none\" points=\"220,-664.5 220,-710.5 \" stroke=\"#000000\"/>\n",
       "<text fill=\"#000000\" font-family=\"Times,serif\" font-size=\"14.00\" text-anchor=\"middle\" x=\"285.5\" y=\"-695.3\">(None, 100, 100, 32)</text>\n",
       "<polyline fill=\"none\" points=\"220,-687.5 351,-687.5 \" stroke=\"#000000\"/>\n",
       "<text fill=\"#000000\" font-family=\"Times,serif\" font-size=\"14.00\" text-anchor=\"middle\" x=\"285.5\" y=\"-672.3\">(None, 100, 100, 32)</text>\n",
       "</g>\n",
       "<!-- 140109789022544&#45;&gt;140109788497168 -->\n",
       "<g class=\"edge\" id=\"edge4\">\n",
       "<title>140109789022544-&gt;140109788497168</title>\n",
       "<path d=\"M196.5,-747.3799C196.5,-739.1745 196.5,-729.7679 196.5,-720.8786\" fill=\"none\" stroke=\"#000000\"/>\n",
       "<polygon fill=\"#000000\" points=\"200.0001,-720.784 196.5,-710.784 193.0001,-720.784 200.0001,-720.784\" stroke=\"#000000\"/>\n",
       "</g>\n",
       "<!-- 140109788571216 -->\n",
       "<g class=\"node\" id=\"node6\">\n",
       "<title>140109788571216</title>\n",
       "<polygon fill=\"none\" points=\"42,-581.5 42,-627.5 351,-627.5 351,-581.5 42,-581.5\" stroke=\"#000000\"/>\n",
       "<text fill=\"#000000\" font-family=\"Times,serif\" font-size=\"14.00\" text-anchor=\"middle\" x=\"103.5\" y=\"-600.8\">conv2d_4: Conv2D</text>\n",
       "<polyline fill=\"none\" points=\"165,-581.5 165,-627.5 \" stroke=\"#000000\"/>\n",
       "<text fill=\"#000000\" font-family=\"Times,serif\" font-size=\"14.00\" text-anchor=\"middle\" x=\"192.5\" y=\"-612.3\">input:</text>\n",
       "<polyline fill=\"none\" points=\"165,-604.5 220,-604.5 \" stroke=\"#000000\"/>\n",
       "<text fill=\"#000000\" font-family=\"Times,serif\" font-size=\"14.00\" text-anchor=\"middle\" x=\"192.5\" y=\"-589.3\">output:</text>\n",
       "<polyline fill=\"none\" points=\"220,-581.5 220,-627.5 \" stroke=\"#000000\"/>\n",
       "<text fill=\"#000000\" font-family=\"Times,serif\" font-size=\"14.00\" text-anchor=\"middle\" x=\"285.5\" y=\"-612.3\">(None, 100, 100, 32)</text>\n",
       "<polyline fill=\"none\" points=\"220,-604.5 351,-604.5 \" stroke=\"#000000\"/>\n",
       "<text fill=\"#000000\" font-family=\"Times,serif\" font-size=\"14.00\" text-anchor=\"middle\" x=\"285.5\" y=\"-589.3\">(None, 100, 100, 32)</text>\n",
       "</g>\n",
       "<!-- 140109788497168&#45;&gt;140109788571216 -->\n",
       "<g class=\"edge\" id=\"edge5\">\n",
       "<title>140109788497168-&gt;140109788571216</title>\n",
       "<path d=\"M196.5,-664.3799C196.5,-656.1745 196.5,-646.7679 196.5,-637.8786\" fill=\"none\" stroke=\"#000000\"/>\n",
       "<polygon fill=\"#000000\" points=\"200.0001,-637.784 196.5,-627.784 193.0001,-637.784 200.0001,-637.784\" stroke=\"#000000\"/>\n",
       "</g>\n",
       "<!-- 140109788237648 -->\n",
       "<g class=\"node\" id=\"node7\">\n",
       "<title>140109788237648</title>\n",
       "<polygon fill=\"none\" points=\"42,-498.5 42,-544.5 351,-544.5 351,-498.5 42,-498.5\" stroke=\"#000000\"/>\n",
       "<text fill=\"#000000\" font-family=\"Times,serif\" font-size=\"14.00\" text-anchor=\"middle\" x=\"103.5\" y=\"-517.8\">conv2d_5: Conv2D</text>\n",
       "<polyline fill=\"none\" points=\"165,-498.5 165,-544.5 \" stroke=\"#000000\"/>\n",
       "<text fill=\"#000000\" font-family=\"Times,serif\" font-size=\"14.00\" text-anchor=\"middle\" x=\"192.5\" y=\"-529.3\">input:</text>\n",
       "<polyline fill=\"none\" points=\"165,-521.5 220,-521.5 \" stroke=\"#000000\"/>\n",
       "<text fill=\"#000000\" font-family=\"Times,serif\" font-size=\"14.00\" text-anchor=\"middle\" x=\"192.5\" y=\"-506.3\">output:</text>\n",
       "<polyline fill=\"none\" points=\"220,-498.5 220,-544.5 \" stroke=\"#000000\"/>\n",
       "<text fill=\"#000000\" font-family=\"Times,serif\" font-size=\"14.00\" text-anchor=\"middle\" x=\"285.5\" y=\"-529.3\">(None, 100, 100, 32)</text>\n",
       "<polyline fill=\"none\" points=\"220,-521.5 351,-521.5 \" stroke=\"#000000\"/>\n",
       "<text fill=\"#000000\" font-family=\"Times,serif\" font-size=\"14.00\" text-anchor=\"middle\" x=\"285.5\" y=\"-506.3\">(None, 98, 98, 32)</text>\n",
       "</g>\n",
       "<!-- 140109788571216&#45;&gt;140109788237648 -->\n",
       "<g class=\"edge\" id=\"edge6\">\n",
       "<title>140109788571216-&gt;140109788237648</title>\n",
       "<path d=\"M196.5,-581.3799C196.5,-573.1745 196.5,-563.7679 196.5,-554.8786\" fill=\"none\" stroke=\"#000000\"/>\n",
       "<polygon fill=\"#000000\" points=\"200.0001,-554.784 196.5,-544.784 193.0001,-554.784 200.0001,-554.784\" stroke=\"#000000\"/>\n",
       "</g>\n",
       "<!-- 140109787877584 -->\n",
       "<g class=\"node\" id=\"node8\">\n",
       "<title>140109787877584</title>\n",
       "<polygon fill=\"none\" points=\"6.5,-415.5 6.5,-461.5 386.5,-461.5 386.5,-415.5 6.5,-415.5\" stroke=\"#000000\"/>\n",
       "<text fill=\"#000000\" font-family=\"Times,serif\" font-size=\"14.00\" text-anchor=\"middle\" x=\"110\" y=\"-434.8\">max_pooling2d_2: MaxPooling2D</text>\n",
       "<polyline fill=\"none\" points=\"213.5,-415.5 213.5,-461.5 \" stroke=\"#000000\"/>\n",
       "<text fill=\"#000000\" font-family=\"Times,serif\" font-size=\"14.00\" text-anchor=\"middle\" x=\"241\" y=\"-446.3\">input:</text>\n",
       "<polyline fill=\"none\" points=\"213.5,-438.5 268.5,-438.5 \" stroke=\"#000000\"/>\n",
       "<text fill=\"#000000\" font-family=\"Times,serif\" font-size=\"14.00\" text-anchor=\"middle\" x=\"241\" y=\"-423.3\">output:</text>\n",
       "<polyline fill=\"none\" points=\"268.5,-415.5 268.5,-461.5 \" stroke=\"#000000\"/>\n",
       "<text fill=\"#000000\" font-family=\"Times,serif\" font-size=\"14.00\" text-anchor=\"middle\" x=\"327.5\" y=\"-446.3\">(None, 98, 98, 32)</text>\n",
       "<polyline fill=\"none\" points=\"268.5,-438.5 386.5,-438.5 \" stroke=\"#000000\"/>\n",
       "<text fill=\"#000000\" font-family=\"Times,serif\" font-size=\"14.00\" text-anchor=\"middle\" x=\"327.5\" y=\"-423.3\">(None, 49, 49, 32)</text>\n",
       "</g>\n",
       "<!-- 140109788237648&#45;&gt;140109787877584 -->\n",
       "<g class=\"edge\" id=\"edge7\">\n",
       "<title>140109788237648-&gt;140109787877584</title>\n",
       "<path d=\"M196.5,-498.3799C196.5,-490.1745 196.5,-480.7679 196.5,-471.8786\" fill=\"none\" stroke=\"#000000\"/>\n",
       "<polygon fill=\"#000000\" points=\"200.0001,-471.784 196.5,-461.784 193.0001,-471.784 200.0001,-471.784\" stroke=\"#000000\"/>\n",
       "</g>\n",
       "<!-- 140109787733712 -->\n",
       "<g class=\"node\" id=\"node9\">\n",
       "<title>140109787733712</title>\n",
       "<polygon fill=\"none\" points=\"48.5,-332.5 48.5,-378.5 344.5,-378.5 344.5,-332.5 48.5,-332.5\" stroke=\"#000000\"/>\n",
       "<text fill=\"#000000\" font-family=\"Times,serif\" font-size=\"14.00\" text-anchor=\"middle\" x=\"110\" y=\"-351.8\">conv2d_6: Conv2D</text>\n",
       "<polyline fill=\"none\" points=\"171.5,-332.5 171.5,-378.5 \" stroke=\"#000000\"/>\n",
       "<text fill=\"#000000\" font-family=\"Times,serif\" font-size=\"14.00\" text-anchor=\"middle\" x=\"199\" y=\"-363.3\">input:</text>\n",
       "<polyline fill=\"none\" points=\"171.5,-355.5 226.5,-355.5 \" stroke=\"#000000\"/>\n",
       "<text fill=\"#000000\" font-family=\"Times,serif\" font-size=\"14.00\" text-anchor=\"middle\" x=\"199\" y=\"-340.3\">output:</text>\n",
       "<polyline fill=\"none\" points=\"226.5,-332.5 226.5,-378.5 \" stroke=\"#000000\"/>\n",
       "<text fill=\"#000000\" font-family=\"Times,serif\" font-size=\"14.00\" text-anchor=\"middle\" x=\"285.5\" y=\"-363.3\">(None, 49, 49, 32)</text>\n",
       "<polyline fill=\"none\" points=\"226.5,-355.5 344.5,-355.5 \" stroke=\"#000000\"/>\n",
       "<text fill=\"#000000\" font-family=\"Times,serif\" font-size=\"14.00\" text-anchor=\"middle\" x=\"285.5\" y=\"-340.3\">(None, 47, 47, 16)</text>\n",
       "</g>\n",
       "<!-- 140109787877584&#45;&gt;140109787733712 -->\n",
       "<g class=\"edge\" id=\"edge8\">\n",
       "<title>140109787877584-&gt;140109787733712</title>\n",
       "<path d=\"M196.5,-415.3799C196.5,-407.1745 196.5,-397.7679 196.5,-388.8786\" fill=\"none\" stroke=\"#000000\"/>\n",
       "<polygon fill=\"#000000\" points=\"200.0001,-388.784 196.5,-378.784 193.0001,-388.784 200.0001,-388.784\" stroke=\"#000000\"/>\n",
       "</g>\n",
       "<!-- 140109787733136 -->\n",
       "<g class=\"node\" id=\"node10\">\n",
       "<title>140109787733136</title>\n",
       "<polygon fill=\"none\" points=\"55,-249.5 55,-295.5 338,-295.5 338,-249.5 55,-249.5\" stroke=\"#000000\"/>\n",
       "<text fill=\"#000000\" font-family=\"Times,serif\" font-size=\"14.00\" text-anchor=\"middle\" x=\"110\" y=\"-268.8\">flatten_1: Flatten</text>\n",
       "<polyline fill=\"none\" points=\"165,-249.5 165,-295.5 \" stroke=\"#000000\"/>\n",
       "<text fill=\"#000000\" font-family=\"Times,serif\" font-size=\"14.00\" text-anchor=\"middle\" x=\"192.5\" y=\"-280.3\">input:</text>\n",
       "<polyline fill=\"none\" points=\"165,-272.5 220,-272.5 \" stroke=\"#000000\"/>\n",
       "<text fill=\"#000000\" font-family=\"Times,serif\" font-size=\"14.00\" text-anchor=\"middle\" x=\"192.5\" y=\"-257.3\">output:</text>\n",
       "<polyline fill=\"none\" points=\"220,-249.5 220,-295.5 \" stroke=\"#000000\"/>\n",
       "<text fill=\"#000000\" font-family=\"Times,serif\" font-size=\"14.00\" text-anchor=\"middle\" x=\"279\" y=\"-280.3\">(None, 47, 47, 16)</text>\n",
       "<polyline fill=\"none\" points=\"220,-272.5 338,-272.5 \" stroke=\"#000000\"/>\n",
       "<text fill=\"#000000\" font-family=\"Times,serif\" font-size=\"14.00\" text-anchor=\"middle\" x=\"279\" y=\"-257.3\">(None, 35344)</text>\n",
       "</g>\n",
       "<!-- 140109787733712&#45;&gt;140109787733136 -->\n",
       "<g class=\"edge\" id=\"edge9\">\n",
       "<title>140109787733712-&gt;140109787733136</title>\n",
       "<path d=\"M196.5,-332.3799C196.5,-324.1745 196.5,-314.7679 196.5,-305.8786\" fill=\"none\" stroke=\"#000000\"/>\n",
       "<polygon fill=\"#000000\" points=\"200.0001,-305.784 196.5,-295.784 193.0001,-305.784 200.0001,-305.784\" stroke=\"#000000\"/>\n",
       "</g>\n",
       "<!-- 140109788074128 -->\n",
       "<g class=\"node\" id=\"node11\">\n",
       "<title>140109788074128</title>\n",
       "<polygon fill=\"none\" points=\"70,-166.5 70,-212.5 323,-212.5 323,-166.5 70,-166.5\" stroke=\"#000000\"/>\n",
       "<text fill=\"#000000\" font-family=\"Times,serif\" font-size=\"14.00\" text-anchor=\"middle\" x=\"121\" y=\"-185.8\">dense_1: Dense</text>\n",
       "<polyline fill=\"none\" points=\"172,-166.5 172,-212.5 \" stroke=\"#000000\"/>\n",
       "<text fill=\"#000000\" font-family=\"Times,serif\" font-size=\"14.00\" text-anchor=\"middle\" x=\"199.5\" y=\"-197.3\">input:</text>\n",
       "<polyline fill=\"none\" points=\"172,-189.5 227,-189.5 \" stroke=\"#000000\"/>\n",
       "<text fill=\"#000000\" font-family=\"Times,serif\" font-size=\"14.00\" text-anchor=\"middle\" x=\"199.5\" y=\"-174.3\">output:</text>\n",
       "<polyline fill=\"none\" points=\"227,-166.5 227,-212.5 \" stroke=\"#000000\"/>\n",
       "<text fill=\"#000000\" font-family=\"Times,serif\" font-size=\"14.00\" text-anchor=\"middle\" x=\"275\" y=\"-197.3\">(None, 35344)</text>\n",
       "<polyline fill=\"none\" points=\"227,-189.5 323,-189.5 \" stroke=\"#000000\"/>\n",
       "<text fill=\"#000000\" font-family=\"Times,serif\" font-size=\"14.00\" text-anchor=\"middle\" x=\"275\" y=\"-174.3\">(None, 64)</text>\n",
       "</g>\n",
       "<!-- 140109787733136&#45;&gt;140109788074128 -->\n",
       "<g class=\"edge\" id=\"edge10\">\n",
       "<title>140109787733136-&gt;140109788074128</title>\n",
       "<path d=\"M196.5,-249.3799C196.5,-241.1745 196.5,-231.7679 196.5,-222.8786\" fill=\"none\" stroke=\"#000000\"/>\n",
       "<polygon fill=\"#000000\" points=\"200.0001,-222.784 196.5,-212.784 193.0001,-222.784 200.0001,-222.784\" stroke=\"#000000\"/>\n",
       "</g>\n",
       "<!-- 140109787534608 -->\n",
       "<g class=\"node\" id=\"node12\">\n",
       "<title>140109787534608</title>\n",
       "<polygon fill=\"none\" points=\"80,-83.5 80,-129.5 313,-129.5 313,-83.5 80,-83.5\" stroke=\"#000000\"/>\n",
       "<text fill=\"#000000\" font-family=\"Times,serif\" font-size=\"14.00\" text-anchor=\"middle\" x=\"131\" y=\"-102.8\">dense_2: Dense</text>\n",
       "<polyline fill=\"none\" points=\"182,-83.5 182,-129.5 \" stroke=\"#000000\"/>\n",
       "<text fill=\"#000000\" font-family=\"Times,serif\" font-size=\"14.00\" text-anchor=\"middle\" x=\"209.5\" y=\"-114.3\">input:</text>\n",
       "<polyline fill=\"none\" points=\"182,-106.5 237,-106.5 \" stroke=\"#000000\"/>\n",
       "<text fill=\"#000000\" font-family=\"Times,serif\" font-size=\"14.00\" text-anchor=\"middle\" x=\"209.5\" y=\"-91.3\">output:</text>\n",
       "<polyline fill=\"none\" points=\"237,-83.5 237,-129.5 \" stroke=\"#000000\"/>\n",
       "<text fill=\"#000000\" font-family=\"Times,serif\" font-size=\"14.00\" text-anchor=\"middle\" x=\"275\" y=\"-114.3\">(None, 64)</text>\n",
       "<polyline fill=\"none\" points=\"237,-106.5 313,-106.5 \" stroke=\"#000000\"/>\n",
       "<text fill=\"#000000\" font-family=\"Times,serif\" font-size=\"14.00\" text-anchor=\"middle\" x=\"275\" y=\"-91.3\">(None, 32)</text>\n",
       "</g>\n",
       "<!-- 140109788074128&#45;&gt;140109787534608 -->\n",
       "<g class=\"edge\" id=\"edge11\">\n",
       "<title>140109788074128-&gt;140109787534608</title>\n",
       "<path d=\"M196.5,-166.3799C196.5,-158.1745 196.5,-148.7679 196.5,-139.8786\" fill=\"none\" stroke=\"#000000\"/>\n",
       "<polygon fill=\"#000000\" points=\"200.0001,-139.784 196.5,-129.784 193.0001,-139.784 200.0001,-139.784\" stroke=\"#000000\"/>\n",
       "</g>\n",
       "<!-- 140109787133904 -->\n",
       "<g class=\"node\" id=\"node13\">\n",
       "<title>140109787133904</title>\n",
       "<polygon fill=\"none\" points=\"80,-.5 80,-46.5 313,-46.5 313,-.5 80,-.5\" stroke=\"#000000\"/>\n",
       "<text fill=\"#000000\" font-family=\"Times,serif\" font-size=\"14.00\" text-anchor=\"middle\" x=\"131\" y=\"-19.8\">dense_3: Dense</text>\n",
       "<polyline fill=\"none\" points=\"182,-.5 182,-46.5 \" stroke=\"#000000\"/>\n",
       "<text fill=\"#000000\" font-family=\"Times,serif\" font-size=\"14.00\" text-anchor=\"middle\" x=\"209.5\" y=\"-31.3\">input:</text>\n",
       "<polyline fill=\"none\" points=\"182,-23.5 237,-23.5 \" stroke=\"#000000\"/>\n",
       "<text fill=\"#000000\" font-family=\"Times,serif\" font-size=\"14.00\" text-anchor=\"middle\" x=\"209.5\" y=\"-8.3\">output:</text>\n",
       "<polyline fill=\"none\" points=\"237,-.5 237,-46.5 \" stroke=\"#000000\"/>\n",
       "<text fill=\"#000000\" font-family=\"Times,serif\" font-size=\"14.00\" text-anchor=\"middle\" x=\"275\" y=\"-31.3\">(None, 32)</text>\n",
       "<polyline fill=\"none\" points=\"237,-23.5 313,-23.5 \" stroke=\"#000000\"/>\n",
       "<text fill=\"#000000\" font-family=\"Times,serif\" font-size=\"14.00\" text-anchor=\"middle\" x=\"275\" y=\"-8.3\">(None, 10)</text>\n",
       "</g>\n",
       "<!-- 140109787534608&#45;&gt;140109787133904 -->\n",
       "<g class=\"edge\" id=\"edge12\">\n",
       "<title>140109787534608-&gt;140109787133904</title>\n",
       "<path d=\"M196.5,-83.3799C196.5,-75.1745 196.5,-65.7679 196.5,-56.8786\" fill=\"none\" stroke=\"#000000\"/>\n",
       "<polygon fill=\"#000000\" points=\"200.0001,-56.784 196.5,-46.784 193.0001,-56.784 200.0001,-56.784\" stroke=\"#000000\"/>\n",
       "</g>\n",
       "</g>\n",
       "</svg>"
      ],
      "text/plain": [
       "<IPython.core.display.SVG object>"
      ]
     },
     "execution_count": 31,
     "metadata": {},
     "output_type": "execute_result"
    }
   ],
   "source": [
    "from IPython.display import SVG\n",
    "from keras.utils.vis_utils import model_to_dot\n",
    "\n",
    "SVG(model_to_dot(model(), show_shapes=True).create(prog='dot', format='svg'))"
   ]
  },
  {
   "cell_type": "code",
   "execution_count": 32,
   "metadata": {},
   "outputs": [],
   "source": [
    "# SVG(model_to_dot(model.get_layer('model_1'), show_shapes=True).create(prog='dot', format='svg'))"
   ]
  },
  {
   "cell_type": "code",
   "execution_count": null,
   "metadata": {},
   "outputs": [],
   "source": []
  }
 ],
 "metadata": {
  "_draft": {
   "nbviewer_url": "https://gist.github.com/06ecd7830e31f92de2460b48d905ac44"
  },
  "gist": {
   "data": {
    "description": "interaction_results.ipynb",
    "public": false
   },
   "id": "06ecd7830e31f92de2460b48d905ac44"
  },
  "kernelspec": {
   "display_name": "Python 2",
   "language": "python",
   "name": "python2"
  },
  "language_info": {
   "codemirror_mode": {
    "name": "ipython",
    "version": 2
   },
   "file_extension": ".py",
   "mimetype": "text/x-python",
   "name": "python",
   "nbconvert_exporter": "python",
   "pygments_lexer": "ipython2",
   "version": "2.7.14"
  },
  "toc": {
   "nav_menu": {
    "height": "175px",
    "width": "161px"
   },
   "number_sections": true,
   "sideBar": false,
   "skip_h1_title": false,
   "toc_cell": false,
   "toc_position": {},
   "toc_section_display": "block",
   "toc_window_display": false
  }
 },
 "nbformat": 4,
 "nbformat_minor": 2
}
