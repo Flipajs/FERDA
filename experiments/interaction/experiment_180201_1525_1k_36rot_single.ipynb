{
 "cells": [
  {
   "cell_type": "code",
   "execution_count": 1,
   "metadata": {},
   "outputs": [
    {
     "name": "stdout",
     "output_type": "stream",
     "text": [
      "/home/matej/prace/ferda/ferda_github\n"
     ]
    }
   ],
   "source": [
    "# change wokring directory to the root of the project (where jupyter was started)\n",
    "import os\n",
    "import psutil\n",
    "%cd {psutil.Process(os.getpid()).parent().cwd()}"
   ]
  },
  {
   "cell_type": "code",
   "execution_count": 2,
   "metadata": {},
   "outputs": [
    {
     "name": "stdout",
     "output_type": "stream",
     "text": [
      "9b077ff37a7f3ca35cf63511f7bde4b5e7c7f334\r\n"
     ]
    }
   ],
   "source": [
    "!git rev-parse HEAD"
   ]
  },
  {
   "cell_type": "code",
   "execution_count": 3,
   "metadata": {},
   "outputs": [],
   "source": [
    "# !git checkout 9b077ff37a7f3ca35cf63511f7bde4b5e7c7f334"
   ]
  },
  {
   "cell_type": "code",
   "execution_count": 4,
   "metadata": {},
   "outputs": [
    {
     "name": "stderr",
     "output_type": "stream",
     "text": [
      "Using TensorFlow backend.\n"
     ]
    }
   ],
   "source": [
    "%matplotlib inline\n",
    "import matplotlib.pyplot as plt\n",
    "import h5py\n",
    "from imageio import imread\n",
    "import numpy as np\n",
    "import os\n",
    "from os.path import join\n",
    "import scripts.CNN.train_interactions as train_interactions\n",
    "import pandas as pd\n",
    "import warnings\n",
    "import yaml\n",
    "pd.set_option('precision', 2)\n",
    "import seaborn as sns\n",
    "sns.set()"
   ]
  },
  {
   "cell_type": "code",
   "execution_count": 5,
   "metadata": {},
   "outputs": [],
   "source": [
    "DATA_DIR = '/home/matej/prace/ferda/data/interactions/1801_1k_36rot_single/'\n",
    "EXPERIMENT_DIR = '/home/matej/prace/ferda/experiments/180201_1525_1k_36rot_single'\n",
    "SUB_EXPERIMENT = ''"
   ]
  },
  {
   "cell_type": "code",
   "execution_count": 6,
   "metadata": {},
   "outputs": [],
   "source": [
    "pred = pd.read_csv(join(EXPERIMENT_DIR, str(SUB_EXPERIMENT), 'predictions.csv'))\n",
    "with open(join(EXPERIMENT_DIR, str(SUB_EXPERIMENT), 'predictions.yaml'), 'r') as fr:\n",
    "    metadata = yaml.load(fr)\n",
    "ti = train_interactions.TrainInteractions(metadata['num_objects'])"
   ]
  },
  {
   "cell_type": "code",
   "execution_count": 7,
   "metadata": {},
   "outputs": [],
   "source": [
    "y_test = pd.read_csv(join(DATA_DIR, 'test.csv'))  \n",
    "for i in range(ti.num_objects):\n",
    "    y_test['%d_angle_deg' % i] *= -1"
   ]
  },
  {
   "cell_type": "code",
   "execution_count": 8,
   "metadata": {},
   "outputs": [],
   "source": [
    "# loss_alpha_batch = pd.read_csv(join(EXPERIMENT_DIR, 'results.csv'))    \n",
    "# loss_alpha_batch[loss_alpha_batch['loss_alpha'].round(4) == round(SUB_EXPERIMENT, 4)]"
   ]
  },
  {
   "cell_type": "code",
   "execution_count": 9,
   "metadata": {},
   "outputs": [],
   "source": [
    "# loss_alpha_batch.loc[loss_alpha_batch.index[-1], 'xy MAE'] = np.nan\n",
    "# xy = loss_alpha_batch['xy MAE']\n",
    "# loss_alpha_batch['xy MAE norm'] = (xy - xy.mean()) / xy.std()\n",
    "# #loss_alpha_batch['angle MAE'].iloc[0] = np.nan\n",
    "# angle = loss_alpha_batch['angle MAE']\n",
    "# loss_alpha_batch['angle MAE norm'] = (angle - angle.mean()) / angle.std()\n",
    "# loss_alpha_batch['sum norm'] = loss_alpha_batch['angle MAE norm'] + loss_alpha_batch['xy MAE norm']\n",
    "# loss_alpha_batch['alpha sum norm'] = loss_alpha_batch['angle MAE norm'] * (1 - loss_alpha_batch['loss_alpha']) + \\\n",
    "#                                      loss_alpha_batch['xy MAE norm'] * loss_alpha_batch['loss_alpha']"
   ]
  },
  {
   "cell_type": "code",
   "execution_count": 10,
   "metadata": {
    "cell_style": "center",
    "scrolled": true
   },
   "outputs": [],
   "source": [
    "# ax = loss_alpha_batch.plot('loss_alpha', ['xy MAE', 'angle MAE'], title='mean absolute errors')\n",
    "# ax.set_ylabel('deg, px')\n",
    "# ax.set_xlabel('alpha')\n",
    "# ax.set_ylim(0, 24)\n",
    "# ax.vlines(SUB_EXPERIMENT, ax.get_ylim()[0], ax.get_ylim()[1],\n",
    "#           'r')\n",
    "# ax.legend(['xy', 'angle', 'best alpha'])"
   ]
  },
  {
   "cell_type": "markdown",
   "metadata": {},
   "source": [
    "# Predictions"
   ]
  },
  {
   "cell_type": "code",
   "execution_count": 11,
   "metadata": {},
   "outputs": [
    {
     "data": {
      "text/html": [
       "<div>\n",
       "<style scoped>\n",
       "    .dataframe tbody tr th:only-of-type {\n",
       "        vertical-align: middle;\n",
       "    }\n",
       "\n",
       "    .dataframe tbody tr th {\n",
       "        vertical-align: top;\n",
       "    }\n",
       "\n",
       "    .dataframe thead th {\n",
       "        text-align: right;\n",
       "    }\n",
       "</style>\n",
       "<table border=\"1\" class=\"dataframe\">\n",
       "  <thead>\n",
       "    <tr style=\"text-align: right;\">\n",
       "      <th></th>\n",
       "      <th>0_x</th>\n",
       "      <th>0_y</th>\n",
       "      <th>0_major</th>\n",
       "      <th>0_minor</th>\n",
       "      <th>0_angle_deg</th>\n",
       "    </tr>\n",
       "  </thead>\n",
       "  <tbody>\n",
       "    <tr>\n",
       "      <th>count</th>\n",
       "      <td>3600.00</td>\n",
       "      <td>3600.00</td>\n",
       "      <td>3600.00</td>\n",
       "      <td>3600.00</td>\n",
       "      <td>3600.00</td>\n",
       "    </tr>\n",
       "    <tr>\n",
       "      <th>mean</th>\n",
       "      <td>99.70</td>\n",
       "      <td>100.39</td>\n",
       "      <td>-64.76</td>\n",
       "      <td>-3.96</td>\n",
       "      <td>8.13</td>\n",
       "    </tr>\n",
       "    <tr>\n",
       "      <th>std</th>\n",
       "      <td>10.89</td>\n",
       "      <td>9.95</td>\n",
       "      <td>17.37</td>\n",
       "      <td>19.01</td>\n",
       "      <td>50.12</td>\n",
       "    </tr>\n",
       "    <tr>\n",
       "      <th>min</th>\n",
       "      <td>73.45</td>\n",
       "      <td>77.05</td>\n",
       "      <td>-119.62</td>\n",
       "      <td>-61.80</td>\n",
       "      <td>-87.79</td>\n",
       "    </tr>\n",
       "    <tr>\n",
       "      <th>25%</th>\n",
       "      <td>90.20</td>\n",
       "      <td>91.91</td>\n",
       "      <td>-78.70</td>\n",
       "      <td>-15.69</td>\n",
       "      <td>-34.27</td>\n",
       "    </tr>\n",
       "    <tr>\n",
       "      <th>50%</th>\n",
       "      <td>99.63</td>\n",
       "      <td>100.74</td>\n",
       "      <td>-60.80</td>\n",
       "      <td>-4.26</td>\n",
       "      <td>8.24</td>\n",
       "    </tr>\n",
       "    <tr>\n",
       "      <th>75%</th>\n",
       "      <td>109.49</td>\n",
       "      <td>108.92</td>\n",
       "      <td>-50.76</td>\n",
       "      <td>11.51</td>\n",
       "      <td>49.22</td>\n",
       "    </tr>\n",
       "    <tr>\n",
       "      <th>max</th>\n",
       "      <td>129.65</td>\n",
       "      <td>125.57</td>\n",
       "      <td>-31.22</td>\n",
       "      <td>40.45</td>\n",
       "      <td>125.68</td>\n",
       "    </tr>\n",
       "  </tbody>\n",
       "</table>\n",
       "</div>"
      ],
      "text/plain": [
       "           0_x      0_y  0_major  0_minor  0_angle_deg\n",
       "count  3600.00  3600.00  3600.00  3600.00      3600.00\n",
       "mean     99.70   100.39   -64.76    -3.96         8.13\n",
       "std      10.89     9.95    17.37    19.01        50.12\n",
       "min      73.45    77.05  -119.62   -61.80       -87.79\n",
       "25%      90.20    91.91   -78.70   -15.69       -34.27\n",
       "50%      99.63   100.74   -60.80    -4.26         8.24\n",
       "75%     109.49   108.92   -50.76    11.51        49.22\n",
       "max     129.65   125.57   -31.22    40.45       125.68"
      ]
     },
     "execution_count": 11,
     "metadata": {},
     "output_type": "execute_result"
    }
   ],
   "source": [
    "pred.describe()"
   ]
  },
  {
   "cell_type": "code",
   "execution_count": 12,
   "metadata": {
    "cell_style": "center"
   },
   "outputs": [
    {
     "data": {
      "image/png": "[encoded data removed]",
      "text/plain": [
       "<matplotlib.figure.Figure at 0x7f8f07de1b90>"
      ]
     },
     "metadata": {},
     "output_type": "display_data"
    }
   ],
   "source": [
    "for i in range(ti.num_objects):\n",
    "    plt.figure()\n",
    "    _ = plt.hist2d(pred['%d_x' % i], pred['%d_y' % i], bins=40, range=((0, 199), (0, 199)))\n",
    "    plt.colorbar()"
   ]
  },
  {
   "cell_type": "code",
   "execution_count": 13,
   "metadata": {
    "cell_style": "split"
   },
   "outputs": [
    {
     "data": {
      "image/png": "[encoded data removed]",
      "text/plain": [
       "<matplotlib.figure.Figure at 0x7f8f426f5bd0>"
      ]
     },
     "metadata": {},
     "output_type": "display_data"
    }
   ],
   "source": [
    "for i in range(ti.num_objects):\n",
    "    plt.figure()\n",
    "    plt.title('predicted angles for object %d (deg)' % i)\n",
    "    (pred['%d_angle_deg' % i]).hist()"
   ]
  },
  {
   "cell_type": "code",
   "execution_count": 14,
   "metadata": {
    "cell_style": "split"
   },
   "outputs": [
    {
     "data": {
      "image/png": "[encoded data removed]",
      "text/plain": [
       "<matplotlib.figure.Figure at 0x7f8f07dc0d90>"
      ]
     },
     "metadata": {},
     "output_type": "display_data"
    }
   ],
   "source": [
    "for i in range(ti.num_objects):\n",
    "    plt.figure()\n",
    "    plt.title('predicted angles mod 180 for object %d (deg)' % i)\n",
    "    (pred['%d_angle_deg' % i] % 180).hist()"
   ]
  },
  {
   "cell_type": "markdown",
   "metadata": {},
   "source": [
    "# Prediction Errors"
   ]
  },
  {
   "cell_type": "code",
   "execution_count": 15,
   "metadata": {},
   "outputs": [],
   "source": [
    "xy, angle, indices = ti.match_pred_to_gt(pred[ti.columns()].values, y_test[ti.columns()].values, np)\n",
    "if ti.num_objects == 1:\n",
    "    xy_errors = xy\n",
    "    angle_errors = angle\n",
    "elif ti.num_objects == 2:\n",
    "    xy_errors = (xy[indices[:, 0], indices[:, 1]])\n",
    "    angle_errors = (angle[indices[:, 0], indices[:, 1]])\n",
    "else:\n",
    "    assert False, 'not implemented'"
   ]
  },
  {
   "cell_type": "code",
   "execution_count": 16,
   "metadata": {
    "scrolled": true
   },
   "outputs": [
    {
     "data": {
      "text/html": [
       "<div>\n",
       "<style scoped>\n",
       "    .dataframe tbody tr th:only-of-type {\n",
       "        vertical-align: middle;\n",
       "    }\n",
       "\n",
       "    .dataframe tbody tr th {\n",
       "        vertical-align: top;\n",
       "    }\n",
       "\n",
       "    .dataframe thead th {\n",
       "        text-align: right;\n",
       "    }\n",
       "</style>\n",
       "<table border=\"1\" class=\"dataframe\">\n",
       "  <thead>\n",
       "    <tr style=\"text-align: right;\">\n",
       "      <th></th>\n",
       "      <th>xy (px)</th>\n",
       "      <th>angle (deg)</th>\n",
       "    </tr>\n",
       "  </thead>\n",
       "  <tbody>\n",
       "    <tr>\n",
       "      <th>0</th>\n",
       "      <td>4.33</td>\n",
       "      <td>6.1</td>\n",
       "    </tr>\n",
       "  </tbody>\n",
       "</table>\n",
       "</div>"
      ],
      "text/plain": [
       "   xy (px)  angle (deg)\n",
       "0     4.33          6.1"
      ]
     },
     "execution_count": 16,
     "metadata": {},
     "output_type": "execute_result"
    }
   ],
   "source": [
    "df = pd.DataFrame.from_items([('xy (px)', [xy_errors.mean()]), \n",
    "                              ('angle (deg)', angle_errors.mean()),])\n",
    "df.style.set_caption('MAE')\n",
    "df"
   ]
  },
  {
   "cell_type": "code",
   "execution_count": 17,
   "metadata": {
    "cell_style": "split",
    "scrolled": true
   },
   "outputs": [
    {
     "data": {
      "text/plain": [
       "<matplotlib.text.Text at 0x7f8f02f25190>"
      ]
     },
     "execution_count": 17,
     "metadata": {},
     "output_type": "execute_result"
    },
    {
     "data": {
      "image/png": "[encoded data removed]",
      "text/plain": [
       "<matplotlib.figure.Figure at 0x7f8f02f12750>"
      ]
     },
     "metadata": {},
     "output_type": "display_data"
    }
   ],
   "source": [
    "_  = plt.hist(xy_errors, 20)\n",
    "plt.title('xy errors')\n",
    "plt.xlabel('mean absolute error (px)')\n",
    "plt.ylabel('count')"
   ]
  },
  {
   "cell_type": "code",
   "execution_count": 18,
   "metadata": {
    "cell_style": "split"
   },
   "outputs": [
    {
     "data": {
      "text/plain": [
       "<matplotlib.text.Text at 0x7f8f033272d0>"
      ]
     },
     "execution_count": 18,
     "metadata": {},
     "output_type": "execute_result"
    },
    {
     "data": {
      "image/png": "[encoded data removed]",
      "text/plain": [
       "<matplotlib.figure.Figure at 0x7f8f02e13710>"
      ]
     },
     "metadata": {},
     "output_type": "display_data"
    },
    {
     "data": {
      "image/png": "[encoded data removed]",
      "text/plain": [
       "<matplotlib.figure.Figure at 0x7f8f032426d0>"
      ]
     },
     "metadata": {},
     "output_type": "display_data"
    }
   ],
   "source": [
    "_ = plt.hist(angle_errors, 20) # , range=(0, 20))\n",
    "plt.title('angle errors')\n",
    "plt.xlabel('mean absolute error (deg)')\n",
    "plt.ylabel('count')\n",
    "\n",
    "plt.figure()\n",
    "_ = plt.hist(angle_errors, 20, range=(0, 20))\n",
    "plt.title('angle errors (lower than 20 deg)')\n",
    "plt.xlabel('mean absolute error (deg)')\n",
    "plt.ylabel('count')"
   ]
  },
  {
   "cell_type": "markdown",
   "metadata": {},
   "source": [
    "# Model"
   ]
  },
  {
   "cell_type": "code",
   "execution_count": 19,
   "metadata": {
    "scrolled": false
   },
   "outputs": [
    {
     "data": {
      "image/svg+xml": [
       "<svg height=\"1051pt\" viewBox=\"0.00 0.00 401.00 1051.00\" width=\"401pt\" xmlns=\"http://www.w3.org/2000/svg\" xmlns:xlink=\"http://www.w3.org/1999/xlink\">\n",
       "<g class=\"graph\" id=\"graph0\" transform=\"scale(1 1) rotate(0) translate(4 1047)\">\n",
       "<title>G</title>\n",
       "<polygon fill=\"#ffffff\" points=\"-4,4 -4,-1047 397,-1047 397,4 -4,4\" stroke=\"transparent\"/>\n",
       "<!-- 140252205417040 -->\n",
       "<g class=\"node\" id=\"node1\">\n",
       "<title>140252205417040</title>\n",
       "<polygon fill=\"none\" points=\"44,-996.5 44,-1042.5 349,-1042.5 349,-996.5 44,-996.5\" stroke=\"#000000\"/>\n",
       "<text fill=\"#000000\" font-family=\"Times,serif\" font-size=\"14.00\" text-anchor=\"middle\" x=\"106.5\" y=\"-1015.8\">input_1: InputLayer</text>\n",
       "<polyline fill=\"none\" points=\"169,-996.5 169,-1042.5 \" stroke=\"#000000\"/>\n",
       "<text fill=\"#000000\" font-family=\"Times,serif\" font-size=\"14.00\" text-anchor=\"middle\" x=\"196.5\" y=\"-1027.3\">input:</text>\n",
       "<polyline fill=\"none\" points=\"169,-1019.5 224,-1019.5 \" stroke=\"#000000\"/>\n",
       "<text fill=\"#000000\" font-family=\"Times,serif\" font-size=\"14.00\" text-anchor=\"middle\" x=\"196.5\" y=\"-1004.3\">output:</text>\n",
       "<polyline fill=\"none\" points=\"224,-996.5 224,-1042.5 \" stroke=\"#000000\"/>\n",
       "<text fill=\"#000000\" font-family=\"Times,serif\" font-size=\"14.00\" text-anchor=\"middle\" x=\"286.5\" y=\"-1027.3\">(None, 200, 200, 3)</text>\n",
       "<polyline fill=\"none\" points=\"224,-1019.5 349,-1019.5 \" stroke=\"#000000\"/>\n",
       "<text fill=\"#000000\" font-family=\"Times,serif\" font-size=\"14.00\" text-anchor=\"middle\" x=\"286.5\" y=\"-1004.3\">(None, 200, 200, 3)</text>\n",
       "</g>\n",
       "<!-- 140252205416784 -->\n",
       "<g class=\"node\" id=\"node2\">\n",
       "<title>140252205416784</title>\n",
       "<polygon fill=\"none\" points=\"42,-913.5 42,-959.5 351,-959.5 351,-913.5 42,-913.5\" stroke=\"#000000\"/>\n",
       "<text fill=\"#000000\" font-family=\"Times,serif\" font-size=\"14.00\" text-anchor=\"middle\" x=\"103.5\" y=\"-932.8\">conv2d_1: Conv2D</text>\n",
       "<polyline fill=\"none\" points=\"165,-913.5 165,-959.5 \" stroke=\"#000000\"/>\n",
       "<text fill=\"#000000\" font-family=\"Times,serif\" font-size=\"14.00\" text-anchor=\"middle\" x=\"192.5\" y=\"-944.3\">input:</text>\n",
       "<polyline fill=\"none\" points=\"165,-936.5 220,-936.5 \" stroke=\"#000000\"/>\n",
       "<text fill=\"#000000\" font-family=\"Times,serif\" font-size=\"14.00\" text-anchor=\"middle\" x=\"192.5\" y=\"-921.3\">output:</text>\n",
       "<polyline fill=\"none\" points=\"220,-913.5 220,-959.5 \" stroke=\"#000000\"/>\n",
       "<text fill=\"#000000\" font-family=\"Times,serif\" font-size=\"14.00\" text-anchor=\"middle\" x=\"285.5\" y=\"-944.3\">(None, 200, 200, 3)</text>\n",
       "<polyline fill=\"none\" points=\"220,-936.5 351,-936.5 \" stroke=\"#000000\"/>\n",
       "<text fill=\"#000000\" font-family=\"Times,serif\" font-size=\"14.00\" text-anchor=\"middle\" x=\"285.5\" y=\"-921.3\">(None, 200, 200, 32)</text>\n",
       "</g>\n",
       "<!-- 140252205417040&#45;&gt;140252205416784 -->\n",
       "<g class=\"edge\" id=\"edge1\">\n",
       "<title>140252205417040-&gt;140252205416784</title>\n",
       "<path d=\"M196.5,-996.3799C196.5,-988.1745 196.5,-978.7679 196.5,-969.8786\" fill=\"none\" stroke=\"#000000\"/>\n",
       "<polygon fill=\"#000000\" points=\"200.0001,-969.784 196.5,-959.784 193.0001,-969.784 200.0001,-969.784\" stroke=\"#000000\"/>\n",
       "</g>\n",
       "<!-- 140252205419536 -->\n",
       "<g class=\"node\" id=\"node3\">\n",
       "<title>140252205419536</title>\n",
       "<polygon fill=\"none\" points=\"42,-830.5 42,-876.5 351,-876.5 351,-830.5 42,-830.5\" stroke=\"#000000\"/>\n",
       "<text fill=\"#000000\" font-family=\"Times,serif\" font-size=\"14.00\" text-anchor=\"middle\" x=\"103.5\" y=\"-849.8\">conv2d_2: Conv2D</text>\n",
       "<polyline fill=\"none\" points=\"165,-830.5 165,-876.5 \" stroke=\"#000000\"/>\n",
       "<text fill=\"#000000\" font-family=\"Times,serif\" font-size=\"14.00\" text-anchor=\"middle\" x=\"192.5\" y=\"-861.3\">input:</text>\n",
       "<polyline fill=\"none\" points=\"165,-853.5 220,-853.5 \" stroke=\"#000000\"/>\n",
       "<text fill=\"#000000\" font-family=\"Times,serif\" font-size=\"14.00\" text-anchor=\"middle\" x=\"192.5\" y=\"-838.3\">output:</text>\n",
       "<polyline fill=\"none\" points=\"220,-830.5 220,-876.5 \" stroke=\"#000000\"/>\n",
       "<text fill=\"#000000\" font-family=\"Times,serif\" font-size=\"14.00\" text-anchor=\"middle\" x=\"285.5\" y=\"-861.3\">(None, 200, 200, 32)</text>\n",
       "<polyline fill=\"none\" points=\"220,-853.5 351,-853.5 \" stroke=\"#000000\"/>\n",
       "<text fill=\"#000000\" font-family=\"Times,serif\" font-size=\"14.00\" text-anchor=\"middle\" x=\"285.5\" y=\"-838.3\">(None, 200, 200, 32)</text>\n",
       "</g>\n",
       "<!-- 140252205416784&#45;&gt;140252205419536 -->\n",
       "<g class=\"edge\" id=\"edge2\">\n",
       "<title>140252205416784-&gt;140252205419536</title>\n",
       "<path d=\"M196.5,-913.3799C196.5,-905.1745 196.5,-895.7679 196.5,-886.8786\" fill=\"none\" stroke=\"#000000\"/>\n",
       "<polygon fill=\"#000000\" points=\"200.0001,-886.784 196.5,-876.784 193.0001,-886.784 200.0001,-886.784\" stroke=\"#000000\"/>\n",
       "</g>\n",
       "<!-- 140252209562384 -->\n",
       "<g class=\"node\" id=\"node4\">\n",
       "<title>140252209562384</title>\n",
       "<polygon fill=\"none\" points=\"0,-747.5 0,-793.5 393,-793.5 393,-747.5 0,-747.5\" stroke=\"#000000\"/>\n",
       "<text fill=\"#000000\" font-family=\"Times,serif\" font-size=\"14.00\" text-anchor=\"middle\" x=\"103.5\" y=\"-766.8\">max_pooling2d_1: MaxPooling2D</text>\n",
       "<polyline fill=\"none\" points=\"207,-747.5 207,-793.5 \" stroke=\"#000000\"/>\n",
       "<text fill=\"#000000\" font-family=\"Times,serif\" font-size=\"14.00\" text-anchor=\"middle\" x=\"234.5\" y=\"-778.3\">input:</text>\n",
       "<polyline fill=\"none\" points=\"207,-770.5 262,-770.5 \" stroke=\"#000000\"/>\n",
       "<text fill=\"#000000\" font-family=\"Times,serif\" font-size=\"14.00\" text-anchor=\"middle\" x=\"234.5\" y=\"-755.3\">output:</text>\n",
       "<polyline fill=\"none\" points=\"262,-747.5 262,-793.5 \" stroke=\"#000000\"/>\n",
       "<text fill=\"#000000\" font-family=\"Times,serif\" font-size=\"14.00\" text-anchor=\"middle\" x=\"327.5\" y=\"-778.3\">(None, 200, 200, 32)</text>\n",
       "<polyline fill=\"none\" points=\"262,-770.5 393,-770.5 \" stroke=\"#000000\"/>\n",
       "<text fill=\"#000000\" font-family=\"Times,serif\" font-size=\"14.00\" text-anchor=\"middle\" x=\"327.5\" y=\"-755.3\">(None, 100, 100, 32)</text>\n",
       "</g>\n",
       "<!-- 140252205419536&#45;&gt;140252209562384 -->\n",
       "<g class=\"edge\" id=\"edge3\">\n",
       "<title>140252205419536-&gt;140252209562384</title>\n",
       "<path d=\"M196.5,-830.3799C196.5,-822.1745 196.5,-812.7679 196.5,-803.8786\" fill=\"none\" stroke=\"#000000\"/>\n",
       "<polygon fill=\"#000000\" points=\"200.0001,-803.784 196.5,-793.784 193.0001,-803.784 200.0001,-803.784\" stroke=\"#000000\"/>\n",
       "</g>\n",
       "<!-- 140252205366416 -->\n",
       "<g class=\"node\" id=\"node5\">\n",
       "<title>140252205366416</title>\n",
       "<polygon fill=\"none\" points=\"42,-664.5 42,-710.5 351,-710.5 351,-664.5 42,-664.5\" stroke=\"#000000\"/>\n",
       "<text fill=\"#000000\" font-family=\"Times,serif\" font-size=\"14.00\" text-anchor=\"middle\" x=\"103.5\" y=\"-683.8\">conv2d_3: Conv2D</text>\n",
       "<polyline fill=\"none\" points=\"165,-664.5 165,-710.5 \" stroke=\"#000000\"/>\n",
       "<text fill=\"#000000\" font-family=\"Times,serif\" font-size=\"14.00\" text-anchor=\"middle\" x=\"192.5\" y=\"-695.3\">input:</text>\n",
       "<polyline fill=\"none\" points=\"165,-687.5 220,-687.5 \" stroke=\"#000000\"/>\n",
       "<text fill=\"#000000\" font-family=\"Times,serif\" font-size=\"14.00\" text-anchor=\"middle\" x=\"192.5\" y=\"-672.3\">output:</text>\n",
       "<polyline fill=\"none\" points=\"220,-664.5 220,-710.5 \" stroke=\"#000000\"/>\n",
       "<text fill=\"#000000\" font-family=\"Times,serif\" font-size=\"14.00\" text-anchor=\"middle\" x=\"285.5\" y=\"-695.3\">(None, 100, 100, 32)</text>\n",
       "<polyline fill=\"none\" points=\"220,-687.5 351,-687.5 \" stroke=\"#000000\"/>\n",
       "<text fill=\"#000000\" font-family=\"Times,serif\" font-size=\"14.00\" text-anchor=\"middle\" x=\"285.5\" y=\"-672.3\">(None, 100, 100, 32)</text>\n",
       "</g>\n",
       "<!-- 140252209562384&#45;&gt;140252205366416 -->\n",
       "<g class=\"edge\" id=\"edge4\">\n",
       "<title>140252209562384-&gt;140252205366416</title>\n",
       "<path d=\"M196.5,-747.3799C196.5,-739.1745 196.5,-729.7679 196.5,-720.8786\" fill=\"none\" stroke=\"#000000\"/>\n",
       "<polygon fill=\"#000000\" points=\"200.0001,-720.784 196.5,-710.784 193.0001,-720.784 200.0001,-720.784\" stroke=\"#000000\"/>\n",
       "</g>\n",
       "<!-- 140252271753680 -->\n",
       "<g class=\"node\" id=\"node6\">\n",
       "<title>140252271753680</title>\n",
       "<polygon fill=\"none\" points=\"42,-581.5 42,-627.5 351,-627.5 351,-581.5 42,-581.5\" stroke=\"#000000\"/>\n",
       "<text fill=\"#000000\" font-family=\"Times,serif\" font-size=\"14.00\" text-anchor=\"middle\" x=\"103.5\" y=\"-600.8\">conv2d_4: Conv2D</text>\n",
       "<polyline fill=\"none\" points=\"165,-581.5 165,-627.5 \" stroke=\"#000000\"/>\n",
       "<text fill=\"#000000\" font-family=\"Times,serif\" font-size=\"14.00\" text-anchor=\"middle\" x=\"192.5\" y=\"-612.3\">input:</text>\n",
       "<polyline fill=\"none\" points=\"165,-604.5 220,-604.5 \" stroke=\"#000000\"/>\n",
       "<text fill=\"#000000\" font-family=\"Times,serif\" font-size=\"14.00\" text-anchor=\"middle\" x=\"192.5\" y=\"-589.3\">output:</text>\n",
       "<polyline fill=\"none\" points=\"220,-581.5 220,-627.5 \" stroke=\"#000000\"/>\n",
       "<text fill=\"#000000\" font-family=\"Times,serif\" font-size=\"14.00\" text-anchor=\"middle\" x=\"285.5\" y=\"-612.3\">(None, 100, 100, 32)</text>\n",
       "<polyline fill=\"none\" points=\"220,-604.5 351,-604.5 \" stroke=\"#000000\"/>\n",
       "<text fill=\"#000000\" font-family=\"Times,serif\" font-size=\"14.00\" text-anchor=\"middle\" x=\"285.5\" y=\"-589.3\">(None, 100, 100, 32)</text>\n",
       "</g>\n",
       "<!-- 140252205366416&#45;&gt;140252271753680 -->\n",
       "<g class=\"edge\" id=\"edge5\">\n",
       "<title>140252205366416-&gt;140252271753680</title>\n",
       "<path d=\"M196.5,-664.3799C196.5,-656.1745 196.5,-646.7679 196.5,-637.8786\" fill=\"none\" stroke=\"#000000\"/>\n",
       "<polygon fill=\"#000000\" points=\"200.0001,-637.784 196.5,-627.784 193.0001,-637.784 200.0001,-637.784\" stroke=\"#000000\"/>\n",
       "</g>\n",
       "<!-- 140252271353552 -->\n",
       "<g class=\"node\" id=\"node7\">\n",
       "<title>140252271353552</title>\n",
       "<polygon fill=\"none\" points=\"42,-498.5 42,-544.5 351,-544.5 351,-498.5 42,-498.5\" stroke=\"#000000\"/>\n",
       "<text fill=\"#000000\" font-family=\"Times,serif\" font-size=\"14.00\" text-anchor=\"middle\" x=\"103.5\" y=\"-517.8\">conv2d_5: Conv2D</text>\n",
       "<polyline fill=\"none\" points=\"165,-498.5 165,-544.5 \" stroke=\"#000000\"/>\n",
       "<text fill=\"#000000\" font-family=\"Times,serif\" font-size=\"14.00\" text-anchor=\"middle\" x=\"192.5\" y=\"-529.3\">input:</text>\n",
       "<polyline fill=\"none\" points=\"165,-521.5 220,-521.5 \" stroke=\"#000000\"/>\n",
       "<text fill=\"#000000\" font-family=\"Times,serif\" font-size=\"14.00\" text-anchor=\"middle\" x=\"192.5\" y=\"-506.3\">output:</text>\n",
       "<polyline fill=\"none\" points=\"220,-498.5 220,-544.5 \" stroke=\"#000000\"/>\n",
       "<text fill=\"#000000\" font-family=\"Times,serif\" font-size=\"14.00\" text-anchor=\"middle\" x=\"285.5\" y=\"-529.3\">(None, 100, 100, 32)</text>\n",
       "<polyline fill=\"none\" points=\"220,-521.5 351,-521.5 \" stroke=\"#000000\"/>\n",
       "<text fill=\"#000000\" font-family=\"Times,serif\" font-size=\"14.00\" text-anchor=\"middle\" x=\"285.5\" y=\"-506.3\">(None, 98, 98, 32)</text>\n",
       "</g>\n",
       "<!-- 140252271753680&#45;&gt;140252271353552 -->\n",
       "<g class=\"edge\" id=\"edge6\">\n",
       "<title>140252271753680-&gt;140252271353552</title>\n",
       "<path d=\"M196.5,-581.3799C196.5,-573.1745 196.5,-563.7679 196.5,-554.8786\" fill=\"none\" stroke=\"#000000\"/>\n",
       "<polygon fill=\"#000000\" points=\"200.0001,-554.784 196.5,-544.784 193.0001,-554.784 200.0001,-554.784\" stroke=\"#000000\"/>\n",
       "</g>\n",
       "<!-- 140252271043216 -->\n",
       "<g class=\"node\" id=\"node8\">\n",
       "<title>140252271043216</title>\n",
       "<polygon fill=\"none\" points=\"6.5,-415.5 6.5,-461.5 386.5,-461.5 386.5,-415.5 6.5,-415.5\" stroke=\"#000000\"/>\n",
       "<text fill=\"#000000\" font-family=\"Times,serif\" font-size=\"14.00\" text-anchor=\"middle\" x=\"110\" y=\"-434.8\">max_pooling2d_2: MaxPooling2D</text>\n",
       "<polyline fill=\"none\" points=\"213.5,-415.5 213.5,-461.5 \" stroke=\"#000000\"/>\n",
       "<text fill=\"#000000\" font-family=\"Times,serif\" font-size=\"14.00\" text-anchor=\"middle\" x=\"241\" y=\"-446.3\">input:</text>\n",
       "<polyline fill=\"none\" points=\"213.5,-438.5 268.5,-438.5 \" stroke=\"#000000\"/>\n",
       "<text fill=\"#000000\" font-family=\"Times,serif\" font-size=\"14.00\" text-anchor=\"middle\" x=\"241\" y=\"-423.3\">output:</text>\n",
       "<polyline fill=\"none\" points=\"268.5,-415.5 268.5,-461.5 \" stroke=\"#000000\"/>\n",
       "<text fill=\"#000000\" font-family=\"Times,serif\" font-size=\"14.00\" text-anchor=\"middle\" x=\"327.5\" y=\"-446.3\">(None, 98, 98, 32)</text>\n",
       "<polyline fill=\"none\" points=\"268.5,-438.5 386.5,-438.5 \" stroke=\"#000000\"/>\n",
       "<text fill=\"#000000\" font-family=\"Times,serif\" font-size=\"14.00\" text-anchor=\"middle\" x=\"327.5\" y=\"-423.3\">(None, 49, 49, 32)</text>\n",
       "</g>\n",
       "<!-- 140252271353552&#45;&gt;140252271043216 -->\n",
       "<g class=\"edge\" id=\"edge7\">\n",
       "<title>140252271353552-&gt;140252271043216</title>\n",
       "<path d=\"M196.5,-498.3799C196.5,-490.1745 196.5,-480.7679 196.5,-471.8786\" fill=\"none\" stroke=\"#000000\"/>\n",
       "<polygon fill=\"#000000\" points=\"200.0001,-471.784 196.5,-461.784 193.0001,-471.784 200.0001,-471.784\" stroke=\"#000000\"/>\n",
       "</g>\n",
       "<!-- 140252204830800 -->\n",
       "<g class=\"node\" id=\"node9\">\n",
       "<title>140252204830800</title>\n",
       "<polygon fill=\"none\" points=\"48.5,-332.5 48.5,-378.5 344.5,-378.5 344.5,-332.5 48.5,-332.5\" stroke=\"#000000\"/>\n",
       "<text fill=\"#000000\" font-family=\"Times,serif\" font-size=\"14.00\" text-anchor=\"middle\" x=\"110\" y=\"-351.8\">conv2d_6: Conv2D</text>\n",
       "<polyline fill=\"none\" points=\"171.5,-332.5 171.5,-378.5 \" stroke=\"#000000\"/>\n",
       "<text fill=\"#000000\" font-family=\"Times,serif\" font-size=\"14.00\" text-anchor=\"middle\" x=\"199\" y=\"-363.3\">input:</text>\n",
       "<polyline fill=\"none\" points=\"171.5,-355.5 226.5,-355.5 \" stroke=\"#000000\"/>\n",
       "<text fill=\"#000000\" font-family=\"Times,serif\" font-size=\"14.00\" text-anchor=\"middle\" x=\"199\" y=\"-340.3\">output:</text>\n",
       "<polyline fill=\"none\" points=\"226.5,-332.5 226.5,-378.5 \" stroke=\"#000000\"/>\n",
       "<text fill=\"#000000\" font-family=\"Times,serif\" font-size=\"14.00\" text-anchor=\"middle\" x=\"285.5\" y=\"-363.3\">(None, 49, 49, 32)</text>\n",
       "<polyline fill=\"none\" points=\"226.5,-355.5 344.5,-355.5 \" stroke=\"#000000\"/>\n",
       "<text fill=\"#000000\" font-family=\"Times,serif\" font-size=\"14.00\" text-anchor=\"middle\" x=\"285.5\" y=\"-340.3\">(None, 47, 47, 16)</text>\n",
       "</g>\n",
       "<!-- 140252271043216&#45;&gt;140252204830800 -->\n",
       "<g class=\"edge\" id=\"edge8\">\n",
       "<title>140252271043216-&gt;140252204830800</title>\n",
       "<path d=\"M196.5,-415.3799C196.5,-407.1745 196.5,-397.7679 196.5,-388.8786\" fill=\"none\" stroke=\"#000000\"/>\n",
       "<polygon fill=\"#000000\" points=\"200.0001,-388.784 196.5,-378.784 193.0001,-388.784 200.0001,-388.784\" stroke=\"#000000\"/>\n",
       "</g>\n",
       "<!-- 140252204833488 -->\n",
       "<g class=\"node\" id=\"node10\">\n",
       "<title>140252204833488</title>\n",
       "<polygon fill=\"none\" points=\"55,-249.5 55,-295.5 338,-295.5 338,-249.5 55,-249.5\" stroke=\"#000000\"/>\n",
       "<text fill=\"#000000\" font-family=\"Times,serif\" font-size=\"14.00\" text-anchor=\"middle\" x=\"110\" y=\"-268.8\">flatten_1: Flatten</text>\n",
       "<polyline fill=\"none\" points=\"165,-249.5 165,-295.5 \" stroke=\"#000000\"/>\n",
       "<text fill=\"#000000\" font-family=\"Times,serif\" font-size=\"14.00\" text-anchor=\"middle\" x=\"192.5\" y=\"-280.3\">input:</text>\n",
       "<polyline fill=\"none\" points=\"165,-272.5 220,-272.5 \" stroke=\"#000000\"/>\n",
       "<text fill=\"#000000\" font-family=\"Times,serif\" font-size=\"14.00\" text-anchor=\"middle\" x=\"192.5\" y=\"-257.3\">output:</text>\n",
       "<polyline fill=\"none\" points=\"220,-249.5 220,-295.5 \" stroke=\"#000000\"/>\n",
       "<text fill=\"#000000\" font-family=\"Times,serif\" font-size=\"14.00\" text-anchor=\"middle\" x=\"279\" y=\"-280.3\">(None, 47, 47, 16)</text>\n",
       "<polyline fill=\"none\" points=\"220,-272.5 338,-272.5 \" stroke=\"#000000\"/>\n",
       "<text fill=\"#000000\" font-family=\"Times,serif\" font-size=\"14.00\" text-anchor=\"middle\" x=\"279\" y=\"-257.3\">(None, 35344)</text>\n",
       "</g>\n",
       "<!-- 140252204830800&#45;&gt;140252204833488 -->\n",
       "<g class=\"edge\" id=\"edge9\">\n",
       "<title>140252204830800-&gt;140252204833488</title>\n",
       "<path d=\"M196.5,-332.3799C196.5,-324.1745 196.5,-314.7679 196.5,-305.8786\" fill=\"none\" stroke=\"#000000\"/>\n",
       "<polygon fill=\"#000000\" points=\"200.0001,-305.784 196.5,-295.784 193.0001,-305.784 200.0001,-305.784\" stroke=\"#000000\"/>\n",
       "</g>\n",
       "<!-- 140252271244624 -->\n",
       "<g class=\"node\" id=\"node11\">\n",
       "<title>140252271244624</title>\n",
       "<polygon fill=\"none\" points=\"70,-166.5 70,-212.5 323,-212.5 323,-166.5 70,-166.5\" stroke=\"#000000\"/>\n",
       "<text fill=\"#000000\" font-family=\"Times,serif\" font-size=\"14.00\" text-anchor=\"middle\" x=\"121\" y=\"-185.8\">dense_1: Dense</text>\n",
       "<polyline fill=\"none\" points=\"172,-166.5 172,-212.5 \" stroke=\"#000000\"/>\n",
       "<text fill=\"#000000\" font-family=\"Times,serif\" font-size=\"14.00\" text-anchor=\"middle\" x=\"199.5\" y=\"-197.3\">input:</text>\n",
       "<polyline fill=\"none\" points=\"172,-189.5 227,-189.5 \" stroke=\"#000000\"/>\n",
       "<text fill=\"#000000\" font-family=\"Times,serif\" font-size=\"14.00\" text-anchor=\"middle\" x=\"199.5\" y=\"-174.3\">output:</text>\n",
       "<polyline fill=\"none\" points=\"227,-166.5 227,-212.5 \" stroke=\"#000000\"/>\n",
       "<text fill=\"#000000\" font-family=\"Times,serif\" font-size=\"14.00\" text-anchor=\"middle\" x=\"275\" y=\"-197.3\">(None, 35344)</text>\n",
       "<polyline fill=\"none\" points=\"227,-189.5 323,-189.5 \" stroke=\"#000000\"/>\n",
       "<text fill=\"#000000\" font-family=\"Times,serif\" font-size=\"14.00\" text-anchor=\"middle\" x=\"275\" y=\"-174.3\">(None, 64)</text>\n",
       "</g>\n",
       "<!-- 140252204833488&#45;&gt;140252271244624 -->\n",
       "<g class=\"edge\" id=\"edge10\">\n",
       "<title>140252204833488-&gt;140252271244624</title>\n",
       "<path d=\"M196.5,-249.3799C196.5,-241.1745 196.5,-231.7679 196.5,-222.8786\" fill=\"none\" stroke=\"#000000\"/>\n",
       "<polygon fill=\"#000000\" points=\"200.0001,-222.784 196.5,-212.784 193.0001,-222.784 200.0001,-222.784\" stroke=\"#000000\"/>\n",
       "</g>\n",
       "<!-- 140252204546192 -->\n",
       "<g class=\"node\" id=\"node12\">\n",
       "<title>140252204546192</title>\n",
       "<polygon fill=\"none\" points=\"80,-83.5 80,-129.5 313,-129.5 313,-83.5 80,-83.5\" stroke=\"#000000\"/>\n",
       "<text fill=\"#000000\" font-family=\"Times,serif\" font-size=\"14.00\" text-anchor=\"middle\" x=\"131\" y=\"-102.8\">dense_2: Dense</text>\n",
       "<polyline fill=\"none\" points=\"182,-83.5 182,-129.5 \" stroke=\"#000000\"/>\n",
       "<text fill=\"#000000\" font-family=\"Times,serif\" font-size=\"14.00\" text-anchor=\"middle\" x=\"209.5\" y=\"-114.3\">input:</text>\n",
       "<polyline fill=\"none\" points=\"182,-106.5 237,-106.5 \" stroke=\"#000000\"/>\n",
       "<text fill=\"#000000\" font-family=\"Times,serif\" font-size=\"14.00\" text-anchor=\"middle\" x=\"209.5\" y=\"-91.3\">output:</text>\n",
       "<polyline fill=\"none\" points=\"237,-83.5 237,-129.5 \" stroke=\"#000000\"/>\n",
       "<text fill=\"#000000\" font-family=\"Times,serif\" font-size=\"14.00\" text-anchor=\"middle\" x=\"275\" y=\"-114.3\">(None, 64)</text>\n",
       "<polyline fill=\"none\" points=\"237,-106.5 313,-106.5 \" stroke=\"#000000\"/>\n",
       "<text fill=\"#000000\" font-family=\"Times,serif\" font-size=\"14.00\" text-anchor=\"middle\" x=\"275\" y=\"-91.3\">(None, 32)</text>\n",
       "</g>\n",
       "<!-- 140252271244624&#45;&gt;140252204546192 -->\n",
       "<g class=\"edge\" id=\"edge11\">\n",
       "<title>140252271244624-&gt;140252204546192</title>\n",
       "<path d=\"M196.5,-166.3799C196.5,-158.1745 196.5,-148.7679 196.5,-139.8786\" fill=\"none\" stroke=\"#000000\"/>\n",
       "<polygon fill=\"#000000\" points=\"200.0001,-139.784 196.5,-129.784 193.0001,-139.784 200.0001,-139.784\" stroke=\"#000000\"/>\n",
       "</g>\n",
       "<!-- 140252204651408 -->\n",
       "<g class=\"node\" id=\"node13\">\n",
       "<title>140252204651408</title>\n",
       "<polygon fill=\"none\" points=\"80,-.5 80,-46.5 313,-46.5 313,-.5 80,-.5\" stroke=\"#000000\"/>\n",
       "<text fill=\"#000000\" font-family=\"Times,serif\" font-size=\"14.00\" text-anchor=\"middle\" x=\"131\" y=\"-19.8\">dense_3: Dense</text>\n",
       "<polyline fill=\"none\" points=\"182,-.5 182,-46.5 \" stroke=\"#000000\"/>\n",
       "<text fill=\"#000000\" font-family=\"Times,serif\" font-size=\"14.00\" text-anchor=\"middle\" x=\"209.5\" y=\"-31.3\">input:</text>\n",
       "<polyline fill=\"none\" points=\"182,-23.5 237,-23.5 \" stroke=\"#000000\"/>\n",
       "<text fill=\"#000000\" font-family=\"Times,serif\" font-size=\"14.00\" text-anchor=\"middle\" x=\"209.5\" y=\"-8.3\">output:</text>\n",
       "<polyline fill=\"none\" points=\"237,-.5 237,-46.5 \" stroke=\"#000000\"/>\n",
       "<text fill=\"#000000\" font-family=\"Times,serif\" font-size=\"14.00\" text-anchor=\"middle\" x=\"275\" y=\"-31.3\">(None, 32)</text>\n",
       "<polyline fill=\"none\" points=\"237,-23.5 313,-23.5 \" stroke=\"#000000\"/>\n",
       "<text fill=\"#000000\" font-family=\"Times,serif\" font-size=\"14.00\" text-anchor=\"middle\" x=\"275\" y=\"-8.3\">(None, 5)</text>\n",
       "</g>\n",
       "<!-- 140252204546192&#45;&gt;140252204651408 -->\n",
       "<g class=\"edge\" id=\"edge12\">\n",
       "<title>140252204546192-&gt;140252204651408</title>\n",
       "<path d=\"M196.5,-83.3799C196.5,-75.1745 196.5,-65.7679 196.5,-56.8786\" fill=\"none\" stroke=\"#000000\"/>\n",
       "<polygon fill=\"#000000\" points=\"200.0001,-56.784 196.5,-46.784 193.0001,-56.784 200.0001,-56.784\" stroke=\"#000000\"/>\n",
       "</g>\n",
       "</g>\n",
       "</svg>"
      ],
      "text/plain": [
       "<IPython.core.display.SVG object>"
      ]
     },
     "execution_count": 19,
     "metadata": {},
     "output_type": "execute_result"
    }
   ],
   "source": [
    "from IPython.display import SVG\n",
    "from keras.utils.vis_utils import model_to_dot\n",
    "\n",
    "SVG(model_to_dot(ti.model(), show_shapes=True).create(prog='dot', format='svg'))"
   ]
  }
 ],
 "metadata": {
  "_draft": {
   "nbviewer_url": "https://gist.github.com/06ecd7830e31f92de2460b48d905ac44"
  },
  "gist": {
   "data": {
    "description": "interaction_results.ipynb",
    "public": false
   },
   "id": "06ecd7830e31f92de2460b48d905ac44"
  },
  "kernelspec": {
   "display_name": "Python 2",
   "language": "python",
   "name": "python2"
  },
  "language_info": {
   "codemirror_mode": {
    "name": "ipython",
    "version": 2
   },
   "file_extension": ".py",
   "mimetype": "text/x-python",
   "name": "python",
   "nbconvert_exporter": "python",
   "pygments_lexer": "ipython2",
   "version": "2.7.14"
  },
  "toc": {
   "nav_menu": {
    "height": "175px",
    "width": "161px"
   },
   "number_sections": true,
   "sideBar": false,
   "skip_h1_title": false,
   "toc_cell": false,
   "toc_position": {},
   "toc_section_display": "block",
   "toc_window_display": false
  }
 },
 "nbformat": 4,
 "nbformat_minor": 2
}
