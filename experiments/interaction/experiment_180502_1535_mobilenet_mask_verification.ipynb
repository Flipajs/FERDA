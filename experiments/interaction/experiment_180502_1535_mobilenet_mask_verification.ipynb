{
 "cells": [
  {
   "cell_type": "code",
   "execution_count": 1,
   "metadata": {},
   "outputs": [
    {
     "name": "stdout",
     "output_type": "stream",
     "text": [
      "/home/matej/prace/ferda/ferda_github\n"
     ]
    }
   ],
   "source": [
    "# change wokring directory to the root of the project (where jupyter was started)\n",
    "import os\n",
    "import psutil\n",
    "%cd {psutil.Process(os.getpid()).parent().cwd()}"
   ]
  },
  {
   "cell_type": "code",
   "execution_count": 2,
   "metadata": {},
   "outputs": [
    {
     "name": "stdout",
     "output_type": "stream",
     "text": [
      "7f6c996a85ebb4d145e2ac2db288838933a2e316\n"
     ]
    }
   ],
   "source": [
    "!git rev-parse HEAD"
   ]
  },
  {
   "cell_type": "code",
   "execution_count": 3,
   "metadata": {},
   "outputs": [],
   "source": [
    "# !git checkout 7f6c996a85ebb4d145e2ac2db288838933a2e316"
   ]
  },
  {
   "cell_type": "code",
   "execution_count": 5,
   "metadata": {},
   "outputs": [
    {
     "name": "stderr",
     "output_type": "stream",
     "text": [
      "Using TensorFlow backend.\n"
     ]
    }
   ],
   "source": [
    "%matplotlib inline\n",
    "import matplotlib.pyplot as plt\n",
    "import h5py\n",
    "from imageio import imread\n",
    "import numpy as np\n",
    "import os\n",
    "from os.path import join\n",
    "import scripts.CNN.trash.train_interactions as train_interactions\n",
    "import pandas as pd\n",
    "import yaml\n",
    "import warnings\n",
    "pd.set_option('precision', 2)"
   ]
  },
  {
   "cell_type": "code",
   "execution_count": 6,
   "metadata": {},
   "outputs": [],
   "source": [
    "DATA_DIR = '/home/matej/prace/ferda/data/interactions/180326_1k_36rot_mask'\n",
    "EXPERIMENT_DIR = '/home/matej/prace/ferda/experiments/180502_1535_mobilenet_mask_verification'\n",
    "# SUB_EXPERIMENT = '0.9285714285714285'"
   ]
  },
  {
   "cell_type": "code",
   "execution_count": 8,
   "metadata": {},
   "outputs": [],
   "source": [
    "pred = pd.read_csv(join(EXPERIMENT_DIR, 'predictions.csv'))  # str(SUB_EXPERIMENT), \n",
    "with open(join(EXPERIMENT_DIR, 'config.yaml'), 'r') as fr:  # str(SUB_EXPERIMENT), \n",
    "    metadata = yaml.load(fr)\n",
    "ti = train_interactions.TrainInteractions(metadata['num_objects'])"
   ]
  },
  {
   "cell_type": "code",
   "execution_count": 10,
   "metadata": {},
   "outputs": [],
   "source": [
    "y_test = pd.read_csv(join(DATA_DIR, 'test.csv'))  \n",
    "for i in range(ti.num_objects):\n",
    "    y_test['%d_angle_deg' % i] *= -1"
   ]
  },
  {
   "cell_type": "code",
   "execution_count": 13,
   "metadata": {},
   "outputs": [],
   "source": [
    "# loss_alpha_batch = pd.read_csv(join(EXPERIMENT_DIR, 'results.csv'))    \n",
    "# loss_alpha_batch"
   ]
  },
  {
   "cell_type": "code",
   "execution_count": 14,
   "metadata": {},
   "outputs": [],
   "source": [
    "# loss_alpha_batch[loss_alpha_batch['loss_alpha'] == float(SUB_EXPERIMENT)]"
   ]
  },
  {
   "cell_type": "code",
   "execution_count": 17,
   "metadata": {
    "cell_style": "center"
   },
   "outputs": [],
   "source": [
    "# ax = loss_alpha_batch.plot('loss_alpha', ['xy MAE', 'angle MAE'], title='mean absolute errors')\n",
    "# ax.set_ylabel('deg, px')\n",
    "# ax.set_xlabel('alpha')\n",
    "# # ax.set_ylim(0, 24)\n",
    "# ax.vlines(SUB_EXPERIMENT, ax.get_ylim()[0], ax.get_ylim()[1],\n",
    "#           'r')\n",
    "# ax.legend(['xy', 'angle', 'best alpha'])"
   ]
  },
  {
   "cell_type": "markdown",
   "metadata": {},
   "source": [
    "# Predictions"
   ]
  },
  {
   "cell_type": "code",
   "execution_count": 18,
   "metadata": {},
   "outputs": [
    {
     "data": {
      "text/html": [
       "<div>\n",
       "<style scoped>\n",
       "    .dataframe tbody tr th:only-of-type {\n",
       "        vertical-align: middle;\n",
       "    }\n",
       "\n",
       "    .dataframe tbody tr th {\n",
       "        vertical-align: top;\n",
       "    }\n",
       "\n",
       "    .dataframe thead th {\n",
       "        text-align: right;\n",
       "    }\n",
       "</style>\n",
       "<table border=\"1\" class=\"dataframe\">\n",
       "  <thead>\n",
       "    <tr style=\"text-align: right;\">\n",
       "      <th></th>\n",
       "      <th>0_x</th>\n",
       "      <th>0_y</th>\n",
       "      <th>0_angle_deg</th>\n",
       "      <th>1_x</th>\n",
       "      <th>1_y</th>\n",
       "      <th>1_angle_deg</th>\n",
       "    </tr>\n",
       "  </thead>\n",
       "  <tbody>\n",
       "    <tr>\n",
       "      <th>count</th>\n",
       "      <td>3600.00</td>\n",
       "      <td>3600.00</td>\n",
       "      <td>3600.00</td>\n",
       "      <td>3600.00</td>\n",
       "      <td>3600.00</td>\n",
       "      <td>3600.00</td>\n",
       "    </tr>\n",
       "    <tr>\n",
       "      <th>mean</th>\n",
       "      <td>112.35</td>\n",
       "      <td>103.44</td>\n",
       "      <td>8.14</td>\n",
       "      <td>90.60</td>\n",
       "      <td>104.26</td>\n",
       "      <td>-7.95</td>\n",
       "    </tr>\n",
       "    <tr>\n",
       "      <th>std</th>\n",
       "      <td>7.99</td>\n",
       "      <td>15.93</td>\n",
       "      <td>49.92</td>\n",
       "      <td>8.08</td>\n",
       "      <td>15.70</td>\n",
       "      <td>44.97</td>\n",
       "    </tr>\n",
       "    <tr>\n",
       "      <th>min</th>\n",
       "      <td>89.41</td>\n",
       "      <td>67.24</td>\n",
       "      <td>-90.00</td>\n",
       "      <td>63.52</td>\n",
       "      <td>63.53</td>\n",
       "      <td>-90.00</td>\n",
       "    </tr>\n",
       "    <tr>\n",
       "      <th>25%</th>\n",
       "      <td>106.51</td>\n",
       "      <td>89.21</td>\n",
       "      <td>-34.77</td>\n",
       "      <td>84.86</td>\n",
       "      <td>90.87</td>\n",
       "      <td>-45.90</td>\n",
       "    </tr>\n",
       "    <tr>\n",
       "      <th>50%</th>\n",
       "      <td>112.32</td>\n",
       "      <td>103.08</td>\n",
       "      <td>12.89</td>\n",
       "      <td>90.46</td>\n",
       "      <td>104.59</td>\n",
       "      <td>-7.10</td>\n",
       "    </tr>\n",
       "    <tr>\n",
       "      <th>75%</th>\n",
       "      <td>118.64</td>\n",
       "      <td>117.94</td>\n",
       "      <td>51.46</td>\n",
       "      <td>95.90</td>\n",
       "      <td>118.31</td>\n",
       "      <td>29.05</td>\n",
       "    </tr>\n",
       "    <tr>\n",
       "      <th>max</th>\n",
       "      <td>134.63</td>\n",
       "      <td>140.93</td>\n",
       "      <td>89.94</td>\n",
       "      <td>118.40</td>\n",
       "      <td>140.55</td>\n",
       "      <td>85.91</td>\n",
       "    </tr>\n",
       "  </tbody>\n",
       "</table>\n",
       "</div>"
      ],
      "text/plain": [
       "           0_x      0_y  0_angle_deg      1_x      1_y  1_angle_deg\n",
       "count  3600.00  3600.00      3600.00  3600.00  3600.00      3600.00\n",
       "mean    112.35   103.44         8.14    90.60   104.26        -7.95\n",
       "std       7.99    15.93        49.92     8.08    15.70        44.97\n",
       "min      89.41    67.24       -90.00    63.52    63.53       -90.00\n",
       "25%     106.51    89.21       -34.77    84.86    90.87       -45.90\n",
       "50%     112.32   103.08        12.89    90.46   104.59        -7.10\n",
       "75%     118.64   117.94        51.46    95.90   118.31        29.05\n",
       "max     134.63   140.93        89.94   118.40   140.55        85.91"
      ]
     },
     "execution_count": 18,
     "metadata": {},
     "output_type": "execute_result"
    }
   ],
   "source": [
    "pred.describe()"
   ]
  },
  {
   "cell_type": "code",
   "execution_count": 20,
   "metadata": {
    "cell_style": "center"
   },
   "outputs": [
    {
     "data": {
      "image/png": "[encoded data removed]",
      "text/plain": [
       "<matplotlib.figure.Figure at 0x7f779297ec90>"
      ]
     },
     "metadata": {},
     "output_type": "display_data"
    },
    {
     "data": {
      "image/png": "[encoded data removed]",
      "text/plain": [
       "<matplotlib.figure.Figure at 0x7f77915bffd0>"
      ]
     },
     "metadata": {},
     "output_type": "display_data"
    }
   ],
   "source": [
    "for i in range(metadata['num_objects']):\n",
    "    plt.figure()\n",
    "    _ = plt.hist2d(pred['%d_x' % i], pred['%d_y' % i], bins=40, range=((0, 199), (0, 199)))"
   ]
  },
  {
   "cell_type": "code",
   "execution_count": 21,
   "metadata": {
    "cell_style": "split"
   },
   "outputs": [
    {
     "data": {
      "image/png": "[encoded data removed]",
      "text/plain": [
       "<matplotlib.figure.Figure at 0x7f7791587150>"
      ]
     },
     "metadata": {},
     "output_type": "display_data"
    },
    {
     "data": {
      "image/png": "[encoded data removed]",
      "text/plain": [
       "<matplotlib.figure.Figure at 0x7f778dd0c110>"
      ]
     },
     "metadata": {},
     "output_type": "display_data"
    }
   ],
   "source": [
    "for i in range(metadata['num_objects']):\n",
    "    plt.figure()\n",
    "    plt.title('predicted angles for object %d (deg)' % i)\n",
    "    (pred['%d_angle_deg' % i]).hist()"
   ]
  },
  {
   "cell_type": "code",
   "execution_count": 24,
   "metadata": {
    "cell_style": "split"
   },
   "outputs": [
    {
     "data": {
      "image/png": "[encoded data removed]",
      "text/plain": [
       "<matplotlib.figure.Figure at 0x7f77cb6cbb50>"
      ]
     },
     "metadata": {},
     "output_type": "display_data"
    },
    {
     "data": {
      "image/png": "[encoded data removed]",
      "text/plain": [
       "<matplotlib.figure.Figure at 0x7f778db79dd0>"
      ]
     },
     "metadata": {},
     "output_type": "display_data"
    }
   ],
   "source": [
    "for i in range(metadata['num_objects']):\n",
    "    plt.figure()\n",
    "    plt.title('predicted angles mod 180 for object %d (deg)' % i)\n",
    "    (pred['%d_angle_deg' % i] % 180).hist()"
   ]
  },
  {
   "cell_type": "markdown",
   "metadata": {},
   "source": [
    "# Prediction Errors"
   ]
  },
  {
   "cell_type": "code",
   "execution_count": 35,
   "metadata": {},
   "outputs": [],
   "source": [
    "errors, errors_xy, swap_indices = ti.match_pred_to_gt_numpy(pred[ti.array.columns()].values, y_test[ti.array.columns()].values)\n",
    "errors_angle = np.hstack([errors[:, ti.array.prop2idx_(i, 'angle_deg')] for i in range(metadata['num_objects'])])"
   ]
  },
  {
   "cell_type": "code",
   "execution_count": 46,
   "metadata": {},
   "outputs": [
    {
     "data": {
      "text/plain": [
       "(3600, 2)"
      ]
     },
     "execution_count": 46,
     "metadata": {},
     "output_type": "execute_result"
    }
   ],
   "source": [
    "errors_xy.shape"
   ]
  },
  {
   "cell_type": "code",
   "execution_count": 44,
   "metadata": {},
   "outputs": [
    {
     "data": {
      "text/plain": [
       "(3600, 2)"
      ]
     },
     "execution_count": 44,
     "metadata": {},
     "output_type": "execute_result"
    }
   ],
   "source": [
    "errors_angle.shape"
   ]
  },
  {
   "cell_type": "code",
   "execution_count": 47,
   "metadata": {
    "scrolled": true
   },
   "outputs": [
    {
     "data": {
      "text/html": [
       "<div>\n",
       "<style scoped>\n",
       "    .dataframe tbody tr th:only-of-type {\n",
       "        vertical-align: middle;\n",
       "    }\n",
       "\n",
       "    .dataframe tbody tr th {\n",
       "        vertical-align: top;\n",
       "    }\n",
       "\n",
       "    .dataframe thead th {\n",
       "        text-align: right;\n",
       "    }\n",
       "</style>\n",
       "<table border=\"1\" class=\"dataframe\">\n",
       "  <thead>\n",
       "    <tr style=\"text-align: right;\">\n",
       "      <th></th>\n",
       "      <th>xy (px)</th>\n",
       "      <th>angle (deg)</th>\n",
       "    </tr>\n",
       "  </thead>\n",
       "  <tbody>\n",
       "    <tr>\n",
       "      <th>0</th>\n",
       "      <td>7.2</td>\n",
       "      <td>9.68</td>\n",
       "    </tr>\n",
       "  </tbody>\n",
       "</table>\n",
       "</div>"
      ],
      "text/plain": [
       "   xy (px)  angle (deg)\n",
       "0      7.2         9.68"
      ]
     },
     "execution_count": 47,
     "metadata": {},
     "output_type": "execute_result"
    }
   ],
   "source": [
    "df = pd.DataFrame.from_items([('xy (px)', [errors_xy.mean()]), \n",
    "                              ('angle (deg)', errors_angle.mean()),])\n",
    "df.style.set_caption('MAE')\n",
    "df"
   ]
  },
  {
   "cell_type": "code",
   "execution_count": 43,
   "metadata": {
    "cell_style": "split",
    "scrolled": true
   },
   "outputs": [
    {
     "data": {
      "image/png": "[encoded data removed]",
      "text/plain": [
       "<matplotlib.figure.Figure at 0x7f778d712a10>"
      ]
     },
     "metadata": {},
     "output_type": "display_data"
    }
   ],
   "source": [
    "_  = plt.hist(errors_xy.flatten(), 20)"
   ]
  },
  {
   "cell_type": "code",
   "execution_count": 66,
   "metadata": {},
   "outputs": [
    {
     "data": {
      "image/png": "[encoded data removed]",
      "text/plain": [
       "<matplotlib.figure.Figure at 0x7f778d3a3910>"
      ]
     },
     "metadata": {},
     "output_type": "display_data"
    }
   ],
   "source": [
    "plt.figure(figsize=(10, 7))\n",
    "_ = plt.hist(errors_xy, 20, label=['regressor {}'.format(i) for i in range(metadata['num_objects'])])\n",
    "plt.legend()\n",
    "_ = plt.title('localization errors (px)')    "
   ]
  },
  {
   "cell_type": "code",
   "execution_count": 49,
   "metadata": {
    "cell_style": "split"
   },
   "outputs": [
    {
     "data": {
      "image/png": "[encoded data removed]",
      "text/plain": [
       "<matplotlib.figure.Figure at 0x7f778d566250>"
      ]
     },
     "metadata": {},
     "output_type": "display_data"
    }
   ],
   "source": [
    "_ = plt.hist(errors_angle.flatten(), 20) # , range=(0, 20))"
   ]
  },
  {
   "cell_type": "code",
   "execution_count": 65,
   "metadata": {},
   "outputs": [
    {
     "data": {
      "image/png": "[encoded data removed]",
      "text/plain": [
       "<matplotlib.figure.Figure at 0x7f778d500350>"
      ]
     },
     "metadata": {},
     "output_type": "display_data"
    }
   ],
   "source": [
    "plt.figure(figsize=(10, 7))\n",
    "_ = plt.hist(errors_angle, 20, label=['regressor {}'.format(i) for i in range(metadata['num_objects'])])\n",
    "plt.legend()\n",
    "_ = plt.title('angle errors (deg)')"
   ]
  }
 ],
 "metadata": {
  "_draft": {
   "nbviewer_url": "https://gist.github.com/06ecd7830e31f92de2460b48d905ac44"
  },
  "gist": {
   "data": {
    "description": "interaction_results.ipynb",
    "public": false
   },
   "id": "06ecd7830e31f92de2460b48d905ac44"
  },
  "kernelspec": {
   "display_name": "Python 2",
   "language": "python",
   "name": "python2"
  },
  "language_info": {
   "codemirror_mode": {
    "name": "ipython",
    "version": 2
   },
   "file_extension": ".py",
   "mimetype": "text/x-python",
   "name": "python",
   "nbconvert_exporter": "python",
   "pygments_lexer": "ipython2",
   "version": "2.7.14"
  },
  "toc": {
   "nav_menu": {
    "height": "175px",
    "width": "161px"
   },
   "number_sections": true,
   "sideBar": false,
   "skip_h1_title": false,
   "toc_cell": false,
   "toc_position": {},
   "toc_section_display": "block",
   "toc_window_display": false
  }
 },
 "nbformat": 4,
 "nbformat_minor": 2
}
