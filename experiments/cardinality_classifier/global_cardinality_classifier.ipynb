{
 "cells": [
  {
   "cell_type": "code",
   "execution_count": 109,
   "metadata": {
    "collapsed": true
   },
   "outputs": [
    {
     "name": "stdout",
     "output_type": "stream",
     "text": [
      "Initializing db at /Users/flipajs/Documents/wd/ferda/180819_Sowbug3_cut_new_setup/rm.sqlite3 \n",
      "saving chm\n",
      "saving GM\n"
     ]
    }
   ],
   "source": [
    "from core.project.project import Project\n",
    "from sys import maxsize\n",
    "import numpy as np\n",
    "import time\n",
    "\n",
    "p = Project()\n",
    "# p.load('/Users/flipajs/Documents/wd/180713_1633_Cam1_clip_initial')\n",
    "p.load('/Users/flipajs/Documents/wd/ferda/180819_Sowbug3_cut_new_setup')\n",
    "# p.load('/Users/flipajs/Documents/wd/ferda/180811_0832_5Zebrafish_nocover_22min_fixed_cardinality')\n",
    "# p.load('/Users/flipajs/Documents/wd/ferda/180811_0205_Camera3-5min_fixed_cardinality')"
   ]
  },
  {
   "cell_type": "code",
   "execution_count": 88,
   "metadata": {
    "collapsed": true
   },
   "outputs": [
    {
     "name": "stdout",
     "output_type": "stream",
     "text": [
      "0\n",
      "GT was sucessfully loaded from data/GT/Sowbug3.pkl\n"
     ]
    },
    {
     "data": {
      "text/plain": [
       "HBox(children=(IntProgress(value=0, max=138), HTML(value=u'')))"
      ]
     },
     "execution_count": 0,
     "metadata": {},
     "output_type": "execute_result"
    },
    {
     "name": "stderr",
     "output_type": "stream",
     "text": [
      "100%|██████████| 967/967 [00:01<00:00, 643.60it/s]\n",
      "100%|██████████| 1687/1687 [00:02<00:00, 766.01it/s]\n",
      "100%|██████████| 4/4 [00:00<00:00, 546.45it/s]\n",
      "100%|██████████| 14/14 [00:00<00:00, 542.39it/s]\n",
      "100%|██████████| 1183/1183 [00:01<00:00, 806.76it/s]\n",
      "100%|██████████| 31/31 [00:00<00:00, 629.58it/s]\n",
      "100%|██████████| 108/108 [00:00<00:00, 870.18it/s]\n",
      "100%|██████████| 20/20 [00:00<00:00, 599.68it/s]\n",
      "100%|██████████| 389/389 [00:00<00:00, 854.50it/s]\n",
      "100%|██████████| 33/33 [00:00<00:00, 852.03it/s]\n",
      "100%|██████████| 8/8 [00:00<00:00, 516.63it/s]\n",
      "100%|██████████| 139/139 [00:00<00:00, 702.72it/s]\n",
      "100%|██████████| 6/6 [00:00<00:00, 667.49it/s]\n",
      "100%|██████████| 107/107 [00:00<00:00, 792.59it/s]\n",
      "100%|██████████| 75/75 [00:00<00:00, 891.29it/s]\n",
      "100%|██████████| 10/10 [00:00<00:00, 658.46it/s]\n",
      "100%|██████████| 133/133 [00:00<00:00, 638.56it/s]\n",
      "100%|██████████| 15/15 [00:00<00:00, 811.08it/s]\n",
      "100%|██████████| 8/8 [00:00<00:00, 705.34it/s]\n",
      "100%|██████████| 1/1 [00:00<00:00, 598.08it/s]\n",
      "100%|██████████| 1/1 [00:00<00:00, 575.67it/s]\n",
      "100%|██████████| 1/1 [00:00<00:00, 664.81it/s]\n",
      "100%|██████████| 1747/1747 [00:02<00:00, 636.72it/s]\n",
      "100%|██████████| 3/3 [00:00<00:00, 720.09it/s]\n",
      "100%|██████████| 93/93 [00:00<00:00, 670.76it/s]\n",
      "100%|██████████| 118/118 [00:00<00:00, 822.66it/s]\n",
      "100%|██████████| 116/116 [00:00<00:00, 642.61it/s]\n",
      "100%|██████████| 24/24 [00:00<00:00, 816.38it/s]\n",
      "100%|██████████| 1/1 [00:00<00:00, 544.36it/s]\n",
      "100%|██████████| 40/40 [00:00<00:00, 659.73it/s]\n",
      "100%|██████████| 30/30 [00:00<00:00, 867.23it/s]\n",
      "100%|██████████| 1/1 [00:00<00:00, 627.33it/s]\n",
      "100%|██████████| 112/112 [00:00<00:00, 609.88it/s]\n",
      "100%|██████████| 34/34 [00:00<00:00, 740.02it/s]\n",
      "100%|██████████| 41/41 [00:00<00:00, 778.02it/s]\n",
      "100%|██████████| 108/108 [00:00<00:00, 884.09it/s]\n",
      "100%|██████████| 1/1 [00:00<00:00, 615.00it/s]\n",
      "100%|██████████| 6/6 [00:00<00:00, 753.31it/s]\n",
      "100%|██████████| 238/238 [00:00<00:00, 874.35it/s]\n",
      "100%|██████████| 1/1 [00:00<00:00, 523.31it/s]\n",
      "100%|██████████| 1/1 [00:00<00:00, 603.50it/s]\n",
      "100%|██████████| 52/52 [00:00<00:00, 848.32it/s]\n",
      "100%|██████████| 14/14 [00:00<00:00, 747.51it/s]\n",
      "100%|██████████| 2/2 [00:00<00:00, 598.63it/s]\n",
      "100%|██████████| 1/1 [00:00<00:00, 568.80it/s]\n",
      "100%|██████████| 1/1 [00:00<00:00, 611.24it/s]\n",
      "100%|██████████| 1/1 [00:00<00:00, 754.24it/s]\n",
      "100%|██████████| 1/1 [00:00<00:00, 753.56it/s]\n",
      "100%|██████████| 9/9 [00:00<00:00, 792.61it/s]\n",
      "100%|██████████| 1/1 [00:00<00:00, 732.12it/s]\n",
      "100%|██████████| 1/1 [00:00<00:00, 758.05it/s]\n",
      "100%|██████████| 6/6 [00:00<00:00, 793.75it/s]\n",
      "100%|██████████| 24/24 [00:00<00:00, 852.57it/s]\n",
      "100%|██████████| 1/1 [00:00<00:00, 757.09it/s]\n",
      "100%|██████████| 1/1 [00:00<00:00, 754.78it/s]\n",
      "100%|██████████| 2/2 [00:00<00:00, 535.19it/s]\n",
      "100%|██████████| 1000/1000 [00:01<00:00, 847.72it/s]\n",
      "100%|██████████| 4/4 [00:00<00:00, 742.39it/s]\n",
      "100%|██████████| 2/2 [00:00<00:00, 727.86it/s]\n",
      "100%|██████████| 1/1 [00:00<00:00, 783.69it/s]\n",
      "100%|██████████| 1/1 [00:00<00:00, 559.54it/s]\n",
      "100%|██████████| 686/686 [00:00<00:00, 839.72it/s]\n",
      "100%|██████████| 748/748 [00:00<00:00, 881.47it/s]\n",
      "100%|██████████| 17/17 [00:00<00:00, 871.00it/s]\n",
      "100%|██████████| 3/3 [00:00<00:00, 865.34it/s]\n",
      "100%|██████████| 33/33 [00:00<00:00, 886.08it/s]\n",
      "100%|██████████| 1/1 [00:00<00:00, 769.31it/s]\n",
      "100%|██████████| 1/1 [00:00<00:00, 751.94it/s]\n",
      "100%|██████████| 2/2 [00:00<00:00, 806.13it/s]\n",
      "100%|██████████| 3/3 [00:00<00:00, 802.38it/s]\n",
      "100%|██████████| 17/17 [00:00<00:00, 856.85it/s]\n",
      "100%|██████████| 5/5 [00:00<00:00, 881.67it/s]\n",
      "100%|██████████| 5/5 [00:00<00:00, 819.14it/s]\n",
      "100%|██████████| 8/8 [00:00<00:00, 870.50it/s]\n",
      "100%|██████████| 3/3 [00:00<00:00, 840.09it/s]\n",
      "100%|██████████| 1/1 [00:00<00:00, 684.45it/s]\n",
      "100%|██████████| 13/13 [00:00<00:00, 872.01it/s]\n",
      "100%|██████████| 825/825 [00:00<00:00, 866.53it/s]\n",
      "100%|██████████| 1617/1617 [00:01<00:00, 839.26it/s]\n",
      "100%|██████████| 82/82 [00:00<00:00, 857.58it/s]\n",
      "100%|██████████| 1/1 [00:00<00:00, 722.04it/s]\n",
      "100%|██████████| 84/84 [00:00<00:00, 801.42it/s]\n",
      "100%|██████████| 179/179 [00:00<00:00, 842.28it/s]\n",
      "100%|██████████| 13/13 [00:00<00:00, 870.79it/s]\n",
      "100%|██████████| 142/142 [00:00<00:00, 838.54it/s]\n",
      "100%|██████████| 34/34 [00:00<00:00, 885.74it/s]\n",
      "100%|██████████| 2/2 [00:00<00:00, 826.06it/s]\n",
      "100%|██████████| 164/164 [00:00<00:00, 748.60it/s]\n",
      "100%|██████████| 8/8 [00:00<00:00, 721.82it/s]\n",
      "100%|██████████| 30/30 [00:00<00:00, 893.71it/s]\n",
      "100%|██████████| 686/686 [00:00<00:00, 860.10it/s]\n",
      "100%|██████████| 20/20 [00:00<00:00, 747.47it/s]\n",
      "100%|██████████| 2/2 [00:00<00:00, 709.22it/s]\n",
      "100%|██████████| 65/65 [00:00<00:00, 847.84it/s]\n",
      "100%|██████████| 1306/1306 [00:01<00:00, 839.78it/s]\n",
      "100%|██████████| 1306/1306 [00:01<00:00, 864.29it/s]\n",
      "100%|██████████| 65/65 [00:00<00:00, 798.31it/s]\n",
      "100%|██████████| 42/42 [00:00<00:00, 839.44it/s]\n",
      "100%|██████████| 73/73 [00:00<00:00, 830.87it/s]\n",
      "100%|██████████| 82/82 [00:00<00:00, 842.82it/s]\n",
      "100%|██████████| 59/59 [00:00<00:00, 740.35it/s]\n",
      "100%|██████████| 2/2 [00:00<00:00, 834.69it/s]\n",
      "100%|██████████| 183/183 [00:00<00:00, 780.71it/s]\n",
      "100%|██████████| 28/28 [00:00<00:00, 883.67it/s]\n",
      "100%|██████████| 359/359 [00:00<00:00, 880.68it/s]\n",
      "100%|██████████| 234/234 [00:00<00:00, 858.66it/s]\n",
      "100%|██████████| 4/4 [00:00<00:00, 768.79it/s]\n",
      "100%|██████████| 240/240 [00:00<00:00, 895.43it/s]\n",
      "100%|██████████| 6/6 [00:00<00:00, 912.83it/s]\n",
      "100%|██████████| 68/68 [00:00<00:00, 877.12it/s]\n",
      "100%|██████████| 240/240 [00:00<00:00, 892.86it/s]\n",
      "100%|██████████| 595/595 [00:00<00:00, 860.69it/s]\n",
      "100%|██████████| 4/4 [00:00<00:00, 850.51it/s]\n",
      "100%|██████████| 116/116 [00:00<00:00, 831.94it/s]\n",
      "100%|██████████| 6/6 [00:00<00:00, 848.65it/s]\n",
      "100%|██████████| 3/3 [00:00<00:00, 849.16it/s]\n",
      "100%|██████████| 46/46 [00:00<00:00, 808.15it/s]\n",
      "100%|██████████| 453/453 [00:00<00:00, 877.27it/s]\n",
      "100%|██████████| 3/3 [00:00<00:00, 742.57it/s]\n",
      "100%|██████████| 30/30 [00:00<00:00, 893.95it/s]\n",
      "100%|██████████| 243/243 [00:00<00:00, 887.93it/s]\n",
      "100%|██████████| 3/3 [00:00<00:00, 816.12it/s]\n",
      "100%|██████████| 105/105 [00:00<00:00, 835.03it/s]\n",
      "100%|██████████| 1/1 [00:00<00:00, 713.80it/s]\n",
      "100%|██████████| 4/4 [00:00<00:00, 743.37it/s]\n",
      "100%|██████████| 5/5 [00:00<00:00, 823.61it/s]\n",
      "100%|██████████| 389/389 [00:00<00:00, 865.77it/s]\n",
      "100%|██████████| 4/4 [00:00<00:00, 753.15it/s]\n",
      "100%|██████████| 175/175 [00:00<00:00, 880.81it/s]\n",
      "100%|██████████| 28/28 [00:00<00:00, 884.76it/s]\n",
      "100%|██████████| 5/5 [00:00<00:00, 863.56it/s]\n",
      "100%|██████████| 101/101 [00:00<00:00, 874.97it/s]\n",
      "100%|██████████| 1/1 [00:00<00:00, 745.12it/s]\n",
      "100%|██████████| 28/28 [00:00<00:00, 908.91it/s]\n",
      "100%|██████████| 14/14 [00:00<00:00, 784.32it/s]\n",
      "100%|██████████| 37/37 [00:00<00:00, 879.66it/s]\n",
      "100%|██████████| 3/3 [00:00<00:00, 826.95it/s]\n",
      "100%|██████████| 4/4 [00:00<00:00, 875.27it/s]"
     ]
    },
    {
     "name": "stdout",
     "output_type": "stream",
     "text": [
      "\n"
     ]
    },
    {
     "name": "stderr",
     "output_type": "stream",
     "text": [
      "\n"
     ]
    }
   ],
   "source": [
    "from utils.gt.gt import GT\n",
    "import tqdm\n",
    "\n",
    "correct_labels = {}\n",
    "# gt_path = 'data/GT/Cam1_clip.avi.pkl'\n",
    "# gt_path = 'data/GT/5Zebrafish_nocover_22min.pkl'\n",
    "gt_path = 'data/GT/Sowbug3.pkl'\n",
    "# gt_path = 'data/GT/Camera3-5min.mp4.pkl'\n",
    "print(p.video_start_t)\n",
    "gt = GT()\n",
    "gt.load(gt_path)\n",
    "\n",
    "cy, cx = 0, 0\n",
    "frame_offset = p.video_start_t\n",
    "# TODO: only for Sowbugs3\n",
    "frame_offset = 806\n",
    "if p.video_crop_model is not None:\n",
    "    cy = p.video_crop_model['y1']\n",
    "    cx = p.video_crop_model['x1']\n",
    "\n",
    "gt.set_offset(y=cy,\n",
    "              x=cx,\n",
    "              frames=frame_offset)\n",
    "\n",
    "for tracklet in tqdm.tqdm_notebook(p.chm.tracklet_gen(), total=len(p.chm)):\n",
    "    id_set = gt.tracklet_id_set(tracklet, p)\n",
    "\n",
    "    correct_labels[tracklet.id()] = len(id_set)"
   ]
  },
  {
   "cell_type": "code",
   "execution_count": 110,
   "metadata": {
    "collapsed": false
   },
   "outputs": [
    {
     "name": "stdout",
     "output_type": "stream",
     "text": [
      "#unique tracklets: 138, #collateral sets: 276\n"
     ]
    }
   ],
   "source": [
    "from experiments.cardinality_classifier import global_cardinality_classifier as g_cardinality_clf\n",
    "reload(g_cardinality_clf)\n",
    "collateral_sets = g_cardinality_clf.get_collateral_sets(p, max_frame=5000)\n",
    "tracklets = set([t for cs in collateral_sets for t in cs])\n",
    "print(\"#unique tracklets: {}, #collateral sets: {}\".format(len(tracklets), len(collateral_sets)))"
   ]
  },
  {
   "cell_type": "code",
   "execution_count": 111,
   "metadata": {
    "collapsed": true
   },
   "outputs": [
    {
     "name": "stdout",
     "output_type": "stream",
     "text": [
      "predecessors t: 0.0260760784149\n",
      "area median extraction time: 2.14833807945\n",
      "#animals 5, #tracklets: 138, #collateral sets: 276, mean area: 436.5\n",
      "relaxation_coef: 0\n",
      "var registration t: 0.0601828098297\n",
      "objective function: 0.571121931076\n",
      "constraints: 0.589616060257\n",
      "ILP construction tooks: 1.22222900391s\n",
      "('Status:', 'Optimal')\n",
      "('Total Cost = ', 1471383.0)\n",
      "time: 0.156780958176s\n",
      "1\n"
     ]
    }
   ],
   "source": [
    "t = time.time()\n",
    "predecessors = g_cardinality_clf.generate_predecessor_map(tracklets, p)\n",
    "successors = g_cardinality_clf.generate_successor_map(tracklets, p)\n",
    "print(\"predecessors t: {}\".format(time.time() - t))\n",
    "\n",
    "num_animals = len(p.animals)\n",
    "t = time.time()\n",
    "areas = g_cardinality_clf.get_median_areas(tracklets, p)\n",
    "# TODO: medain_area should probably be median from all areas...\n",
    "median_area = np.median(areas.values())\n",
    "print(\"area median extraction time: {}\".format(time.time() - t))\n",
    "area_relaxation_coef = 0\n",
    "\n",
    "print(\"#animals {}, #tracklets: {}, #collateral sets: {}, mean area: {}\".format(num_animals, len(tracklets), len(collateral_sets), median_area))\n",
    "\n",
    "cardinalities = g_cardinality_clf.build_ilp_and_solve(tracklets, collateral_sets, predecessors, successors, num_animals, \n",
    "                                                      median_area, areas, \n",
    "                                                      area_relaxation_coef=area_relaxation_coef, print_ilp=False)"
   ]
  },
  {
   "cell_type": "code",
   "execution_count": 91,
   "metadata": {},
   "outputs": [],
   "source": [
    "import copy\n",
    "# ants3_tracklets = copy.copy(tracklets)\n",
    "# ants3_cardinalities = copy.copy(cardinalities)\n",
    "\n",
    "# sowbug3_tracklets = copy.copy(tracklets)\n",
    "# sowbug3_cardinalities = copy.copy(cardinalities)\n",
    "\n",
    "# zebrafish_tracklets = copy.copy(tracklets)\n",
    "# zebrafish_cardinalities = copy.copy(cardinalities)\n",
    "# correct_labels[7586] = 1\n",
    "# correct_labels[4368] = 1\n",
    "# correct_labels[4349] = 1\n",
    "# correct_labels[4438] = 1"
   ]
  },
  {
   "cell_type": "code",
   "execution_count": 101,
   "metadata": {
    "collapsed": true
   },
   "outputs": [
    {
     "name": "stdout",
     "output_type": "stream",
     "text": [
      "COEF: 0, #mistakes: 0, len: 0\n",
      "------------------------------\n",
      "\n"
     ]
    }
   ],
   "source": [
    "tracklets_len = {t.id(): len(t) for t in tracklets}\n",
    "\n",
    "# for coef in [0, 0.1, 0.2, 0.3, 0.4, 0.5]:\n",
    "for coef in [0]:\n",
    "    # cardinalities = g_cardinality_clf.build_ilp_and_solve(tracklets, collateral_sets, predecessors, num_animals,\n",
    "    #                                                       median_area, areas, area_relaxation_coef=coef)\n",
    "    num_mistakes = 0\n",
    "    \n",
    "    tracklets_len_sum = 0\n",
    "    \n",
    "    for id in correct_labels.keys():\n",
    "        if correct_labels[id] != cardinalities[id]:\n",
    "            print(\"mistake, id: {}, correct cardinality: {}, estimated: {}\".format(id, correct_labels[id], cardinalities[id]))\n",
    "            num_mistakes += 1\n",
    "            tracklets_len_sum += tracklets_len[id]\n",
    "            \n",
    "    print(\"COEF: {}, #mistakes: {}, len: {}\".format(coef, num_mistakes, tracklets_len_sum))\n",
    "    print(\"------------------------------\\n\")"
   ]
  },
  {
   "cell_type": "code",
   "execution_count": 94,
   "metadata": {
    "collapsed": false
   },
   "outputs": [
    {
     "name": "stdout",
     "output_type": "stream",
     "text": [
      "mistake, id: 4722, correct cardinality: 1, estimated: no-ID\n",
      "mistake, id: 374, correct cardinality: 2, estimated: single-ID\n",
      "mistake, id: 4233, correct cardinality: 1, estimated: no-ID\n",
      "#mistakes: 3, len: 243\n",
      "------------------------------\n",
      "\n"
     ]
    }
   ],
   "source": [
    "num_mistakes = 0\n",
    "tracklets_len_sum = 0\n",
    "\n",
    "for t in tracklets:\n",
    "    try:\n",
    "        card = correct_labels[t.id()]\n",
    "        if card == 0 and t.is_noise():\n",
    "            pass\n",
    "        elif card == 1 and t.is_single():\n",
    "            pass\n",
    "        elif card > 1 and t.is_multi():\n",
    "            pass\n",
    "        else:\n",
    "            print(\"mistake, id: {}, correct cardinality: {}, estimated: {}\".format(t.id(), correct_labels[t.id()], t.segmentation_class_str()))\n",
    "            num_mistakes += 1\n",
    "            tracklets_len_sum += len(t)\n",
    "    except:\n",
    "        print(t.id())\n",
    "    \n",
    "print(\"#mistakes: {}, len: {}\".format(num_mistakes, tracklets_len_sum))\n",
    "print(\"------------------------------\\n\")"
   ]
  },
  {
   "cell_type": "code",
   "execution_count": null,
   "metadata": {},
   "outputs": [],
   "source": []
  }
 ],
 "metadata": {
  "kernelspec": {
   "display_name": "Python 2",
   "language": "python",
   "name": "python2"
  },
  "language_info": {
   "codemirror_mode": {
    "name": "ipython",
    "version": 2
   },
   "file_extension": ".py",
   "mimetype": "text/x-python",
   "name": "python",
   "nbconvert_exporter": "python",
   "pygments_lexer": "ipython2",
   "version": "2.7.15"
  }
 },
 "nbformat": 4,
 "nbformat_minor": 2
}
